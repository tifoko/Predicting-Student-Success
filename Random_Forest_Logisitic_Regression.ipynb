{
  "nbformat": 4,
  "nbformat_minor": 0,
  "metadata": {
    "colab": {
      "provenance": []
    },
    "kernelspec": {
      "name": "python3",
      "display_name": "Python 3"
    },
    "language_info": {
      "name": "python"
    }
  },
  "cells": [
    {
      "cell_type": "code",
      "source": [
        "pip install ucimlrepo"
      ],
      "metadata": {
        "colab": {
          "base_uri": "https://localhost:8080/"
        },
        "id": "h3wi6kemBdfW",
        "outputId": "2ea4e311-de79-4958-aeef-efdafdb8aa6b"
      },
      "execution_count": 1,
      "outputs": [
        {
          "output_type": "stream",
          "name": "stdout",
          "text": [
            "Collecting ucimlrepo\n",
            "  Downloading ucimlrepo-0.0.6-py3-none-any.whl (8.0 kB)\n",
            "Installing collected packages: ucimlrepo\n",
            "Successfully installed ucimlrepo-0.0.6\n"
          ]
        }
      ]
    },
    {
      "cell_type": "code",
      "execution_count": 2,
      "metadata": {
        "colab": {
          "base_uri": "https://localhost:8080/"
        },
        "id": "IcgY1O9nAzmi",
        "outputId": "50a9ef43-0993-482f-c31c-1d0f17ab0bbd"
      },
      "outputs": [
        {
          "output_type": "stream",
          "name": "stdout",
          "text": [
            "      Marital Status  Application mode  Application order  Course  \\\n",
            "0                  1                17                  5     171   \n",
            "1                  1                15                  1    9254   \n",
            "2                  1                 1                  5    9070   \n",
            "3                  1                17                  2    9773   \n",
            "4                  2                39                  1    8014   \n",
            "...              ...               ...                ...     ...   \n",
            "4419               1                 1                  6    9773   \n",
            "4420               1                 1                  2    9773   \n",
            "4421               1                 1                  1    9500   \n",
            "4422               1                 1                  1    9147   \n",
            "4423               1                10                  1    9773   \n",
            "\n",
            "      Daytime/evening attendance  Previous qualification  \\\n",
            "0                              1                       1   \n",
            "1                              1                       1   \n",
            "2                              1                       1   \n",
            "3                              1                       1   \n",
            "4                              0                       1   \n",
            "...                          ...                     ...   \n",
            "4419                           1                       1   \n",
            "4420                           1                       1   \n",
            "4421                           1                       1   \n",
            "4422                           1                       1   \n",
            "4423                           1                       1   \n",
            "\n",
            "      Previous qualification (grade)  Nacionality  Mother's qualification  \\\n",
            "0                              122.0            1                      19   \n",
            "1                              160.0            1                       1   \n",
            "2                              122.0            1                      37   \n",
            "3                              122.0            1                      38   \n",
            "4                              100.0            1                      37   \n",
            "...                              ...          ...                     ...   \n",
            "4419                           125.0            1                       1   \n",
            "4420                           120.0          105                       1   \n",
            "4421                           154.0            1                      37   \n",
            "4422                           180.0            1                      37   \n",
            "4423                           152.0           22                      38   \n",
            "\n",
            "      Father's qualification  ...  Curricular units 2nd sem (enrolled)  \\\n",
            "0                         12  ...                                    0   \n",
            "1                          3  ...                                    6   \n",
            "2                         37  ...                                    6   \n",
            "3                         37  ...                                    6   \n",
            "4                         38  ...                                    6   \n",
            "...                      ...  ...                                  ...   \n",
            "4419                       1  ...                                    6   \n",
            "4420                       1  ...                                    6   \n",
            "4421                      37  ...                                    8   \n",
            "4422                      37  ...                                    5   \n",
            "4423                      37  ...                                    6   \n",
            "\n",
            "      Curricular units 2nd sem (evaluations)  \\\n",
            "0                                          0   \n",
            "1                                          6   \n",
            "2                                          0   \n",
            "3                                         10   \n",
            "4                                          6   \n",
            "...                                      ...   \n",
            "4419                                       8   \n",
            "4420                                       6   \n",
            "4421                                       9   \n",
            "4422                                       6   \n",
            "4423                                       6   \n",
            "\n",
            "      Curricular units 2nd sem (approved)  Curricular units 2nd sem (grade)  \\\n",
            "0                                       0                          0.000000   \n",
            "1                                       6                         13.666667   \n",
            "2                                       0                          0.000000   \n",
            "3                                       5                         12.400000   \n",
            "4                                       6                         13.000000   \n",
            "...                                   ...                               ...   \n",
            "4419                                    5                         12.666667   \n",
            "4420                                    2                         11.000000   \n",
            "4421                                    1                         13.500000   \n",
            "4422                                    5                         12.000000   \n",
            "4423                                    6                         13.000000   \n",
            "\n",
            "      Curricular units 2nd sem (without evaluations)  Unemployment rate  \\\n",
            "0                                                  0               10.8   \n",
            "1                                                  0               13.9   \n",
            "2                                                  0               10.8   \n",
            "3                                                  0                9.4   \n",
            "4                                                  0               13.9   \n",
            "...                                              ...                ...   \n",
            "4419                                               0               15.5   \n",
            "4420                                               0               11.1   \n",
            "4421                                               0               13.9   \n",
            "4422                                               0                9.4   \n",
            "4423                                               0               12.7   \n",
            "\n",
            "      Inflation rate   GDP    Target  targetvalue  \n",
            "0                1.4  1.74   Dropout            0  \n",
            "1               -0.3  0.79  Graduate            2  \n",
            "2                1.4  1.74   Dropout            0  \n",
            "3               -0.8 -3.12  Graduate            2  \n",
            "4               -0.3  0.79  Graduate            2  \n",
            "...              ...   ...       ...          ...  \n",
            "4419             2.8 -4.06  Graduate            2  \n",
            "4420             0.6  2.02   Dropout            0  \n",
            "4421            -0.3  0.79   Dropout            0  \n",
            "4422            -0.8 -3.12  Graduate            2  \n",
            "4423             3.7 -1.70  Graduate            2  \n",
            "\n",
            "[4424 rows x 38 columns]\n"
          ]
        }
      ],
      "source": [
        "from ucimlrepo import fetch_ucirepo\n",
        "from mlxtend.frequent_patterns import apriori\n",
        "from mlxtend.frequent_patterns import association_rules\n",
        "import numpy as np\n",
        "import pandas as pd\n",
        "\n",
        "# Fetch dataset\n",
        "predict_students_dropout_and_academic_success = fetch_ucirepo(id=697)\n",
        "\n",
        "# Data (as pandas dataframes)\n",
        "X = predict_students_dropout_and_academic_success.data.features\n",
        "y = predict_students_dropout_and_academic_success.data.targets\n",
        "\n",
        "# Get feature names from metadata\n",
        "feature_names = predict_students_dropout_and_academic_success.metadata.features\n",
        "\n",
        "# Create dataframe for X and y\n",
        "df = pd.DataFrame(data=X, columns=feature_names)\n",
        "df['Target'] = y  # Adding the target variable to the dataframe\n",
        "#print(df)\n",
        "\n",
        "#First make another column based on the value of Target that is numeric\n",
        "#Define a dictionary to map target values to numeric representations\n",
        "\n",
        "target_mapping = {'Enrolled': 1, 'Dropout': 0, 'Graduate': 2}\n",
        "\n",
        "# Create a new column 'targetvalue' based on the mapped values of 'Target'\n",
        "df['targetvalue'] = df['Target'].map(target_mapping)\n",
        "\n",
        "df2= df.copy()\n",
        "print(df)\n"
      ]
    },
    {
      "cell_type": "code",
      "source": [
        "from sklearn.model_selection import train_test_split\n",
        "from sklearn.ensemble import RandomForestClassifier\n",
        "from sklearn.metrics import accuracy_score, classification_report, precision_score, recall_score\n",
        "import pandas as pd\n",
        "import numpy as np\n",
        "\n",
        "\n",
        "# Splitting the data into train and test sets\n",
        "X_train, X_test, y_train, y_test = train_test_split(df2.drop(columns=['Target', 'targetvalue']), df2['targetvalue'], test_size=0.2, random_state=42)\n",
        "\n",
        "# Initialize Random Forest classifier\n",
        "rf_classifier = RandomForestClassifier(n_estimators=100, random_state=42)\n",
        "\n",
        "# Train the classifier\n",
        "rf_classifier.fit(X_train, y_train)\n",
        "\n",
        "# Predictions on the test set\n",
        "y_pred = rf_classifier.predict(X_test)\n",
        "\n",
        "# Calculate accuracy\n",
        "accuracyRF = accuracy_score(y_test, y_pred)\n",
        "\n",
        "# Calculate precision and recall\n",
        "precisionRF = precision_score(y_test, y_pred, average='weighted')\n",
        "recallRF= recall_score(y_test, y_pred, average='weighted')\n",
        "\n",
        "print(\"\\nRandom Forest Accuracy:\", accuracyRF)\n",
        "print(\"\\nRandom Forest Precision:\", precisionRF)\n",
        "print(\"\\nRandom Forest Recall:\", recallRF)\n",
        "\n",
        "# Define the mapping from numeric labels to class names\n",
        "label_mapping = {\n",
        "    0: 'Dropout',\n",
        "    1: 'Enrolled',\n",
        "    2: 'Graduate'\n",
        "}\n",
        "\n",
        "# Classification report\n",
        "print(\"\\nRandom Forest Classification Report:\")\n",
        "print(classification_report(y_test, y_pred, target_names=[label_mapping[label] for label in np.unique(y_test)]))\n",
        "\n"
      ],
      "metadata": {
        "id": "JL117aGGIVr9",
        "colab": {
          "base_uri": "https://localhost:8080/"
        },
        "outputId": "ac530379-8ef0-41be-a33b-4c2d1f82713e"
      },
      "execution_count": 3,
      "outputs": [
        {
          "output_type": "stream",
          "name": "stderr",
          "text": [
            "/usr/local/lib/python3.10/dist-packages/ipykernel/ipkernel.py:283: DeprecationWarning: `should_run_async` will not call `transform_cell` automatically in the future. Please pass the result to `transformed_cell` argument and any exception that happen during thetransform in `preprocessing_exc_tuple` in IPython 7.17 and above.\n",
            "  and should_run_async(code)\n"
          ]
        },
        {
          "output_type": "stream",
          "name": "stdout",
          "text": [
            "\n",
            "Random Forest Accuracy: 0.7604519774011299\n",
            "\n",
            "Random Forest Precision: 0.7451482269849544\n",
            "\n",
            "Random Forest Recall: 0.7604519774011299\n",
            "\n",
            "Random Forest Classification Report:\n",
            "              precision    recall  f1-score   support\n",
            "\n",
            "     Dropout       0.85      0.77      0.81       316\n",
            "    Enrolled       0.49      0.30      0.37       151\n",
            "    Graduate       0.76      0.92      0.83       418\n",
            "\n",
            "    accuracy                           0.76       885\n",
            "   macro avg       0.70      0.66      0.67       885\n",
            "weighted avg       0.75      0.76      0.74       885\n",
            "\n"
          ]
        }
      ]
    },
    {
      "cell_type": "code",
      "source": [
        "from sklearn.model_selection import train_test_split\n",
        "from sklearn.linear_model import LogisticRegression\n",
        "from sklearn.metrics import accuracy_score, classification_report\n",
        "import pandas as pd\n",
        "\n",
        "df3= df.copy()\n",
        "# Assuming you have your dataset stored in a DataFrame called df2 with features and targetvalue column\n",
        "XLR = df3.drop(columns=['Target', 'targetvalue'])  # Features\n",
        "yLR = df3['targetvalue']  # Target\n",
        "\n",
        "# Splitting the data into train and test sets\n",
        "X_trainLR, X_testLR, y_trainLR, y_testLR = train_test_split(XLR, yLR, test_size=0.2, random_state=42)\n",
        "\n",
        "# Initialize Logistic Regression classifier\n",
        "logreg_classifier = LogisticRegression(solver = 'saga', max_iter=10000)\n",
        "\n",
        "# Train the classifier\n",
        "logreg_classifier.fit(X_trainLR, y_trainLR)\n",
        "\n",
        "# Predictions on the test set\n",
        "y_predLR = logreg_classifier.predict(X_testLR)\n"
      ],
      "metadata": {
        "colab": {
          "base_uri": "https://localhost:8080/"
        },
        "id": "KGtxR2_gKqLt",
        "outputId": "2b1ccd63-4ac0-41a1-c7d7-eaa09f5e0f49"
      },
      "execution_count": 4,
      "outputs": [
        {
          "output_type": "stream",
          "name": "stderr",
          "text": [
            "/usr/local/lib/python3.10/dist-packages/ipykernel/ipkernel.py:283: DeprecationWarning: `should_run_async` will not call `transform_cell` automatically in the future. Please pass the result to `transformed_cell` argument and any exception that happen during thetransform in `preprocessing_exc_tuple` in IPython 7.17 and above.\n",
            "  and should_run_async(code)\n"
          ]
        }
      ]
    },
    {
      "cell_type": "code",
      "source": [
        "from sklearn.metrics import accuracy_score, classification_report, precision_score, recall_score\n",
        "import pandas as pd\n",
        "import numpy as np\n",
        "\n",
        "\n",
        "# Calculate accuracy\n",
        "accuracyLR = accuracy_score(y_testLR, y_predLR)\n",
        "\n",
        "# Calculate precision and recall\n",
        "precisionLR = precision_score(y_testLR, y_predLR, average='weighted')\n",
        "recallLR = recall_score(y_testLR, y_predLR, average='weighted')\n",
        "\n",
        "#Format accuracy, precision, and recall to display 5 decimal places\n",
        "#Decided not to format but kept code incase\n",
        "#accuracy_formattedLR = \"{:.5f}\".format(accuracyLR)\n",
        "#precision_formattedLR = \"{:.5f}\".format(precisionLR)\n",
        "#recall_formattedLR = \"{:.5f}\".format(recallLR)\n",
        "\n",
        "# Define the mapping from numeric labels to class names\n",
        "label_mapping = {\n",
        "    0: 'Dropout',\n",
        "    1: 'Enrolled',\n",
        "    2: 'Graduate'\n",
        "}\n",
        "\n",
        "\n",
        "print(\"\\nLogistic Regression Accuracy :\", accuracyLR)\n",
        "print(\"\\nLogistic Regression Precision:\", precisionLR)\n",
        "print(\"\\nLogistic Regression Recall:\", recallLR)\n",
        "\n",
        "# Classification report\n",
        "print(\"\\nLogistic Regression Classification Report:\")\n",
        "print(classification_report(y_testLR, y_predLR, target_names=[label_mapping[label] for label in np.unique(y_testLR)]))\n"
      ],
      "metadata": {
        "colab": {
          "base_uri": "https://localhost:8080/"
        },
        "id": "z9shYj28LJCA",
        "outputId": "3c61586b-b5a7-4cc5-8e85-463e900ccdd4"
      },
      "execution_count": 5,
      "outputs": [
        {
          "output_type": "stream",
          "name": "stdout",
          "text": [
            "\n",
            "Logistic Regression Accuracy : 0.6994350282485876\n",
            "\n",
            "Logistic Regression Precision: 0.6847435980691386\n",
            "\n",
            "Logistic Regression Recall: 0.6994350282485876\n",
            "\n",
            "Logistic Regression Classification Report:\n",
            "              precision    recall  f1-score   support\n",
            "\n",
            "     Dropout       0.80      0.66      0.72       316\n",
            "    Enrolled       0.50      0.10      0.17       151\n",
            "    Graduate       0.67      0.95      0.78       418\n",
            "\n",
            "    accuracy                           0.70       885\n",
            "   macro avg       0.65      0.57      0.56       885\n",
            "weighted avg       0.68      0.70      0.66       885\n",
            "\n"
          ]
        },
        {
          "output_type": "stream",
          "name": "stderr",
          "text": [
            "/usr/local/lib/python3.10/dist-packages/ipykernel/ipkernel.py:283: DeprecationWarning: `should_run_async` will not call `transform_cell` automatically in the future. Please pass the result to `transformed_cell` argument and any exception that happen during thetransform in `preprocessing_exc_tuple` in IPython 7.17 and above.\n",
            "  and should_run_async(code)\n"
          ]
        }
      ]
    }
  ]
}