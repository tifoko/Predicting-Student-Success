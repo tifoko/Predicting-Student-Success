{
  "nbformat": 4,
  "nbformat_minor": 0,
  "metadata": {
    "colab": {
      "provenance": []
    },
    "kernelspec": {
      "name": "python3",
      "display_name": "Python 3"
    },
    "language_info": {
      "name": "python"
    }
  },
  "cells": [
    {
      "cell_type": "code",
      "execution_count": null,
      "metadata": {
        "colab": {
          "base_uri": "https://localhost:8080/"
        },
        "id": "-aHzNQi1nJQ8",
        "outputId": "6d320768-2c5d-4e25-a2fd-fc16d81a50dc"
      },
      "outputs": [
        {
          "output_type": "stream",
          "name": "stderr",
          "text": [
            "/usr/local/lib/python3.10/dist-packages/ipykernel/ipkernel.py:283: DeprecationWarning: `should_run_async` will not call `transform_cell` automatically in the future. Please pass the result to `transformed_cell` argument and any exception that happen during thetransform in `preprocessing_exc_tuple` in IPython 7.17 and above.\n",
            "  and should_run_async(code)\n"
          ]
        },
        {
          "output_type": "stream",
          "name": "stdout",
          "text": [
            "Requirement already satisfied: ucimlrepo in /usr/local/lib/python3.10/dist-packages (0.0.6)\n"
          ]
        }
      ],
      "source": [
        "pip install ucimlrepo"
      ]
    },
    {
      "cell_type": "code",
      "source": [
        "from ucimlrepo import fetch_ucirepo\n",
        "from mlxtend.frequent_patterns import apriori\n",
        "from mlxtend.frequent_patterns import association_rules\n",
        "import numpy as np\n",
        "import pandas as pd\n",
        "\n",
        "# Fetch dataset\n",
        "predict_students_dropout_and_academic_success = fetch_ucirepo(id=697)\n",
        "\n",
        "# Data (as pandas dataframes)\n",
        "X = predict_students_dropout_and_academic_success.data.features\n",
        "y = predict_students_dropout_and_academic_success.data.targets\n",
        "\n",
        "# Get feature names from metadata\n",
        "feature_names = predict_students_dropout_and_academic_success.metadata.features\n",
        "\n",
        "# Create dataframe for X and y\n",
        "df = pd.DataFrame(data=X, columns=feature_names)\n",
        "df['Target'] = y  # Adding the target variable to the dataframe\n",
        "#print(df)\n",
        "\n",
        "#First make another column based on the value of Target that is numeric\n",
        "#Define a dictionary to map target values to numeric representations\n",
        "\n",
        "target_mapping = {'Enrolled': 1, 'Dropout': 0, 'Graduate': 2}\n",
        "\n",
        "# Create a new column 'targetvalue' based on the mapped values of 'Target'\n",
        "df['targetvalue'] = df['Target'].map(target_mapping)\n",
        "\n",
        "df2= df.copy()\n",
        "print(df)\n"
      ],
      "metadata": {
        "colab": {
          "base_uri": "https://localhost:8080/"
        },
        "id": "l9ygs6LdnJ1e",
        "outputId": "76847288-781b-404b-a81e-d6daec184f3c"
      },
      "execution_count": null,
      "outputs": [
        {
          "output_type": "stream",
          "name": "stderr",
          "text": [
            "/usr/local/lib/python3.10/dist-packages/ipykernel/ipkernel.py:283: DeprecationWarning: `should_run_async` will not call `transform_cell` automatically in the future. Please pass the result to `transformed_cell` argument and any exception that happen during thetransform in `preprocessing_exc_tuple` in IPython 7.17 and above.\n",
            "  and should_run_async(code)\n"
          ]
        },
        {
          "output_type": "stream",
          "name": "stdout",
          "text": [
            "      Marital Status  Application mode  Application order  Course  \\\n",
            "0                  1                17                  5     171   \n",
            "1                  1                15                  1    9254   \n",
            "2                  1                 1                  5    9070   \n",
            "3                  1                17                  2    9773   \n",
            "4                  2                39                  1    8014   \n",
            "...              ...               ...                ...     ...   \n",
            "4419               1                 1                  6    9773   \n",
            "4420               1                 1                  2    9773   \n",
            "4421               1                 1                  1    9500   \n",
            "4422               1                 1                  1    9147   \n",
            "4423               1                10                  1    9773   \n",
            "\n",
            "      Daytime/evening attendance  Previous qualification  \\\n",
            "0                              1                       1   \n",
            "1                              1                       1   \n",
            "2                              1                       1   \n",
            "3                              1                       1   \n",
            "4                              0                       1   \n",
            "...                          ...                     ...   \n",
            "4419                           1                       1   \n",
            "4420                           1                       1   \n",
            "4421                           1                       1   \n",
            "4422                           1                       1   \n",
            "4423                           1                       1   \n",
            "\n",
            "      Previous qualification (grade)  Nacionality  Mother's qualification  \\\n",
            "0                              122.0            1                      19   \n",
            "1                              160.0            1                       1   \n",
            "2                              122.0            1                      37   \n",
            "3                              122.0            1                      38   \n",
            "4                              100.0            1                      37   \n",
            "...                              ...          ...                     ...   \n",
            "4419                           125.0            1                       1   \n",
            "4420                           120.0          105                       1   \n",
            "4421                           154.0            1                      37   \n",
            "4422                           180.0            1                      37   \n",
            "4423                           152.0           22                      38   \n",
            "\n",
            "      Father's qualification  ...  Curricular units 2nd sem (enrolled)  \\\n",
            "0                         12  ...                                    0   \n",
            "1                          3  ...                                    6   \n",
            "2                         37  ...                                    6   \n",
            "3                         37  ...                                    6   \n",
            "4                         38  ...                                    6   \n",
            "...                      ...  ...                                  ...   \n",
            "4419                       1  ...                                    6   \n",
            "4420                       1  ...                                    6   \n",
            "4421                      37  ...                                    8   \n",
            "4422                      37  ...                                    5   \n",
            "4423                      37  ...                                    6   \n",
            "\n",
            "      Curricular units 2nd sem (evaluations)  \\\n",
            "0                                          0   \n",
            "1                                          6   \n",
            "2                                          0   \n",
            "3                                         10   \n",
            "4                                          6   \n",
            "...                                      ...   \n",
            "4419                                       8   \n",
            "4420                                       6   \n",
            "4421                                       9   \n",
            "4422                                       6   \n",
            "4423                                       6   \n",
            "\n",
            "      Curricular units 2nd sem (approved)  Curricular units 2nd sem (grade)  \\\n",
            "0                                       0                          0.000000   \n",
            "1                                       6                         13.666667   \n",
            "2                                       0                          0.000000   \n",
            "3                                       5                         12.400000   \n",
            "4                                       6                         13.000000   \n",
            "...                                   ...                               ...   \n",
            "4419                                    5                         12.666667   \n",
            "4420                                    2                         11.000000   \n",
            "4421                                    1                         13.500000   \n",
            "4422                                    5                         12.000000   \n",
            "4423                                    6                         13.000000   \n",
            "\n",
            "      Curricular units 2nd sem (without evaluations)  Unemployment rate  \\\n",
            "0                                                  0               10.8   \n",
            "1                                                  0               13.9   \n",
            "2                                                  0               10.8   \n",
            "3                                                  0                9.4   \n",
            "4                                                  0               13.9   \n",
            "...                                              ...                ...   \n",
            "4419                                               0               15.5   \n",
            "4420                                               0               11.1   \n",
            "4421                                               0               13.9   \n",
            "4422                                               0                9.4   \n",
            "4423                                               0               12.7   \n",
            "\n",
            "      Inflation rate   GDP    Target  targetvalue  \n",
            "0                1.4  1.74   Dropout            0  \n",
            "1               -0.3  0.79  Graduate            2  \n",
            "2                1.4  1.74   Dropout            0  \n",
            "3               -0.8 -3.12  Graduate            2  \n",
            "4               -0.3  0.79  Graduate            2  \n",
            "...              ...   ...       ...          ...  \n",
            "4419             2.8 -4.06  Graduate            2  \n",
            "4420             0.6  2.02   Dropout            0  \n",
            "4421            -0.3  0.79   Dropout            0  \n",
            "4422            -0.8 -3.12  Graduate            2  \n",
            "4423             3.7 -1.70  Graduate            2  \n",
            "\n",
            "[4424 rows x 38 columns]\n"
          ]
        }
      ]
    },
    {
      "cell_type": "code",
      "source": [
        "from sklearn.model_selection import train_test_split\n",
        "from sklearn.naive_bayes import GaussianNB\n",
        "from sklearn.metrics import accuracy_score, classification_report, precision_score, recall_score\n",
        "import pandas as pd\n",
        "import numpy as np\n",
        "df2 = df.copy()\n",
        "# Splitting the data into train and test sets\n",
        "X_trainGNB, X_testGNB, y_trainGNB, y_testGNB = train_test_split(df2.drop(columns=['Target', 'targetvalue']), df2['targetvalue'], test_size=0.2, random_state=42)\n",
        "\n",
        "# Initialize Gaussian Naive Bayes classifier\n",
        "gnb_classifier = GaussianNB()\n",
        "\n",
        "# Train the classifier\n",
        "gnb_classifier.fit(X_trainGNB, y_trainGNB)\n",
        "\n",
        "# Predictions on the test set\n",
        "y_predGNB = gnb_classifier.predict(X_testGNB)\n",
        "\n",
        "# Calculate accuracy\n",
        "accuracyGNB = accuracy_score(y_testGNB, y_predGNB)\n",
        "\n",
        "# Calculate precision and recall\n",
        "precisionGNB = precision_score(y_testGNB, y_predGNB, average='weighted')\n",
        "recallGNB = recall_score(y_testGNB, y_predGNB, average='weighted')\n",
        "\n",
        "\n",
        "# Define the mapping from numeric labels to class names\n",
        "label_mapping = {\n",
        "    0: 'Dropout',\n",
        "    1: 'Enrolled',\n",
        "    2: 'Graduate'\n",
        "}\n",
        "\n",
        "print(\"\\nGaussian Naive Bayes Accuracy :\", accuracyGNB)\n",
        "print(\"\\nGaussian Naive Bayes Precision:\", precisionGNB)\n",
        "print(\"\\nGaussian Naive Bayes Recall:\", recallGNB)\n",
        "\n",
        "# Classification report with class names\n",
        "print(\"\\nGaussian Naive Bayes Classification Report:\")\n",
        "print(classification_report(y_testGNB, y_predGNB, target_names=[label_mapping[label] for label in np.unique(y_testGNB)]))"
      ],
      "metadata": {
        "colab": {
          "base_uri": "https://localhost:8080/"
        },
        "id": "qvSJyzLdnKEk",
        "outputId": "5cccbe7b-e027-4f7b-a05a-535478a5e17f"
      },
      "execution_count": null,
      "outputs": [
        {
          "output_type": "stream",
          "name": "stdout",
          "text": [
            "\n",
            "Gaussian Naive Bayes Accuracy : 0.6994350282485876\n",
            "\n",
            "Gaussian Naive Bayes Precision: 0.6877205039075661\n",
            "\n",
            "Gaussian Naive Bayes Recall: 0.6994350282485876\n",
            "\n",
            "Gaussian Naive Bayes Classification Report:\n",
            "              precision    recall  f1-score   support\n",
            "\n",
            "     Dropout       0.81      0.69      0.74       316\n",
            "    Enrolled       0.37      0.26      0.31       151\n",
            "    Graduate       0.71      0.86      0.78       418\n",
            "\n",
            "    accuracy                           0.70       885\n",
            "   macro avg       0.63      0.61      0.61       885\n",
            "weighted avg       0.69      0.70      0.69       885\n",
            "\n"
          ]
        },
        {
          "output_type": "stream",
          "name": "stderr",
          "text": [
            "/usr/local/lib/python3.10/dist-packages/ipykernel/ipkernel.py:283: DeprecationWarning: `should_run_async` will not call `transform_cell` automatically in the future. Please pass the result to `transformed_cell` argument and any exception that happen during thetransform in `preprocessing_exc_tuple` in IPython 7.17 and above.\n",
            "  and should_run_async(code)\n"
          ]
        }
      ]
    },
    {
      "cell_type": "code",
      "source": [
        "from sklearn.model_selection import train_test_split, cross_val_score, cross_val_predict\n",
        "from sklearn.naive_bayes import GaussianNB\n",
        "from sklearn.metrics import accuracy_score, precision_score, recall_score, classification_report\n",
        "import pandas as pd\n",
        "import numpy as np\n",
        "\n",
        "df3 = df.copy()\n",
        "\n",
        "# Split the data into features and target\n",
        "XCVGNB = df3.drop(columns=['Target', 'targetvalue'])  # Features\n",
        "yCVGNB = df3['targetvalue']  # Target\n",
        "\n",
        "# Splitting the data into train and test sets\n",
        "X_trainCVGNB, X_testCVGNB, y_trainCVGNB, y_testCVGNB = train_test_split(XCVGNB, yCVGNB, test_size=0.2, random_state=42)\n",
        "\n",
        "# Initialize Gaussian Naive Bayes classifier\n",
        "gnb_classifier = GaussianNB()\n",
        "\n",
        "# Perform 5-fold cross-validation using training data\n",
        "cv_scores = cross_val_score(gnb_classifier, X_trainCVGNB, y_trainCVGNB, cv=5)\n",
        "\n",
        "# Print cross-validation scores\n",
        "print(\"Cross-Validation Scores:\", cv_scores)\n",
        "print(\"Mean CV Score:\", np.mean(cv_scores))\n",
        "\n",
        "# Get the classification report using cross-validation\n",
        "cv_report = cross_val_predict(gnb_classifier, X_trainCVGNB, y_trainCVGNB, cv=5)\n",
        "\n",
        "# Calculate accuracy, precision, and recall using cross-validation\n",
        "accuracyCVGNB = accuracy_score(y_trainCVGNB, cv_report)\n",
        "precisionCVGNB = precision_score(y_trainCVGNB, cv_report, average='weighted')\n",
        "recallCVGNB = recall_score(y_trainCVGNB, cv_report, average='weighted')\n",
        "\n",
        "# Print accuracy, precision, and recall\n",
        "print(\"\\nAccuracy (CV):\", accuracyCVGNB)\n",
        "print(\"\\nPrecision (CV):\", precisionCVGNB)\n",
        "print(\"\\nRecall (CV):\", recallCVGNB)\n",
        "\n",
        "# Define the mapping from numeric labels to class names\n",
        "label_mapping = {\n",
        "    0: 'Dropout',\n",
        "    1: 'Enrolled',\n",
        "    2: 'Graduate'\n",
        "}\n",
        "# Print the classification report with class names\n",
        "print(\"\\nCross-Validation Classification Report:\")\n",
        "print(classification_report(y_trainCVGNB, cv_report, target_names=[label_mapping[label] for label in np.unique(y_trainCVGNB)]))\n"
      ],
      "metadata": {
        "colab": {
          "base_uri": "https://localhost:8080/"
        },
        "id": "RzlX7WrromMG",
        "outputId": "b3955f3c-1555-46f2-c88a-0fa9e30114dd"
      },
      "execution_count": null,
      "outputs": [
        {
          "output_type": "stream",
          "name": "stdout",
          "text": [
            "Cross-Validation Scores: [0.69067797 0.70621469 0.67655367 0.67655367 0.69306931]\n",
            "Mean CV Score: 0.6886138613861386\n",
            "\n",
            "Accuracy (CV): 0.688612602430065\n",
            "\n",
            "Precision (CV): 0.6691964591422425\n",
            "\n",
            "Recall (CV): 0.688612602430065\n",
            "\n",
            "Cross-Validation Classification Report:\n",
            "              precision    recall  f1-score   support\n",
            "\n",
            "     Dropout       0.74      0.68      0.71      1105\n",
            "    Enrolled       0.37      0.26      0.31       643\n",
            "    Graduate       0.73      0.85      0.79      1791\n",
            "\n",
            "    accuracy                           0.69      3539\n",
            "   macro avg       0.61      0.60      0.60      3539\n",
            "weighted avg       0.67      0.69      0.67      3539\n",
            "\n"
          ]
        },
        {
          "output_type": "stream",
          "name": "stderr",
          "text": [
            "/usr/local/lib/python3.10/dist-packages/ipykernel/ipkernel.py:283: DeprecationWarning: `should_run_async` will not call `transform_cell` automatically in the future. Please pass the result to `transformed_cell` argument and any exception that happen during thetransform in `preprocessing_exc_tuple` in IPython 7.17 and above.\n",
            "  and should_run_async(code)\n"
          ]
        }
      ]
    }
  ]
}