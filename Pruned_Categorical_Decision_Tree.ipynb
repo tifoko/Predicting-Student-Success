{
  "nbformat": 4,
  "nbformat_minor": 0,
  "metadata": {
    "colab": {
      "provenance": []
    },
    "kernelspec": {
      "name": "python3",
      "display_name": "Python 3"
    },
    "language_info": {
      "name": "python"
    }
  },
  "cells": [
    {
      "cell_type": "code",
      "source": [
        "pip install ucimlrepo"
      ],
      "metadata": {
        "colab": {
          "base_uri": "https://localhost:8080/"
        },
        "id": "h3wi6kemBdfW",
        "outputId": "9d8227f6-4e29-4afa-9383-ef8760aaf140"
      },
      "execution_count": 29,
      "outputs": [
        {
          "output_type": "stream",
          "name": "stderr",
          "text": [
            "/usr/local/lib/python3.10/dist-packages/ipykernel/ipkernel.py:283: DeprecationWarning: `should_run_async` will not call `transform_cell` automatically in the future. Please pass the result to `transformed_cell` argument and any exception that happen during thetransform in `preprocessing_exc_tuple` in IPython 7.17 and above.\n",
            "  and should_run_async(code)\n"
          ]
        },
        {
          "output_type": "stream",
          "name": "stdout",
          "text": [
            "Requirement already satisfied: ucimlrepo in /usr/local/lib/python3.10/dist-packages (0.0.6)\n"
          ]
        }
      ]
    },
    {
      "cell_type": "code",
      "execution_count": 30,
      "metadata": {
        "colab": {
          "base_uri": "https://localhost:8080/"
        },
        "id": "IcgY1O9nAzmi",
        "outputId": "4c6fc591-2d85-4c0e-9526-68fcfe683e5c"
      },
      "outputs": [
        {
          "output_type": "stream",
          "name": "stderr",
          "text": [
            "/usr/local/lib/python3.10/dist-packages/ipykernel/ipkernel.py:283: DeprecationWarning: `should_run_async` will not call `transform_cell` automatically in the future. Please pass the result to `transformed_cell` argument and any exception that happen during thetransform in `preprocessing_exc_tuple` in IPython 7.17 and above.\n",
            "  and should_run_async(code)\n"
          ]
        }
      ],
      "source": [
        "from ucimlrepo import fetch_ucirepo\n",
        "from mlxtend.frequent_patterns import apriori\n",
        "from mlxtend.frequent_patterns import association_rules\n",
        "import numpy as np\n",
        "import pandas as pd\n",
        "\n",
        "# Fetch dataset\n",
        "predict_students_dropout_and_academic_success = fetch_ucirepo(id=697)\n",
        "\n",
        "# Data (as pandas dataframes)\n",
        "X = predict_students_dropout_and_academic_success.data.features\n",
        "y = predict_students_dropout_and_academic_success.data.targets\n",
        "\n",
        "# Get feature names from metadata\n",
        "feature_names = predict_students_dropout_and_academic_success.metadata.features\n",
        "\n",
        "# Create dataframe for X and y\n",
        "df = pd.DataFrame(data=X, columns=feature_names)\n",
        "df['Target'] = y  # Adding the target variable to the dataframe\n",
        "\n",
        "#make a copy of the dataframe called df2 which will be modified\n",
        "df2 = df.copy()\n",
        "\n",
        "#print(df2)\n"
      ]
    },
    {
      "cell_type": "code",
      "source": [
        "#print out current column names\n",
        "df2.columns"
      ],
      "metadata": {
        "colab": {
          "base_uri": "https://localhost:8080/"
        },
        "id": "-k1SPrWQBozG",
        "outputId": "4fc50b0d-ab9c-40f8-878b-bb4cf6688631"
      },
      "execution_count": 31,
      "outputs": [
        {
          "output_type": "stream",
          "name": "stderr",
          "text": [
            "/usr/local/lib/python3.10/dist-packages/ipykernel/ipkernel.py:283: DeprecationWarning: `should_run_async` will not call `transform_cell` automatically in the future. Please pass the result to `transformed_cell` argument and any exception that happen during thetransform in `preprocessing_exc_tuple` in IPython 7.17 and above.\n",
            "  and should_run_async(code)\n"
          ]
        },
        {
          "output_type": "execute_result",
          "data": {
            "text/plain": [
              "Index(['Marital Status', 'Application mode', 'Application order', 'Course',\n",
              "       'Daytime/evening attendance', 'Previous qualification',\n",
              "       'Previous qualification (grade)', 'Nacionality',\n",
              "       'Mother's qualification', 'Father's qualification',\n",
              "       'Mother's occupation', 'Father's occupation', 'Admission grade',\n",
              "       'Displaced', 'Educational special needs', 'Debtor',\n",
              "       'Tuition fees up to date', 'Gender', 'Scholarship holder',\n",
              "       'Age at enrollment', 'International',\n",
              "       'Curricular units 1st sem (credited)',\n",
              "       'Curricular units 1st sem (enrolled)',\n",
              "       'Curricular units 1st sem (evaluations)',\n",
              "       'Curricular units 1st sem (approved)',\n",
              "       'Curricular units 1st sem (grade)',\n",
              "       'Curricular units 1st sem (without evaluations)',\n",
              "       'Curricular units 2nd sem (credited)',\n",
              "       'Curricular units 2nd sem (enrolled)',\n",
              "       'Curricular units 2nd sem (evaluations)',\n",
              "       'Curricular units 2nd sem (approved)',\n",
              "       'Curricular units 2nd sem (grade)',\n",
              "       'Curricular units 2nd sem (without evaluations)', 'Unemployment rate',\n",
              "       'Inflation rate', 'GDP', 'Target'],\n",
              "      dtype='object')"
            ]
          },
          "metadata": {},
          "execution_count": 31
        }
      ]
    },
    {
      "cell_type": "code",
      "source": [
        "# redo mapping for some of the variables that have multiple categories so that they can be analyzed and categorized by Apriori Code\n",
        "# Define function to create new marital category\n",
        "def create_marital_category(status):\n",
        "    if status in [1]:\n",
        "        return \"Single\"\n",
        "    elif status in [2, 5]:\n",
        "        return \"Married\"\n",
        "    elif status == 3:\n",
        "        return \"Widower\"\n",
        "    elif status in [4, 6]:\n",
        "        return \"Divorced\"\n",
        "\n",
        "\n",
        "# Apply function to create new category column\n",
        "df2['Marital_Category'] = df2['Marital Status'].apply(create_marital_category)\n",
        "\n",
        "# Drop the old column\n",
        "df2.drop('Marital Status', axis=1, inplace=True)"
      ],
      "metadata": {
        "colab": {
          "base_uri": "https://localhost:8080/"
        },
        "id": "DjacyknpLXHX",
        "outputId": "1b57e644-fb52-49b2-e228-b797cafdb15f"
      },
      "execution_count": 32,
      "outputs": [
        {
          "output_type": "stream",
          "name": "stderr",
          "text": [
            "/usr/local/lib/python3.10/dist-packages/ipykernel/ipkernel.py:283: DeprecationWarning: `should_run_async` will not call `transform_cell` automatically in the future. Please pass the result to `transformed_cell` argument and any exception that happen during thetransform in `preprocessing_exc_tuple` in IPython 7.17 and above.\n",
            "  and should_run_async(code)\n"
          ]
        }
      ]
    },
    {
      "cell_type": "code",
      "source": [
        "def create_gender_category(status):\n",
        "    if status == 1:\n",
        "        return \"Male\"\n",
        "    else:\n",
        "        return \"Female\"\n",
        "\n",
        "\n",
        "# Create a new column with the categorized gender\n",
        "df2['Gender_Category'] = df2['Gender'].apply(create_gender_category)\n",
        "\n",
        "#drop the old column\n",
        "df2.drop('Gender', axis=1, inplace=True)"
      ],
      "metadata": {
        "colab": {
          "base_uri": "https://localhost:8080/"
        },
        "id": "rQ1ZBC2JM-6D",
        "outputId": "c3aa6b5f-1376-4595-f6ce-f2469f604200"
      },
      "execution_count": 33,
      "outputs": [
        {
          "output_type": "stream",
          "name": "stderr",
          "text": [
            "/usr/local/lib/python3.10/dist-packages/ipykernel/ipkernel.py:283: DeprecationWarning: `should_run_async` will not call `transform_cell` automatically in the future. Please pass the result to `transformed_cell` argument and any exception that happen during thetransform in `preprocessing_exc_tuple` in IPython 7.17 and above.\n",
            "  and should_run_async(code)\n"
          ]
        }
      ]
    },
    {
      "cell_type": "code",
      "source": [
        "def create_nightschool_category(status):\n",
        "    if status == 1:\n",
        "        return \"Day School\"\n",
        "    else:\n",
        "        return \"Night School\"\n",
        "\n",
        "# Create a new column with the categorized attendance type\n",
        "df2['Day/Night Attendance_Category'] = df2['Daytime/evening attendance'].apply(create_nightschool_category)\n",
        "\n",
        "#drop the old column\n",
        "df2.drop('Daytime/evening attendance', axis=1, inplace=True)"
      ],
      "metadata": {
        "colab": {
          "base_uri": "https://localhost:8080/"
        },
        "id": "NWoEn8cTNtfy",
        "outputId": "1fd09061-6b01-47ca-a98f-857ead7038ca"
      },
      "execution_count": 34,
      "outputs": [
        {
          "output_type": "stream",
          "name": "stderr",
          "text": [
            "/usr/local/lib/python3.10/dist-packages/ipykernel/ipkernel.py:283: DeprecationWarning: `should_run_async` will not call `transform_cell` automatically in the future. Please pass the result to `transformed_cell` argument and any exception that happen during thetransform in `preprocessing_exc_tuple` in IPython 7.17 and above.\n",
            "  and should_run_async(code)\n"
          ]
        }
      ]
    },
    {
      "cell_type": "code",
      "source": [
        "# We have 7 fields which only have yes/no as their values\n",
        "#this code will transform all of them at the same time\n",
        "\n",
        "def create_binary_category(status):\n",
        "    if status == 1:\n",
        "        return \"Yes\"\n",
        "    else:\n",
        "        return \"No\"\n",
        "\n",
        "#create a new column\n",
        "df2['Displaced_Category'] = df2['Displaced'].apply(create_binary_category)\n",
        "\n",
        "#drop the old column\n",
        "df2.drop('Displaced', axis=1, inplace=True)\n",
        "\n",
        "#create a new column\n",
        "df2['SpecialNeeds_Category'] = df2['Educational special needs'].apply(create_binary_category)\n",
        "\n",
        "#drop the old column\n",
        "df2.drop('Educational special needs', axis=1, inplace=True)\n",
        "\n",
        "#create a new column\n",
        "df2['Debtor_Category'] = df2['Debtor'].apply(create_binary_category)\n",
        "\n",
        "#drop the old column\n",
        "df2.drop('Debtor', axis=1, inplace=True)\n",
        "\n",
        "\n",
        "\n",
        "#create a new column\n",
        "df2['Tuition fees up to date_Category'] = df2['Tuition fees up to date'].apply(create_binary_category)\n",
        "\n",
        "#drop the old column\n",
        "df2.drop('Tuition fees up to date', axis=1, inplace=True)\n",
        "\n",
        "\n",
        "#create a new column\n",
        "df2['Scholarship holder_Category'] = df2[ 'Scholarship holder'].apply(create_binary_category)\n",
        "\n",
        "#drop the old column\n",
        "df2.drop( 'Scholarship holder', axis=1, inplace=True)\n",
        "\n",
        "\n",
        "#create a new column\n",
        "df2['International_Category'] = df2[ 'International'].apply(create_binary_category)\n",
        "#drop the old column\n",
        "df2.drop( 'International', axis=1, inplace=True)\n"
      ],
      "metadata": {
        "colab": {
          "base_uri": "https://localhost:8080/"
        },
        "id": "WiQuWdf3OF2S",
        "outputId": "14d24cfb-a0c6-4c00-9c64-c324e65e2d4a"
      },
      "execution_count": 35,
      "outputs": [
        {
          "output_type": "stream",
          "name": "stderr",
          "text": [
            "/usr/local/lib/python3.10/dist-packages/ipykernel/ipkernel.py:283: DeprecationWarning: `should_run_async` will not call `transform_cell` automatically in the future. Please pass the result to `transformed_cell` argument and any exception that happen during thetransform in `preprocessing_exc_tuple` in IPython 7.17 and above.\n",
            "  and should_run_async(code)\n"
          ]
        }
      ]
    },
    {
      "cell_type": "code",
      "source": [
        "def create_nationality_category(status):\n",
        "    if status in [2, 6, 11, 13, 14]:\n",
        "        return \"Western European\"\n",
        "    elif status in [21, 22, 24, 25, 26]:\n",
        "        return \"African\"\n",
        "    elif status == 32:\n",
        "        return \"Turkish\"\n",
        "    elif status in [17, 62, 100, 103, 105]:\n",
        "        return \"Eastern European\"\n",
        "    elif status in [41, 101, 108, 109]:\n",
        "        return \"Latin American\"\n",
        "    elif status == 1:\n",
        "        return \"Portugese\"\n",
        "\n",
        "# Apply function to create new category column\n",
        "df2['Nationality_Category'] = df2['Nacionality'].apply(create_nationality_category)\n",
        "\n",
        "# Handle missing or undefined country codes\n",
        "df2['Nationality_Category'].fillna('Other', inplace=True)\n",
        "\n",
        "# Drop the old column\n",
        "df2.drop('Nacionality', axis=1, inplace=True)\n",
        "\n"
      ],
      "metadata": {
        "colab": {
          "base_uri": "https://localhost:8080/"
        },
        "id": "THdpRtqBPrjn",
        "outputId": "9d8b06b5-0af8-46a6-c6d6-d21e4ff2e6ef"
      },
      "execution_count": 36,
      "outputs": [
        {
          "output_type": "stream",
          "name": "stderr",
          "text": [
            "/usr/local/lib/python3.10/dist-packages/ipykernel/ipkernel.py:283: DeprecationWarning: `should_run_async` will not call `transform_cell` automatically in the future. Please pass the result to `transformed_cell` argument and any exception that happen during thetransform in `preprocessing_exc_tuple` in IPython 7.17 and above.\n",
            "  and should_run_async(code)\n"
          ]
        }
      ]
    },
    {
      "cell_type": "code",
      "source": [
        "def create_application_category(status):\n",
        "    if status in [1, 17, 18]:\n",
        "        return \"General Contingent\"\n",
        "    elif status in [5, 16]:\n",
        "        return \"Special Contingent\"\n",
        "    elif status in [2, 10, 26, 27 ]:\n",
        "        return \"Ordinance Related\"\n",
        "    elif status in [42, 43, 51, 57]:\n",
        "        return \"Course Change/ Transfer\"\n",
        "    elif status in [7, 15, 44, 53]:\n",
        "        return \"Other Degree Holders\"\n",
        "    elif status in [39]:\n",
        "        return \"Over 23\"\n",
        "    else:\n",
        "        return \"Other\"\n",
        "\n",
        "\n",
        "# Create a new column with the categorized application mode\n",
        "df2['Application_Mode_Category'] = df2['Application mode'].apply(create_application_category)\n",
        "\n",
        "# Drop the old column\n",
        "df2.drop('Application mode', axis=1, inplace=True)\n"
      ],
      "metadata": {
        "colab": {
          "base_uri": "https://localhost:8080/"
        },
        "id": "6IKKeYm4RESP",
        "outputId": "977d744d-9e72-4a5b-ca90-f203f367e89c"
      },
      "execution_count": 37,
      "outputs": [
        {
          "output_type": "stream",
          "name": "stderr",
          "text": [
            "/usr/local/lib/python3.10/dist-packages/ipykernel/ipkernel.py:283: DeprecationWarning: `should_run_async` will not call `transform_cell` automatically in the future. Please pass the result to `transformed_cell` argument and any exception that happen during thetransform in `preprocessing_exc_tuple` in IPython 7.17 and above.\n",
            "  and should_run_async(code)\n"
          ]
        }
      ]
    },
    {
      "cell_type": "code",
      "source": [
        "def create_application_order_category(status):\n",
        "    if status in [0, 1, 2, 3 ]:\n",
        "        return \"Top 3 Choice\"\n",
        "    elif status in [4, 5, 6]:\n",
        "        return \"Choice 4 to 6\"\n",
        "    elif status in [7, 8, 9]:\n",
        "        return \"Choice 4 to 6\"\n",
        "    else:\n",
        "        return \"Other\"\n",
        "\n",
        "# Create a new column with the categorized application order\n",
        "df2['Application_Order_Category'] = df2['Application order'].apply(create_application_order_category)\n",
        "\n",
        "\n",
        "#drop the old column\n",
        "df2.drop('Application order', axis=1, inplace=True)\n"
      ],
      "metadata": {
        "colab": {
          "base_uri": "https://localhost:8080/"
        },
        "id": "9AzUyBhbZf3O",
        "outputId": "ec7d0949-3a34-4cd0-8305-743819048c5b"
      },
      "execution_count": 38,
      "outputs": [
        {
          "output_type": "stream",
          "name": "stderr",
          "text": [
            "/usr/local/lib/python3.10/dist-packages/ipykernel/ipkernel.py:283: DeprecationWarning: `should_run_async` will not call `transform_cell` automatically in the future. Please pass the result to `transformed_cell` argument and any exception that happen during thetransform in `preprocessing_exc_tuple` in IPython 7.17 and above.\n",
            "  and should_run_async(code)\n"
          ]
        }
      ]
    },
    {
      "cell_type": "code",
      "source": [
        "# Define a function to categorize course codes\n",
        "def create_course_category(code):\n",
        "    if code == 33:\n",
        "        return \"Technology/Engineering\"\n",
        "    elif code in [171, 9070]:\n",
        "        return \"Design/Multimedia\"\n",
        "    elif code == 8014:\n",
        "        return \"Social Services\"\n",
        "    elif code in [9003, 9130]:\n",
        "        return \"Agriculture\"\n",
        "    elif code == 9085:\n",
        "        return \"Veterinary\"\n",
        "    elif code in [9147, 9991]:\n",
        "        return \"Management\"\n",
        "    elif code == 9254:\n",
        "        return \"Tourism\"\n",
        "    elif code in [9500, 9556]:\n",
        "        return \"Healthcare\"\n",
        "    elif code == 9670:\n",
        "        return \"Marketing/Advertising\"\n",
        "    elif code == 9773:\n",
        "        return \"Journalism/Communication\"\n",
        "    elif code == 9853:\n",
        "        return \"Education\"\n",
        "    else:\n",
        "        return \"Other\"\n",
        "\n",
        "# Apply the function to create a new column with the categorized course\n",
        "df2['Course_Category'] = df2['Course'].apply(create_course_category)\n",
        "\n",
        "# Drop the old 'Course' column\n",
        "df2.drop('Course', axis=1, inplace=True)"
      ],
      "metadata": {
        "colab": {
          "base_uri": "https://localhost:8080/"
        },
        "id": "MdBgNZ-4a0qf",
        "outputId": "95d147e4-7251-45dc-caf2-0eb01ce9afdb"
      },
      "execution_count": 39,
      "outputs": [
        {
          "output_type": "stream",
          "name": "stderr",
          "text": [
            "/usr/local/lib/python3.10/dist-packages/ipykernel/ipkernel.py:283: DeprecationWarning: `should_run_async` will not call `transform_cell` automatically in the future. Please pass the result to `transformed_cell` argument and any exception that happen during thetransform in `preprocessing_exc_tuple` in IPython 7.17 and above.\n",
            "  and should_run_async(code)\n"
          ]
        }
      ]
    },
    {
      "cell_type": "code",
      "source": [
        "# Define a function to categorize previous qualifications\n",
        "\n",
        "def categorize_previous_qualification(qualification):\n",
        "    if qualification in [39, 42]:\n",
        "        return \"Professional/ Specialized Higher Course\"\n",
        "\n",
        "    elif qualification in [38]:\n",
        "        return \"Basic Education up to 8th Grade\"\n",
        "\n",
        "    elif qualification in [10, 12, 14, 19]:\n",
        "        return \"Incomplete Schooling (9th-11th Grade)\"\n",
        "\n",
        "    elif qualification in [6, 9]:\n",
        "        return \"Incomplete Schooling (12th Grade or Eqivalent)\"\n",
        "\n",
        "    elif qualification in [1]:\n",
        "        return \"Complete Secondary School or Eqivalent\"\n",
        "\n",
        "    elif qualification in [2, 3, 40]:\n",
        "        return \"Higher Education - Bachelor's Degree\"\n",
        "    elif qualification in [4, 43]:\n",
        "        return \"Higher Education - Master's Degree\"\n",
        "    elif qualification in [5, 44]:\n",
        "        return \"Higher Education - Doctorate\"\n",
        "    else:\n",
        "        return \"Other\"\n",
        "\n",
        "# Apply the function to create a new column with the categorized education level\n",
        "df2['Previous_qualification_Category'] = df2['Previous qualification'].apply(categorize_previous_qualification)\n",
        "\n",
        "# Drop the old 'Previous qualification' column\n",
        "df2.drop('Previous qualification', axis=1, inplace=True)\n"
      ],
      "metadata": {
        "colab": {
          "base_uri": "https://localhost:8080/"
        },
        "id": "3J1zTkLwbJJz",
        "outputId": "3dfd5166-cf26-4122-c1c7-057ba60f4980"
      },
      "execution_count": 40,
      "outputs": [
        {
          "output_type": "stream",
          "name": "stderr",
          "text": [
            "/usr/local/lib/python3.10/dist-packages/ipykernel/ipkernel.py:283: DeprecationWarning: `should_run_async` will not call `transform_cell` automatically in the future. Please pass the result to `transformed_cell` argument and any exception that happen during thetransform in `preprocessing_exc_tuple` in IPython 7.17 and above.\n",
            "  and should_run_async(code)\n"
          ]
        }
      ]
    },
    {
      "cell_type": "code",
      "source": [
        "# Define a function to categorize qualifications\n",
        "\n",
        "\n",
        "def categorize_qualification(qualification):\n",
        "    if qualification in [22]:\n",
        "        return \"Technical Degree\"\n",
        "\n",
        "    elif qualification in [18, 31, 33]:\n",
        "        return \"General Education Course\"\n",
        "\n",
        "    elif qualification in [39, 41, 42]:\n",
        "        return \"Professional/ Specialized Higher Course\"\n",
        "\n",
        "    elif qualification in [2, 3, 40]:\n",
        "        return \"Higher Education - Bachelor's Degree\"\n",
        "    elif qualification in [4, 43]:\n",
        "        return \"Higher Education - Master's Degree\"\n",
        "    elif qualification in [5, 44]:\n",
        "        return \"Higher Education - Doctorate\"\n",
        "\n",
        "    elif qualification in [36, 37, 38 , 11, 26, 30]:\n",
        "        return \"Basic Education up to 8th Grade\"\n",
        "\n",
        "    elif qualification in [10, 12, 14, 19, 29]:\n",
        "        return \"Incomplete Schooling (9th-11th Grade)\"\n",
        "\n",
        "    elif qualification in [6, 9, 13, 25, 27]:\n",
        "        return \"Incomplete Schooling (12th Grade or Eqivalent)\"\n",
        "    elif qualification in [1, 20]:\n",
        "        return \"Complete Secondary School or Eqivalent\"\n",
        "\n",
        "    elif qualification == 34:\n",
        "        return \"Unknown\"\n",
        "\n",
        "    elif qualification == 35:\n",
        "        return \"Cannot Read or Write\"\n",
        "  #  else:\n",
        "       # return \"Other\"\n",
        "\n",
        "# Apply the function to create new columns with the categorized qualifications for mother and father\n",
        "df2[\"Mother's Qualification_Category\"] = df2[\"Mother's qualification\"].apply(categorize_qualification)\n",
        "df2[\"Father's Qualification_Category\"] = df2[\"Father's qualification\"].apply(categorize_qualification)\n",
        "\n",
        "\n",
        "# Drop the old columns\n",
        "df2.drop([\"Mother's qualification\", \"Father's qualification\"], axis=1, inplace=True)\n"
      ],
      "metadata": {
        "colab": {
          "base_uri": "https://localhost:8080/"
        },
        "id": "1HFN5Pt6bqVg",
        "outputId": "4988525b-8a7b-4f05-efe6-b876b5b332fe"
      },
      "execution_count": 41,
      "outputs": [
        {
          "output_type": "stream",
          "name": "stderr",
          "text": [
            "/usr/local/lib/python3.10/dist-packages/ipykernel/ipkernel.py:283: DeprecationWarning: `should_run_async` will not call `transform_cell` automatically in the future. Please pass the result to `transformed_cell` argument and any exception that happen during thetransform in `preprocessing_exc_tuple` in IPython 7.17 and above.\n",
            "  and should_run_async(code)\n"
          ]
        }
      ]
    },
    {
      "cell_type": "code",
      "source": [
        "# Define a function to categorize occupations\n",
        "def categorize_occupation(occupation_code):\n",
        "    if occupation_code == 1:\n",
        "        return \"Student\"\n",
        "    elif occupation_code in [90, 99]:\n",
        "        return \"Other and Blank\"\n",
        "    elif occupation_code in [2, 121]:\n",
        "        return \"Intellectual and Scientific Specialists\"\n",
        "    elif occupation_code in [132, 122]:\n",
        "        return\"Health Professionals\"\n",
        "    elif occupation_code in [5, 154, 151, 153, 194]:\n",
        "        return \"Personal Services\"\n",
        "    elif occupation_code in [1, 112]:\n",
        "        return \"Managers and Directors\"\n",
        "    elif occupation_code in [3, 131, 134, 135]:\n",
        "        return \"Intermediate Professions\"\n",
        "    elif occupation_code in [4, 144, 141]:\n",
        "        return \"Office and Administrative\"\n",
        "    elif occupation_code in [124, 143]:\n",
        "        return \"Finance, Accounting and Data Professions\"\n",
        "    elif occupation_code in [10, 101, 102, 103]:\n",
        "        return \"Armed Forces\"\n",
        "    elif occupation_code in [6, 161, 163, 192]:\n",
        "        return \"Agricultural Workers\"\n",
        "    elif occupation_code in [8, 181, 182, 183]:\n",
        "        return \"Skilled Industrial Workers and Drivers\"\n",
        "    elif occupation_code in [7, 171, 193, 172, 174]:\n",
        "        return \"Construction and Electrical Workers\"\n",
        "    elif occupation_code in [114, 175, 195, 152]:\n",
        "        return \"Hotel, Food, Catering and Sellers\"\n",
        "    elif occupation_code == 9:\n",
        "        return \"Unskilled Workers\"\n",
        "    elif occupation_code == 123:\n",
        "        return \"Teachers\"\n",
        "    else:\n",
        "        return \"Unknown\"\n",
        "\n",
        "\n",
        "# Apply the function to create new columns with the categorized occupations for mother and father\n",
        "df2[\"Mother's Occupation_Category\"] = df2[\"Mother's occupation\"].apply(categorize_occupation)\n",
        "df2[\"Father's Occupation_Category\"] = df2[\"Father's occupation\"].apply(categorize_occupation)\n",
        "\n",
        "# Handle missing or undefined mother/ father occupation codes\n",
        "df2[\"Mother's Occupation_Category\"].fillna('Other', inplace=True)\n",
        "df2[\"Father's Occupation_Category\"].fillna('Other', inplace=True)\n",
        "\n",
        "# Drop the old columns\n",
        "df2.drop([\"Mother's occupation\", \"Father's occupation\"], axis=1, inplace=True)\n"
      ],
      "metadata": {
        "colab": {
          "base_uri": "https://localhost:8080/"
        },
        "id": "NGRt4SjNcPgf",
        "outputId": "37651e54-baa6-4f9d-bdaf-da1b095781a7"
      },
      "execution_count": 42,
      "outputs": [
        {
          "output_type": "stream",
          "name": "stderr",
          "text": [
            "/usr/local/lib/python3.10/dist-packages/ipykernel/ipkernel.py:283: DeprecationWarning: `should_run_async` will not call `transform_cell` automatically in the future. Please pass the result to `transformed_cell` argument and any exception that happen during thetransform in `preprocessing_exc_tuple` in IPython 7.17 and above.\n",
            "  and should_run_async(code)\n"
          ]
        }
      ]
    },
    {
      "cell_type": "code",
      "source": [
        "# seperate the ages into bins\n",
        "# Define the bins for different age groups\n",
        "bins = [17, 21, 24, 27, 31, 40, float('inf')]  # 40+ will include all ages above 40\n",
        "\n",
        "# Define labels for the age groups\n",
        "labels = ['17-20', '21-23', '24-26', '27-30', '31-39', '40+']\n",
        "\n",
        "# Create a new column 'Age Group' based on the bins and labels\n",
        "df2['Age Group'] = pd.cut(df2['Age at enrollment'], bins=bins, labels=labels, right=False)\n",
        "\n",
        "# Drop the 'Age at enrollment' column\n",
        "df2.drop('Age at enrollment', axis=1, inplace=True)\n",
        "\n"
      ],
      "metadata": {
        "colab": {
          "base_uri": "https://localhost:8080/"
        },
        "id": "2M45JGKaePfq",
        "outputId": "138c17c2-36a5-4bd3-f539-a1a3299c25d1"
      },
      "execution_count": 43,
      "outputs": [
        {
          "output_type": "stream",
          "name": "stderr",
          "text": [
            "/usr/local/lib/python3.10/dist-packages/ipykernel/ipkernel.py:283: DeprecationWarning: `should_run_async` will not call `transform_cell` automatically in the future. Please pass the result to `transformed_cell` argument and any exception that happen during thetransform in `preprocessing_exc_tuple` in IPython 7.17 and above.\n",
            "  and should_run_async(code)\n"
          ]
        }
      ]
    },
    {
      "cell_type": "code",
      "source": [
        "# look at values for Admission grade and decide how to break it down\n",
        "minimum_grade = df2['Admission grade'].min()\n",
        "maximum_grade = df2['Admission grade'].max()\n",
        "median_grade = df2['Admission grade'].median()\n",
        "\n",
        "print(\"Minimum Admission Grade:\", minimum_grade)\n",
        "print(\"Maximum Admission Grade:\", maximum_grade)\n",
        "print(\"Median Admission Grade:\", median_grade)\n",
        "\n",
        "#print(df2['Admission grade'].unique())"
      ],
      "metadata": {
        "colab": {
          "base_uri": "https://localhost:8080/"
        },
        "id": "J8Aj8vw1f5VW",
        "outputId": "f1a8f701-68c2-427c-b983-5b6daf8e49bb"
      },
      "execution_count": 44,
      "outputs": [
        {
          "output_type": "stream",
          "name": "stdout",
          "text": [
            "Minimum Admission Grade: 95.0\n",
            "Maximum Admission Grade: 190.0\n",
            "Median Admission Grade: 126.1\n"
          ]
        },
        {
          "output_type": "stream",
          "name": "stderr",
          "text": [
            "/usr/local/lib/python3.10/dist-packages/ipykernel/ipkernel.py:283: DeprecationWarning: `should_run_async` will not call `transform_cell` automatically in the future. Please pass the result to `transformed_cell` argument and any exception that happen during thetransform in `preprocessing_exc_tuple` in IPython 7.17 and above.\n",
            "  and should_run_async(code)\n"
          ]
        }
      ]
    },
    {
      "cell_type": "code",
      "source": [
        "# Define the bin edges based on percentiles\n",
        "bin_edges = [0, 20, 40, 60, 80, 100]\n",
        "\n",
        "# Define the bin labels\n",
        "bin_labels = ['Very Low', 'Low', 'Medium', 'High', 'Very High']\n",
        "\n",
        "# Bin the 'Admission grade' column\n",
        "df2['Admission Grade_Category'] = pd.qcut(df2['Admission grade'], q=5, labels=bin_labels)\n",
        "\n",
        "#nDrop the original 'Admission grade' column\n",
        "df2.drop('Admission grade', axis=1, inplace=True)\n",
        "\n"
      ],
      "metadata": {
        "colab": {
          "base_uri": "https://localhost:8080/"
        },
        "id": "sGF4rSFVhEpU",
        "outputId": "271692ed-8b81-4952-ba87-2c77435a06db"
      },
      "execution_count": 45,
      "outputs": [
        {
          "output_type": "stream",
          "name": "stderr",
          "text": [
            "/usr/local/lib/python3.10/dist-packages/ipykernel/ipkernel.py:283: DeprecationWarning: `should_run_async` will not call `transform_cell` automatically in the future. Please pass the result to `transformed_cell` argument and any exception that happen during thetransform in `preprocessing_exc_tuple` in IPython 7.17 and above.\n",
            "  and should_run_async(code)\n"
          ]
        }
      ]
    },
    {
      "cell_type": "code",
      "source": [
        "columns_to_remove = [\n",
        "    'Previous qualification (grade)',\n",
        "    'Curricular units 1st sem (credited)',\n",
        "    'Curricular units 1st sem (enrolled)',\n",
        "    'Curricular units 1st sem (evaluations)',\n",
        "    'Curricular units 1st sem (approved)',\n",
        "    'Curricular units 1st sem (grade)',\n",
        "    'Curricular units 1st sem (without evaluations)',\n",
        "    'Curricular units 2nd sem (credited)',\n",
        "    'Curricular units 2nd sem (enrolled)',\n",
        "    'Curricular units 2nd sem (evaluations)',\n",
        "    'Curricular units 2nd sem (approved)',\n",
        "    'Curricular units 2nd sem (grade)',\n",
        "    'Curricular units 2nd sem (without evaluations)',\n",
        "    'Unemployment rate',\n",
        "    'Inflation rate',\n",
        "    'GDP'\n",
        "]\n",
        "\n",
        "df2.drop(columns=columns_to_remove, inplace=True)\n"
      ],
      "metadata": {
        "colab": {
          "base_uri": "https://localhost:8080/"
        },
        "id": "D5d9-55AfyNR",
        "outputId": "e277f886-5eb6-410a-a746-33643d8b1977"
      },
      "execution_count": 46,
      "outputs": [
        {
          "output_type": "stream",
          "name": "stderr",
          "text": [
            "/usr/local/lib/python3.10/dist-packages/ipykernel/ipkernel.py:283: DeprecationWarning: `should_run_async` will not call `transform_cell` automatically in the future. Please pass the result to `transformed_cell` argument and any exception that happen during thetransform in `preprocessing_exc_tuple` in IPython 7.17 and above.\n",
            "  and should_run_async(code)\n"
          ]
        }
      ]
    },
    {
      "cell_type": "code",
      "source": [
        "df2.columns"
      ],
      "metadata": {
        "colab": {
          "base_uri": "https://localhost:8080/"
        },
        "id": "laLpnAgQovqR",
        "outputId": "fecef072-b541-4e06-f347-31486a37be2f"
      },
      "execution_count": 47,
      "outputs": [
        {
          "output_type": "stream",
          "name": "stderr",
          "text": [
            "/usr/local/lib/python3.10/dist-packages/ipykernel/ipkernel.py:283: DeprecationWarning: `should_run_async` will not call `transform_cell` automatically in the future. Please pass the result to `transformed_cell` argument and any exception that happen during thetransform in `preprocessing_exc_tuple` in IPython 7.17 and above.\n",
            "  and should_run_async(code)\n"
          ]
        },
        {
          "output_type": "execute_result",
          "data": {
            "text/plain": [
              "Index(['Target', 'Marital_Category', 'Gender_Category',\n",
              "       'Day/Night Attendance_Category', 'Displaced_Category',\n",
              "       'SpecialNeeds_Category', 'Debtor_Category',\n",
              "       'Tuition fees up to date_Category', 'Scholarship holder_Category',\n",
              "       'International_Category', 'Nationality_Category',\n",
              "       'Application_Mode_Category', 'Application_Order_Category',\n",
              "       'Course_Category', 'Previous_qualification_Category',\n",
              "       'Mother's Qualification_Category', 'Father's Qualification_Category',\n",
              "       'Mother's Occupation_Category', 'Father's Occupation_Category',\n",
              "       'Age Group', 'Admission Grade_Category'],\n",
              "      dtype='object')"
            ]
          },
          "metadata": {},
          "execution_count": 47
        }
      ]
    },
    {
      "cell_type": "code",
      "source": [
        "#One hot encode data\n",
        "\n",
        "import pandas as pd\n",
        "\n",
        "categorical_columns = ['Marital_Category', 'Gender_Category',\n",
        "       'Day/Night Attendance_Category', 'Displaced_Category',\n",
        "       'SpecialNeeds_Category', 'Debtor_Category',\n",
        "       'Tuition fees up to date_Category', 'Scholarship holder_Category',\n",
        "       'International_Category', 'Nationality_Category',\n",
        "       'Application_Mode_Category', 'Application_Order_Category',\n",
        "       'Course_Category', 'Previous_qualification_Category',\n",
        "       \"Mother's Qualification_Category\", \"Father's Qualification_Category\",\n",
        "       \"Mother's Occupation_Category\", \"Father's Occupation_Category\",\n",
        "       'Age Group', 'Admission Grade_Category']\n",
        "\n",
        "# Perform one-hot encoding\n",
        "df2_encoded = pd.get_dummies(df2, columns=categorical_columns)\n",
        "\n",
        "# Display the encoded DataFrame\n",
        "print(df2_encoded)"
      ],
      "metadata": {
        "colab": {
          "base_uri": "https://localhost:8080/"
        },
        "id": "YrRnp7jv1R1_",
        "outputId": "a2c937f6-d286-4c87-a483-685d46a1fffd"
      },
      "execution_count": 50,
      "outputs": [
        {
          "output_type": "stream",
          "name": "stdout",
          "text": [
            "        Target  Marital_Category_Divorced  Marital_Category_Married  \\\n",
            "0      Dropout                      False                     False   \n",
            "1     Graduate                      False                     False   \n",
            "2      Dropout                      False                     False   \n",
            "3     Graduate                      False                     False   \n",
            "4     Graduate                      False                      True   \n",
            "...        ...                        ...                       ...   \n",
            "4419  Graduate                      False                     False   \n",
            "4420   Dropout                      False                     False   \n",
            "4421   Dropout                      False                     False   \n",
            "4422  Graduate                      False                     False   \n",
            "4423  Graduate                      False                     False   \n",
            "\n",
            "      Marital_Category_Single  Marital_Category_Widower  \\\n",
            "0                        True                     False   \n",
            "1                        True                     False   \n",
            "2                        True                     False   \n",
            "3                        True                     False   \n",
            "4                       False                     False   \n",
            "...                       ...                       ...   \n",
            "4419                     True                     False   \n",
            "4420                     True                     False   \n",
            "4421                     True                     False   \n",
            "4422                     True                     False   \n",
            "4423                     True                     False   \n",
            "\n",
            "      Gender_Category_Female  Gender_Category_Male  \\\n",
            "0                      False                  True   \n",
            "1                      False                  True   \n",
            "2                      False                  True   \n",
            "3                       True                 False   \n",
            "4                       True                 False   \n",
            "...                      ...                   ...   \n",
            "4419                   False                  True   \n",
            "4420                    True                 False   \n",
            "4421                    True                 False   \n",
            "4422                    True                 False   \n",
            "4423                    True                 False   \n",
            "\n",
            "      Day/Night Attendance_Category_Day School  \\\n",
            "0                                         True   \n",
            "1                                         True   \n",
            "2                                         True   \n",
            "3                                         True   \n",
            "4                                        False   \n",
            "...                                        ...   \n",
            "4419                                      True   \n",
            "4420                                      True   \n",
            "4421                                      True   \n",
            "4422                                      True   \n",
            "4423                                      True   \n",
            "\n",
            "      Day/Night Attendance_Category_Night School  Displaced_Category_No  ...  \\\n",
            "0                                          False                  False  ...   \n",
            "1                                          False                  False  ...   \n",
            "2                                          False                  False  ...   \n",
            "3                                          False                  False  ...   \n",
            "4                                           True                   True  ...   \n",
            "...                                          ...                    ...  ...   \n",
            "4419                                       False                   True  ...   \n",
            "4420                                       False                  False  ...   \n",
            "4421                                       False                  False  ...   \n",
            "4422                                       False                  False  ...   \n",
            "4423                                       False                  False  ...   \n",
            "\n",
            "      Age Group_21-23  Age Group_24-26  Age Group_27-30  Age Group_31-39  \\\n",
            "0               False            False            False            False   \n",
            "1               False            False            False            False   \n",
            "2               False            False            False            False   \n",
            "3               False            False            False            False   \n",
            "4               False            False            False            False   \n",
            "...               ...              ...              ...              ...   \n",
            "4419            False            False            False            False   \n",
            "4420            False            False            False            False   \n",
            "4421            False            False             True            False   \n",
            "4422            False            False            False            False   \n",
            "4423             True            False            False            False   \n",
            "\n",
            "      Age Group_40+  Admission Grade_Category_Very Low  \\\n",
            "0             False                              False   \n",
            "1             False                              False   \n",
            "2             False                              False   \n",
            "3             False                              False   \n",
            "4              True                              False   \n",
            "...             ...                                ...   \n",
            "4419          False                              False   \n",
            "4420          False                              False   \n",
            "4421          False                              False   \n",
            "4422          False                              False   \n",
            "4423          False                              False   \n",
            "\n",
            "      Admission Grade_Category_Low  Admission Grade_Category_Medium  \\\n",
            "0                            False                             True   \n",
            "1                            False                            False   \n",
            "2                            False                             True   \n",
            "3                             True                            False   \n",
            "4                            False                            False   \n",
            "...                            ...                              ...   \n",
            "4419                          True                            False   \n",
            "4420                          True                            False   \n",
            "4421                         False                            False   \n",
            "4422                         False                            False   \n",
            "4423                         False                            False   \n",
            "\n",
            "      Admission Grade_Category_High  Admission Grade_Category_Very High  \n",
            "0                             False                               False  \n",
            "1                             False                                True  \n",
            "2                             False                               False  \n",
            "3                             False                               False  \n",
            "4                             False                                True  \n",
            "...                             ...                                 ...  \n",
            "4419                          False                               False  \n",
            "4420                          False                               False  \n",
            "4421                          False                                True  \n",
            "4422                          False                                True  \n",
            "4423                          False                                True  \n",
            "\n",
            "[4424 rows x 124 columns]\n"
          ]
        },
        {
          "output_type": "stream",
          "name": "stderr",
          "text": [
            "/usr/local/lib/python3.10/dist-packages/ipykernel/ipkernel.py:283: DeprecationWarning: `should_run_async` will not call `transform_cell` automatically in the future. Please pass the result to `transformed_cell` argument and any exception that happen during thetransform in `preprocessing_exc_tuple` in IPython 7.17 and above.\n",
            "  and should_run_async(code)\n"
          ]
        }
      ]
    },
    {
      "cell_type": "code",
      "source": [
        "df2_encoded.columns"
      ],
      "metadata": {
        "colab": {
          "base_uri": "https://localhost:8080/"
        },
        "id": "o0vhzxvHuT7i",
        "outputId": "3c71e277-76d8-4287-be67-5385252f0e1d"
      },
      "execution_count": 51,
      "outputs": [
        {
          "output_type": "stream",
          "name": "stderr",
          "text": [
            "/usr/local/lib/python3.10/dist-packages/ipykernel/ipkernel.py:283: DeprecationWarning: `should_run_async` will not call `transform_cell` automatically in the future. Please pass the result to `transformed_cell` argument and any exception that happen during thetransform in `preprocessing_exc_tuple` in IPython 7.17 and above.\n",
            "  and should_run_async(code)\n"
          ]
        },
        {
          "output_type": "execute_result",
          "data": {
            "text/plain": [
              "Index(['Target', 'Marital_Category_Divorced', 'Marital_Category_Married',\n",
              "       'Marital_Category_Single', 'Marital_Category_Widower',\n",
              "       'Gender_Category_Female', 'Gender_Category_Male',\n",
              "       'Day/Night Attendance_Category_Day School',\n",
              "       'Day/Night Attendance_Category_Night School', 'Displaced_Category_No',\n",
              "       ...\n",
              "       'Age Group_21-23', 'Age Group_24-26', 'Age Group_27-30',\n",
              "       'Age Group_31-39', 'Age Group_40+', 'Admission Grade_Category_Very Low',\n",
              "       'Admission Grade_Category_Low', 'Admission Grade_Category_Medium',\n",
              "       'Admission Grade_Category_High', 'Admission Grade_Category_Very High'],\n",
              "      dtype='object', length=124)"
            ]
          },
          "metadata": {},
          "execution_count": 51
        }
      ]
    },
    {
      "cell_type": "code",
      "source": [
        "from sklearn.tree import DecisionTreeClassifier, export_graphviz\n",
        "import graphviz\n",
        "import pandas as pd\n",
        "from sklearn.model_selection import train_test_split\n",
        "\n",
        "# df2_encoded is theDataFrame with one-hot encoded categorical variables\n",
        "X = df2_encoded.drop(columns=['Target'], axis=1)\n",
        "# Choose the target variable for analysis\n",
        "y = df2_encoded['Target']\n",
        "# Split the data into training and testing sets\n",
        "X_train, X_test, y_train, y_test = train_test_split(X, y, test_size=0.2, random_state=42)\n",
        "\n",
        "# Initialize Decision Tree Classifier\n",
        "clf = DecisionTreeClassifier()\n",
        "\n",
        "# Train the classifier using the training dataset\n",
        "clf.fit(X_train, y_train)\n",
        "\n",
        "# Get feature names dynamically from the DataFrame\n",
        "feature_names = list(X.columns)\n",
        "\n",
        "# Get unique class names from the target variable\n",
        "class_names = y.unique().astype(str)\n",
        "\n",
        "# Export the decision tree to a Graphviz file\n",
        "dot_data = export_graphviz(clf, out_file=None,\n",
        "                           feature_names=feature_names,\n",
        "                           class_names=class_names,\n",
        "                           filled=True, rounded=True,\n",
        "                           special_characters=True)\n",
        "\n",
        "# Visualize the graph\n",
        "graph = graphviz.Source(dot_data)\n",
        "graph.render(\"student_dropout_decision_tree\", format='png')  # Saves the decision tree to a file\n",
        "\n",
        "# Evaluate the model on the testing set\n",
        "accuracy = clf.score(X_test, y_test)\n",
        "print(\"Accuracy:\", accuracy)\n"
      ],
      "metadata": {
        "colab": {
          "base_uri": "https://localhost:8080/"
        },
        "id": "zT0eRBa4ujyM",
        "outputId": "7d2f60c0-d7f8-410d-eade-a7606808aa89"
      },
      "execution_count": 53,
      "outputs": [
        {
          "output_type": "stream",
          "name": "stderr",
          "text": [
            "/usr/local/lib/python3.10/dist-packages/ipykernel/ipkernel.py:283: DeprecationWarning: `should_run_async` will not call `transform_cell` automatically in the future. Please pass the result to `transformed_cell` argument and any exception that happen during thetransform in `preprocessing_exc_tuple` in IPython 7.17 and above.\n",
            "  and should_run_async(code)\n",
            "dot: graph is too large for cairo-renderer bitmaps. Scaling by 0.399252 to fit\n"
          ]
        },
        {
          "output_type": "stream",
          "name": "stdout",
          "text": [
            "Accuracy: 0.5129943502824859\n"
          ]
        }
      ]
    },
    {
      "cell_type": "code",
      "source": [
        "# Get the number of elements in the current decision tree\n",
        "num_elements = clf.tree_.node_count\n",
        "print(\"Number of elements in the decision tree:\", num_elements)\n",
        "\n",
        "# Calculate the number of elements to keep\n",
        "num_elements_to_keep = int(num_elements * 0.3)  # Keep only 30% of the original size\n",
        "\n",
        "# Prune the decision tree to reduce its size\n",
        "# Prune by setting max depth\n",
        "clf_pruned = DecisionTreeClassifier(max_depth=5)\n",
        "clf_pruned.fit(X, y)\n",
        "\n",
        "# Get the number of elements in the pruned decision tree\n",
        "num_elements_pruned = clf_pruned.tree_.node_count\n",
        "print(\"Number of elements in the pruned decision tree:\", num_elements_pruned)\n",
        "\n",
        "\n",
        "# Export the pruned decision tree to a Graphviz file\n",
        "dot_data_pruned = export_graphviz(clf_pruned, out_file=None,\n",
        "                                  feature_names=feature_names,\n",
        "                                  class_names=class_names,\n",
        "                                  filled=True, rounded=True,\n",
        "                                  special_characters=True)\n",
        "\n",
        "# Visualize the pruned decision tree\n",
        "graph_pruned = graphviz.Source(dot_data_pruned)\n",
        "graph_pruned.render(\"pruned_decision_tree\", format='png')  # Saves the pruned decision tree to a file\n",
        "graph_pruned"
      ],
      "metadata": {
        "colab": {
          "base_uri": "https://localhost:8080/",
          "height": 1000
        },
        "id": "B3s0UZn8vdfJ",
        "outputId": "a9664f33-4704-4114-e601-bef9bd6aadcd"
      },
      "execution_count": 55,
      "outputs": [
        {
          "output_type": "stream",
          "name": "stderr",
          "text": [
            "/usr/local/lib/python3.10/dist-packages/ipykernel/ipkernel.py:283: DeprecationWarning: `should_run_async` will not call `transform_cell` automatically in the future. Please pass the result to `transformed_cell` argument and any exception that happen during thetransform in `preprocessing_exc_tuple` in IPython 7.17 and above.\n",
            "  and should_run_async(code)\n"
          ]
        },
        {
          "output_type": "stream",
          "name": "stdout",
          "text": [
            "Number of elements in the decision tree: 2651\n",
            "Number of elements in the pruned decision tree: 57\n"
          ]
        },
        {
          "output_type": "execute_result",
          "data": {
            "image/svg+xml": "<?xml version=\"1.0\" encoding=\"UTF-8\" standalone=\"no\"?>\n<!DOCTYPE svg PUBLIC \"-//W3C//DTD SVG 1.1//EN\"\n \"http://www.w3.org/Graphics/SVG/1.1/DTD/svg11.dtd\">\n<!-- Generated by graphviz version 2.43.0 (0)\n -->\n<!-- Title: Tree Pages: 1 -->\n<svg width=\"4286pt\" height=\"671pt\"\n viewBox=\"0.00 0.00 4286.00 671.00\" xmlns=\"http://www.w3.org/2000/svg\" xmlns:xlink=\"http://www.w3.org/1999/xlink\">\n<g id=\"graph0\" class=\"graph\" transform=\"scale(1 1) rotate(0) translate(4 667)\">\n<title>Tree</title>\n<polygon fill=\"white\" stroke=\"transparent\" points=\"-4,4 -4,-667 4282,-667 4282,4 -4,4\"/>\n<!-- 0 -->\n<g id=\"node1\" class=\"node\">\n<title>0</title>\n<path fill=\"#decbf8\" stroke=\"black\" d=\"M2079,-663C2079,-663 1827,-663 1827,-663 1821,-663 1815,-657 1815,-651 1815,-651 1815,-592 1815,-592 1815,-586 1821,-580 1827,-580 1827,-580 2079,-580 2079,-580 2085,-580 2091,-586 2091,-592 2091,-592 2091,-651 2091,-651 2091,-657 2085,-663 2079,-663\"/>\n<text text-anchor=\"start\" x=\"1823\" y=\"-647.8\" font-family=\"Helvetica,sans-Serif\" font-size=\"14.00\">Tuition fees up to date_Category_Yes ≤ 0.5</text>\n<text text-anchor=\"start\" x=\"1917.5\" y=\"-632.8\" font-family=\"Helvetica,sans-Serif\" font-size=\"14.00\">gini = 0.615</text>\n<text text-anchor=\"start\" x=\"1904.5\" y=\"-617.8\" font-family=\"Helvetica,sans-Serif\" font-size=\"14.00\">samples = 4424</text>\n<text text-anchor=\"start\" x=\"1876\" y=\"-602.8\" font-family=\"Helvetica,sans-Serif\" font-size=\"14.00\">value = [1421, 794, 2209]</text>\n<text text-anchor=\"start\" x=\"1904.5\" y=\"-587.8\" font-family=\"Helvetica,sans-Serif\" font-size=\"14.00\">class = Enrolled</text>\n</g>\n<!-- 1 -->\n<g id=\"node2\" class=\"node\">\n<title>1</title>\n<path fill=\"#e99356\" stroke=\"black\" d=\"M1351.5,-544C1351.5,-544 1126.5,-544 1126.5,-544 1120.5,-544 1114.5,-538 1114.5,-532 1114.5,-532 1114.5,-473 1114.5,-473 1114.5,-467 1120.5,-461 1126.5,-461 1126.5,-461 1351.5,-461 1351.5,-461 1357.5,-461 1363.5,-467 1363.5,-473 1363.5,-473 1363.5,-532 1363.5,-532 1363.5,-538 1357.5,-544 1351.5,-544\"/>\n<text text-anchor=\"start\" x=\"1122.5\" y=\"-528.8\" font-family=\"Helvetica,sans-Serif\" font-size=\"14.00\">Scholarship holder_Category_No ≤ 0.5</text>\n<text text-anchor=\"start\" x=\"1203.5\" y=\"-513.8\" font-family=\"Helvetica,sans-Serif\" font-size=\"14.00\">gini = 0.242</text>\n<text text-anchor=\"start\" x=\"1194\" y=\"-498.8\" font-family=\"Helvetica,sans-Serif\" font-size=\"14.00\">samples = 528</text>\n<text text-anchor=\"start\" x=\"1177\" y=\"-483.8\" font-family=\"Helvetica,sans-Serif\" font-size=\"14.00\">value = [457, 42, 29]</text>\n<text text-anchor=\"start\" x=\"1191.5\" y=\"-468.8\" font-family=\"Helvetica,sans-Serif\" font-size=\"14.00\">class = Dropout</text>\n</g>\n<!-- 0&#45;&gt;1 -->\n<g id=\"edge1\" class=\"edge\">\n<title>0&#45;&gt;1</title>\n<path fill=\"none\" stroke=\"black\" d=\"M1814.91,-597.87C1687.62,-577.01 1499.85,-546.25 1373.66,-525.57\"/>\n<polygon fill=\"black\" stroke=\"black\" points=\"1373.98,-522.07 1363.55,-523.91 1372.85,-528.98 1373.98,-522.07\"/>\n<text text-anchor=\"middle\" x=\"1378.14\" y=\"-540.51\" font-family=\"Helvetica,sans-Serif\" font-size=\"14.00\">True</text>\n</g>\n<!-- 26 -->\n<g id=\"node27\" class=\"node\">\n<title>26</title>\n<path fill=\"#cbadf4\" stroke=\"black\" d=\"M2438.5,-544C2438.5,-544 2213.5,-544 2213.5,-544 2207.5,-544 2201.5,-538 2201.5,-532 2201.5,-532 2201.5,-473 2201.5,-473 2201.5,-467 2207.5,-461 2213.5,-461 2213.5,-461 2438.5,-461 2438.5,-461 2444.5,-461 2450.5,-467 2450.5,-473 2450.5,-473 2450.5,-532 2450.5,-532 2450.5,-538 2444.5,-544 2438.5,-544\"/>\n<text text-anchor=\"start\" x=\"2209.5\" y=\"-528.8\" font-family=\"Helvetica,sans-Serif\" font-size=\"14.00\">Scholarship holder_Category_No ≤ 0.5</text>\n<text text-anchor=\"start\" x=\"2290.5\" y=\"-513.8\" font-family=\"Helvetica,sans-Serif\" font-size=\"14.00\">gini = 0.588</text>\n<text text-anchor=\"start\" x=\"2277.5\" y=\"-498.8\" font-family=\"Helvetica,sans-Serif\" font-size=\"14.00\">samples = 3896</text>\n<text text-anchor=\"start\" x=\"2253\" y=\"-483.8\" font-family=\"Helvetica,sans-Serif\" font-size=\"14.00\">value = [964, 752, 2180]</text>\n<text text-anchor=\"start\" x=\"2277.5\" y=\"-468.8\" font-family=\"Helvetica,sans-Serif\" font-size=\"14.00\">class = Enrolled</text>\n</g>\n<!-- 0&#45;&gt;26 -->\n<g id=\"edge26\" class=\"edge\">\n<title>0&#45;&gt;26</title>\n<path fill=\"none\" stroke=\"black\" d=\"M2082.15,-579.99C2117.46,-568.91 2155.8,-556.89 2191.4,-545.72\"/>\n<polygon fill=\"black\" stroke=\"black\" points=\"2192.87,-548.93 2201.37,-542.59 2190.78,-542.25 2192.87,-548.93\"/>\n<text text-anchor=\"middle\" x=\"2189.79\" y=\"-561.05\" font-family=\"Helvetica,sans-Serif\" font-size=\"14.00\">False</text>\n</g>\n<!-- 2 -->\n<g id=\"node3\" class=\"node\">\n<title>2</title>\n<path fill=\"#f2be99\" stroke=\"black\" d=\"M893.5,-425C893.5,-425 522.5,-425 522.5,-425 516.5,-425 510.5,-419 510.5,-413 510.5,-413 510.5,-354 510.5,-354 510.5,-348 516.5,-342 522.5,-342 522.5,-342 893.5,-342 893.5,-342 899.5,-342 905.5,-348 905.5,-354 905.5,-354 905.5,-413 905.5,-413 905.5,-419 899.5,-425 893.5,-425\"/>\n<text text-anchor=\"start\" x=\"518.5\" y=\"-409.8\" font-family=\"Helvetica,sans-Serif\" font-size=\"14.00\">Mother&#39;s Occupation_Category_Intermediate Professions ≤ 0.5</text>\n<text text-anchor=\"start\" x=\"672.5\" y=\"-394.8\" font-family=\"Helvetica,sans-Serif\" font-size=\"14.00\">gini = 0.553</text>\n<text text-anchor=\"start\" x=\"667\" y=\"-379.8\" font-family=\"Helvetica,sans-Serif\" font-size=\"14.00\">samples = 46</text>\n<text text-anchor=\"start\" x=\"657.5\" y=\"-364.8\" font-family=\"Helvetica,sans-Serif\" font-size=\"14.00\">value = [28, 9, 9]</text>\n<text text-anchor=\"start\" x=\"660.5\" y=\"-349.8\" font-family=\"Helvetica,sans-Serif\" font-size=\"14.00\">class = Dropout</text>\n</g>\n<!-- 1&#45;&gt;2 -->\n<g id=\"edge2\" class=\"edge\">\n<title>1&#45;&gt;2</title>\n<path fill=\"none\" stroke=\"black\" d=\"M1114.17,-473.99C1050.92,-460.06 972.7,-442.82 901.84,-427.21\"/>\n<polygon fill=\"black\" stroke=\"black\" points=\"902.42,-423.75 891.9,-425.02 900.91,-430.59 902.42,-423.75\"/>\n</g>\n<!-- 11 -->\n<g id=\"node12\" class=\"node\">\n<title>11</title>\n<path fill=\"#e89050\" stroke=\"black\" d=\"M1339,-425C1339,-425 1139,-425 1139,-425 1133,-425 1127,-419 1127,-413 1127,-413 1127,-354 1127,-354 1127,-348 1133,-342 1139,-342 1139,-342 1339,-342 1339,-342 1345,-342 1351,-348 1351,-354 1351,-354 1351,-413 1351,-413 1351,-419 1345,-425 1339,-425\"/>\n<text text-anchor=\"start\" x=\"1135\" y=\"-409.8\" font-family=\"Helvetica,sans-Serif\" font-size=\"14.00\">Course_Category_Veterinary ≤ 0.5</text>\n<text text-anchor=\"start\" x=\"1203.5\" y=\"-394.8\" font-family=\"Helvetica,sans-Serif\" font-size=\"14.00\">gini = 0.201</text>\n<text text-anchor=\"start\" x=\"1194\" y=\"-379.8\" font-family=\"Helvetica,sans-Serif\" font-size=\"14.00\">samples = 482</text>\n<text text-anchor=\"start\" x=\"1177\" y=\"-364.8\" font-family=\"Helvetica,sans-Serif\" font-size=\"14.00\">value = [429, 33, 20]</text>\n<text text-anchor=\"start\" x=\"1191.5\" y=\"-349.8\" font-family=\"Helvetica,sans-Serif\" font-size=\"14.00\">class = Dropout</text>\n</g>\n<!-- 1&#45;&gt;11 -->\n<g id=\"edge11\" class=\"edge\">\n<title>1&#45;&gt;11</title>\n<path fill=\"none\" stroke=\"black\" d=\"M1239,-460.91C1239,-452.65 1239,-443.86 1239,-435.3\"/>\n<polygon fill=\"black\" stroke=\"black\" points=\"1242.5,-435.02 1239,-425.02 1235.5,-435.02 1242.5,-435.02\"/>\n</g>\n<!-- 3 -->\n<g id=\"node4\" class=\"node\">\n<title>3</title>\n<path fill=\"#f0b890\" stroke=\"black\" d=\"M586.5,-306C586.5,-306 249.5,-306 249.5,-306 243.5,-306 237.5,-300 237.5,-294 237.5,-294 237.5,-235 237.5,-235 237.5,-229 243.5,-223 249.5,-223 249.5,-223 586.5,-223 586.5,-223 592.5,-223 598.5,-229 598.5,-235 598.5,-235 598.5,-294 598.5,-294 598.5,-300 592.5,-306 586.5,-306\"/>\n<text text-anchor=\"start\" x=\"245.5\" y=\"-290.8\" font-family=\"Helvetica,sans-Serif\" font-size=\"14.00\">Application_Mode_Category_Other Degree Holders ≤ 0.5</text>\n<text text-anchor=\"start\" x=\"382.5\" y=\"-275.8\" font-family=\"Helvetica,sans-Serif\" font-size=\"14.00\">gini = 0.503</text>\n<text text-anchor=\"start\" x=\"377\" y=\"-260.8\" font-family=\"Helvetica,sans-Serif\" font-size=\"14.00\">samples = 41</text>\n<text text-anchor=\"start\" x=\"367.5\" y=\"-245.8\" font-family=\"Helvetica,sans-Serif\" font-size=\"14.00\">value = [27, 5, 9]</text>\n<text text-anchor=\"start\" x=\"370.5\" y=\"-230.8\" font-family=\"Helvetica,sans-Serif\" font-size=\"14.00\">class = Dropout</text>\n</g>\n<!-- 2&#45;&gt;3 -->\n<g id=\"edge3\" class=\"edge\">\n<title>2&#45;&gt;3</title>\n<path fill=\"none\" stroke=\"black\" d=\"M607.39,-341.91C581.74,-331.56 554.05,-320.39 527.97,-309.87\"/>\n<polygon fill=\"black\" stroke=\"black\" points=\"529.02,-306.52 518.44,-306.02 526.4,-313.01 529.02,-306.52\"/>\n</g>\n<!-- 8 -->\n<g id=\"node9\" class=\"node\">\n<title>8</title>\n<path fill=\"#6aeca0\" stroke=\"black\" d=\"M787.5,-306C787.5,-306 628.5,-306 628.5,-306 622.5,-306 616.5,-300 616.5,-294 616.5,-294 616.5,-235 616.5,-235 616.5,-229 622.5,-223 628.5,-223 628.5,-223 787.5,-223 787.5,-223 793.5,-223 799.5,-229 799.5,-235 799.5,-235 799.5,-294 799.5,-294 799.5,-300 793.5,-306 787.5,-306\"/>\n<text text-anchor=\"start\" x=\"624.5\" y=\"-290.8\" font-family=\"Helvetica,sans-Serif\" font-size=\"14.00\">Debtor_Category_Yes ≤ 0.5</text>\n<text text-anchor=\"start\" x=\"676\" y=\"-275.8\" font-family=\"Helvetica,sans-Serif\" font-size=\"14.00\">gini = 0.32</text>\n<text text-anchor=\"start\" x=\"670.5\" y=\"-260.8\" font-family=\"Helvetica,sans-Serif\" font-size=\"14.00\">samples = 5</text>\n<text text-anchor=\"start\" x=\"661\" y=\"-245.8\" font-family=\"Helvetica,sans-Serif\" font-size=\"14.00\">value = [1, 4, 0]</text>\n<text text-anchor=\"start\" x=\"656\" y=\"-230.8\" font-family=\"Helvetica,sans-Serif\" font-size=\"14.00\">class = Graduate</text>\n</g>\n<!-- 2&#45;&gt;8 -->\n<g id=\"edge8\" class=\"edge\">\n<title>2&#45;&gt;8</title>\n<path fill=\"none\" stroke=\"black\" d=\"M708,-341.91C708,-333.65 708,-324.86 708,-316.3\"/>\n<polygon fill=\"black\" stroke=\"black\" points=\"711.5,-316.02 708,-306.02 704.5,-316.02 711.5,-316.02\"/>\n</g>\n<!-- 4 -->\n<g id=\"node5\" class=\"node\">\n<title>4</title>\n<path fill=\"#efb083\" stroke=\"black\" d=\"M342,-187C342,-187 12,-187 12,-187 6,-187 0,-181 0,-175 0,-175 0,-116 0,-116 0,-110 6,-104 12,-104 12,-104 342,-104 342,-104 348,-104 354,-110 354,-116 354,-116 354,-175 354,-175 354,-181 348,-187 342,-187\"/>\n<text text-anchor=\"start\" x=\"8\" y=\"-171.8\" font-family=\"Helvetica,sans-Serif\" font-size=\"14.00\">Mother&#39;s Occupation_Category_Unskilled Workers ≤ 0.5</text>\n<text text-anchor=\"start\" x=\"141.5\" y=\"-156.8\" font-family=\"Helvetica,sans-Serif\" font-size=\"14.00\">gini = 0.472</text>\n<text text-anchor=\"start\" x=\"136\" y=\"-141.8\" font-family=\"Helvetica,sans-Serif\" font-size=\"14.00\">samples = 39</text>\n<text text-anchor=\"start\" x=\"126.5\" y=\"-126.8\" font-family=\"Helvetica,sans-Serif\" font-size=\"14.00\">value = [27, 5, 7]</text>\n<text text-anchor=\"start\" x=\"129.5\" y=\"-111.8\" font-family=\"Helvetica,sans-Serif\" font-size=\"14.00\">class = Dropout</text>\n</g>\n<!-- 3&#45;&gt;4 -->\n<g id=\"edge4\" class=\"edge\">\n<title>3&#45;&gt;4</title>\n<path fill=\"none\" stroke=\"black\" d=\"M334.39,-222.91C313.45,-212.74 290.87,-201.78 269.53,-191.42\"/>\n<polygon fill=\"black\" stroke=\"black\" points=\"270.99,-188.24 260.47,-187.02 267.93,-194.54 270.99,-188.24\"/>\n</g>\n<!-- 7 -->\n<g id=\"node8\" class=\"node\">\n<title>7</title>\n<path fill=\"#8139e5\" stroke=\"black\" d=\"M472.5,-179.5C472.5,-179.5 383.5,-179.5 383.5,-179.5 377.5,-179.5 371.5,-173.5 371.5,-167.5 371.5,-167.5 371.5,-123.5 371.5,-123.5 371.5,-117.5 377.5,-111.5 383.5,-111.5 383.5,-111.5 472.5,-111.5 472.5,-111.5 478.5,-111.5 484.5,-117.5 484.5,-123.5 484.5,-123.5 484.5,-167.5 484.5,-167.5 484.5,-173.5 478.5,-179.5 472.5,-179.5\"/>\n<text text-anchor=\"start\" x=\"400\" y=\"-164.3\" font-family=\"Helvetica,sans-Serif\" font-size=\"14.00\">gini = 0.0</text>\n<text text-anchor=\"start\" x=\"390.5\" y=\"-149.3\" font-family=\"Helvetica,sans-Serif\" font-size=\"14.00\">samples = 2</text>\n<text text-anchor=\"start\" x=\"381\" y=\"-134.3\" font-family=\"Helvetica,sans-Serif\" font-size=\"14.00\">value = [0, 0, 2]</text>\n<text text-anchor=\"start\" x=\"379.5\" y=\"-119.3\" font-family=\"Helvetica,sans-Serif\" font-size=\"14.00\">class = Enrolled</text>\n</g>\n<!-- 3&#45;&gt;7 -->\n<g id=\"edge7\" class=\"edge\">\n<title>3&#45;&gt;7</title>\n<path fill=\"none\" stroke=\"black\" d=\"M421.47,-222.91C422.38,-212.2 423.37,-200.62 424.3,-189.78\"/>\n<polygon fill=\"black\" stroke=\"black\" points=\"427.8,-189.93 425.17,-179.67 420.83,-189.33 427.8,-189.93\"/>\n</g>\n<!-- 5 -->\n<g id=\"node6\" class=\"node\">\n<title>5</title>\n<path fill=\"#e88f4f\" stroke=\"black\" d=\"M156.5,-68C156.5,-68 63.5,-68 63.5,-68 57.5,-68 51.5,-62 51.5,-56 51.5,-56 51.5,-12 51.5,-12 51.5,-6 57.5,0 63.5,0 63.5,0 156.5,0 156.5,0 162.5,0 168.5,-6 168.5,-12 168.5,-12 168.5,-56 168.5,-56 168.5,-62 162.5,-68 156.5,-68\"/>\n<text text-anchor=\"start\" x=\"74.5\" y=\"-52.8\" font-family=\"Helvetica,sans-Serif\" font-size=\"14.00\">gini = 0.194</text>\n<text text-anchor=\"start\" x=\"69\" y=\"-37.8\" font-family=\"Helvetica,sans-Serif\" font-size=\"14.00\">samples = 19</text>\n<text text-anchor=\"start\" x=\"59.5\" y=\"-22.8\" font-family=\"Helvetica,sans-Serif\" font-size=\"14.00\">value = [17, 1, 1]</text>\n<text text-anchor=\"start\" x=\"62.5\" y=\"-7.8\" font-family=\"Helvetica,sans-Serif\" font-size=\"14.00\">class = Dropout</text>\n</g>\n<!-- 4&#45;&gt;5 -->\n<g id=\"edge5\" class=\"edge\">\n<title>4&#45;&gt;5</title>\n<path fill=\"none\" stroke=\"black\" d=\"M152.05,-103.73C146.69,-94.97 141.02,-85.7 135.64,-76.91\"/>\n<polygon fill=\"black\" stroke=\"black\" points=\"138.58,-75 130.38,-68.3 132.61,-78.66 138.58,-75\"/>\n</g>\n<!-- 6 -->\n<g id=\"node7\" class=\"node\">\n<title>6</title>\n<path fill=\"#f8dbc6\" stroke=\"black\" d=\"M291.5,-68C291.5,-68 198.5,-68 198.5,-68 192.5,-68 186.5,-62 186.5,-56 186.5,-56 186.5,-12 186.5,-12 186.5,-6 192.5,0 198.5,0 198.5,0 291.5,0 291.5,0 297.5,0 303.5,-6 303.5,-12 303.5,-12 303.5,-56 303.5,-56 303.5,-62 297.5,-68 291.5,-68\"/>\n<text text-anchor=\"start\" x=\"213\" y=\"-52.8\" font-family=\"Helvetica,sans-Serif\" font-size=\"14.00\">gini = 0.62</text>\n<text text-anchor=\"start\" x=\"204\" y=\"-37.8\" font-family=\"Helvetica,sans-Serif\" font-size=\"14.00\">samples = 20</text>\n<text text-anchor=\"start\" x=\"194.5\" y=\"-22.8\" font-family=\"Helvetica,sans-Serif\" font-size=\"14.00\">value = [10, 4, 6]</text>\n<text text-anchor=\"start\" x=\"197.5\" y=\"-7.8\" font-family=\"Helvetica,sans-Serif\" font-size=\"14.00\">class = Dropout</text>\n</g>\n<!-- 4&#45;&gt;6 -->\n<g id=\"edge6\" class=\"edge\">\n<title>4&#45;&gt;6</title>\n<path fill=\"none\" stroke=\"black\" d=\"M202.32,-103.73C207.76,-94.97 213.51,-85.7 218.98,-76.91\"/>\n<polygon fill=\"black\" stroke=\"black\" points=\"222.02,-78.64 224.32,-68.3 216.07,-74.95 222.02,-78.64\"/>\n</g>\n<!-- 9 -->\n<g id=\"node10\" class=\"node\">\n<title>9</title>\n<path fill=\"#39e581\" stroke=\"black\" d=\"M622,-179.5C622,-179.5 526,-179.5 526,-179.5 520,-179.5 514,-173.5 514,-167.5 514,-167.5 514,-123.5 514,-123.5 514,-117.5 520,-111.5 526,-111.5 526,-111.5 622,-111.5 622,-111.5 628,-111.5 634,-117.5 634,-123.5 634,-123.5 634,-167.5 634,-167.5 634,-173.5 628,-179.5 622,-179.5\"/>\n<text text-anchor=\"start\" x=\"546\" y=\"-164.3\" font-family=\"Helvetica,sans-Serif\" font-size=\"14.00\">gini = 0.0</text>\n<text text-anchor=\"start\" x=\"536.5\" y=\"-149.3\" font-family=\"Helvetica,sans-Serif\" font-size=\"14.00\">samples = 4</text>\n<text text-anchor=\"start\" x=\"527\" y=\"-134.3\" font-family=\"Helvetica,sans-Serif\" font-size=\"14.00\">value = [0, 4, 0]</text>\n<text text-anchor=\"start\" x=\"522\" y=\"-119.3\" font-family=\"Helvetica,sans-Serif\" font-size=\"14.00\">class = Graduate</text>\n</g>\n<!-- 8&#45;&gt;9 -->\n<g id=\"edge9\" class=\"edge\">\n<title>8&#45;&gt;9</title>\n<path fill=\"none\" stroke=\"black\" d=\"M661.51,-222.91C647.99,-211.1 633.23,-198.22 619.75,-186.45\"/>\n<polygon fill=\"black\" stroke=\"black\" points=\"621.82,-183.61 611.99,-179.67 617.22,-188.88 621.82,-183.61\"/>\n</g>\n<!-- 10 -->\n<g id=\"node11\" class=\"node\">\n<title>10</title>\n<path fill=\"#e58139\" stroke=\"black\" d=\"M751.5,-179.5C751.5,-179.5 664.5,-179.5 664.5,-179.5 658.5,-179.5 652.5,-173.5 652.5,-167.5 652.5,-167.5 652.5,-123.5 652.5,-123.5 652.5,-117.5 658.5,-111.5 664.5,-111.5 664.5,-111.5 751.5,-111.5 751.5,-111.5 757.5,-111.5 763.5,-117.5 763.5,-123.5 763.5,-123.5 763.5,-167.5 763.5,-167.5 763.5,-173.5 757.5,-179.5 751.5,-179.5\"/>\n<text text-anchor=\"start\" x=\"680\" y=\"-164.3\" font-family=\"Helvetica,sans-Serif\" font-size=\"14.00\">gini = 0.0</text>\n<text text-anchor=\"start\" x=\"670.5\" y=\"-149.3\" font-family=\"Helvetica,sans-Serif\" font-size=\"14.00\">samples = 1</text>\n<text text-anchor=\"start\" x=\"661\" y=\"-134.3\" font-family=\"Helvetica,sans-Serif\" font-size=\"14.00\">value = [1, 0, 0]</text>\n<text text-anchor=\"start\" x=\"660.5\" y=\"-119.3\" font-family=\"Helvetica,sans-Serif\" font-size=\"14.00\">class = Dropout</text>\n</g>\n<!-- 8&#45;&gt;10 -->\n<g id=\"edge10\" class=\"edge\">\n<title>8&#45;&gt;10</title>\n<path fill=\"none\" stroke=\"black\" d=\"M708,-222.91C708,-212.2 708,-200.62 708,-189.78\"/>\n<polygon fill=\"black\" stroke=\"black\" points=\"711.5,-189.67 708,-179.67 704.5,-189.67 711.5,-189.67\"/>\n</g>\n<!-- 12 -->\n<g id=\"node13\" class=\"node\">\n<title>12</title>\n<path fill=\"#e88e4d\" stroke=\"black\" d=\"M1157.5,-306C1157.5,-306 956.5,-306 956.5,-306 950.5,-306 944.5,-300 944.5,-294 944.5,-294 944.5,-235 944.5,-235 944.5,-229 950.5,-223 956.5,-223 956.5,-223 1157.5,-223 1157.5,-223 1163.5,-223 1169.5,-229 1169.5,-235 1169.5,-235 1169.5,-294 1169.5,-294 1169.5,-300 1163.5,-306 1157.5,-306\"/>\n<text text-anchor=\"start\" x=\"952.5\" y=\"-290.8\" font-family=\"Helvetica,sans-Serif\" font-size=\"14.00\">Nationality_Category_African ≤ 0.5</text>\n<text text-anchor=\"start\" x=\"1021.5\" y=\"-275.8\" font-family=\"Helvetica,sans-Serif\" font-size=\"14.00\">gini = 0.175</text>\n<text text-anchor=\"start\" x=\"1012\" y=\"-260.8\" font-family=\"Helvetica,sans-Serif\" font-size=\"14.00\">samples = 445</text>\n<text text-anchor=\"start\" x=\"995\" y=\"-245.8\" font-family=\"Helvetica,sans-Serif\" font-size=\"14.00\">value = [403, 22, 20]</text>\n<text text-anchor=\"start\" x=\"1009.5\" y=\"-230.8\" font-family=\"Helvetica,sans-Serif\" font-size=\"14.00\">class = Dropout</text>\n</g>\n<!-- 11&#45;&gt;12 -->\n<g id=\"edge12\" class=\"edge\">\n<title>11&#45;&gt;12</title>\n<path fill=\"none\" stroke=\"black\" d=\"M1175.86,-341.91C1160.61,-332.11 1144.21,-321.56 1128.61,-311.53\"/>\n<polygon fill=\"black\" stroke=\"black\" points=\"1130.34,-308.48 1120.03,-306.02 1126.55,-314.37 1130.34,-308.48\"/>\n</g>\n<!-- 19 -->\n<g id=\"node20\" class=\"node\">\n<title>19</title>\n<path fill=\"#f0b68d\" stroke=\"black\" d=\"M1584,-306C1584,-306 1258,-306 1258,-306 1252,-306 1246,-300 1246,-294 1246,-294 1246,-235 1246,-235 1246,-229 1252,-223 1258,-223 1258,-223 1584,-223 1584,-223 1590,-223 1596,-229 1596,-235 1596,-235 1596,-294 1596,-294 1596,-300 1590,-306 1584,-306\"/>\n<text text-anchor=\"start\" x=\"1254\" y=\"-290.8\" font-family=\"Helvetica,sans-Serif\" font-size=\"14.00\">Father&#39;s Occupation_Category_Unskilled Workers ≤ 0.5</text>\n<text text-anchor=\"start\" x=\"1385.5\" y=\"-275.8\" font-family=\"Helvetica,sans-Serif\" font-size=\"14.00\">gini = 0.418</text>\n<text text-anchor=\"start\" x=\"1380\" y=\"-260.8\" font-family=\"Helvetica,sans-Serif\" font-size=\"14.00\">samples = 37</text>\n<text text-anchor=\"start\" x=\"1366.5\" y=\"-245.8\" font-family=\"Helvetica,sans-Serif\" font-size=\"14.00\">value = [26, 11, 0]</text>\n<text text-anchor=\"start\" x=\"1373.5\" y=\"-230.8\" font-family=\"Helvetica,sans-Serif\" font-size=\"14.00\">class = Dropout</text>\n</g>\n<!-- 11&#45;&gt;19 -->\n<g id=\"edge19\" class=\"edge\">\n<title>11&#45;&gt;19</title>\n<path fill=\"none\" stroke=\"black\" d=\"M1302.14,-341.91C1317.39,-332.11 1333.79,-321.56 1349.39,-311.53\"/>\n<polygon fill=\"black\" stroke=\"black\" points=\"1351.45,-314.37 1357.97,-306.02 1347.66,-308.48 1351.45,-314.37\"/>\n</g>\n<!-- 13 -->\n<g id=\"node14\" class=\"node\">\n<title>13</title>\n<path fill=\"#e78c4b\" stroke=\"black\" d=\"M928,-187C928,-187 794,-187 794,-187 788,-187 782,-181 782,-175 782,-175 782,-116 782,-116 782,-110 788,-104 794,-104 794,-104 928,-104 928,-104 934,-104 940,-110 940,-116 940,-116 940,-175 940,-175 940,-181 934,-187 928,-187\"/>\n<text text-anchor=\"start\" x=\"790\" y=\"-171.8\" font-family=\"Helvetica,sans-Serif\" font-size=\"14.00\">Age Group_17&#45;20 ≤ 0.5</text>\n<text text-anchor=\"start\" x=\"825.5\" y=\"-156.8\" font-family=\"Helvetica,sans-Serif\" font-size=\"14.00\">gini = 0.159</text>\n<text text-anchor=\"start\" x=\"816\" y=\"-141.8\" font-family=\"Helvetica,sans-Serif\" font-size=\"14.00\">samples = 436</text>\n<text text-anchor=\"start\" x=\"799\" y=\"-126.8\" font-family=\"Helvetica,sans-Serif\" font-size=\"14.00\">value = [399, 21, 16]</text>\n<text text-anchor=\"start\" x=\"813.5\" y=\"-111.8\" font-family=\"Helvetica,sans-Serif\" font-size=\"14.00\">class = Dropout</text>\n</g>\n<!-- 12&#45;&gt;13 -->\n<g id=\"edge13\" class=\"edge\">\n<title>12&#45;&gt;13</title>\n<path fill=\"none\" stroke=\"black\" d=\"M989,-222.91C972.43,-213.02 954.59,-202.37 937.65,-192.25\"/>\n<polygon fill=\"black\" stroke=\"black\" points=\"939.26,-189.14 928.88,-187.02 935.67,-195.15 939.26,-189.14\"/>\n</g>\n<!-- 16 -->\n<g id=\"node17\" class=\"node\">\n<title>16</title>\n<path fill=\"#ffffff\" stroke=\"black\" d=\"M1144,-187C1144,-187 970,-187 970,-187 964,-187 958,-181 958,-175 958,-175 958,-116 958,-116 958,-110 964,-104 970,-104 970,-104 1144,-104 1144,-104 1150,-104 1156,-110 1156,-116 1156,-116 1156,-175 1156,-175 1156,-181 1150,-187 1144,-187\"/>\n<text text-anchor=\"start\" x=\"966\" y=\"-171.8\" font-family=\"Helvetica,sans-Serif\" font-size=\"14.00\">Course_Category_Other ≤ 0.5</text>\n<text text-anchor=\"start\" x=\"1021.5\" y=\"-156.8\" font-family=\"Helvetica,sans-Serif\" font-size=\"14.00\">gini = 0.593</text>\n<text text-anchor=\"start\" x=\"1019.5\" y=\"-141.8\" font-family=\"Helvetica,sans-Serif\" font-size=\"14.00\">samples = 9</text>\n<text text-anchor=\"start\" x=\"1010\" y=\"-126.8\" font-family=\"Helvetica,sans-Serif\" font-size=\"14.00\">value = [4, 1, 4]</text>\n<text text-anchor=\"start\" x=\"1009.5\" y=\"-111.8\" font-family=\"Helvetica,sans-Serif\" font-size=\"14.00\">class = Dropout</text>\n</g>\n<!-- 12&#45;&gt;16 -->\n<g id=\"edge16\" class=\"edge\">\n<title>12&#45;&gt;16</title>\n<path fill=\"none\" stroke=\"black\" d=\"M1057,-222.91C1057,-214.65 1057,-205.86 1057,-197.3\"/>\n<polygon fill=\"black\" stroke=\"black\" points=\"1060.5,-197.02 1057,-187.02 1053.5,-197.02 1060.5,-197.02\"/>\n</g>\n<!-- 14 -->\n<g id=\"node15\" class=\"node\">\n<title>14</title>\n<path fill=\"#e68844\" stroke=\"black\" d=\"M785,-68C785,-68 677,-68 677,-68 671,-68 665,-62 665,-56 665,-56 665,-12 665,-12 665,-6 671,0 677,0 677,0 785,0 785,0 791,0 797,-6 797,-12 797,-12 797,-56 797,-56 797,-62 791,-68 785,-68\"/>\n<text text-anchor=\"start\" x=\"695.5\" y=\"-52.8\" font-family=\"Helvetica,sans-Serif\" font-size=\"14.00\">gini = 0.101</text>\n<text text-anchor=\"start\" x=\"686\" y=\"-37.8\" font-family=\"Helvetica,sans-Serif\" font-size=\"14.00\">samples = 304</text>\n<text text-anchor=\"start\" x=\"673\" y=\"-22.8\" font-family=\"Helvetica,sans-Serif\" font-size=\"14.00\">value = [288, 11, 5]</text>\n<text text-anchor=\"start\" x=\"683.5\" y=\"-7.8\" font-family=\"Helvetica,sans-Serif\" font-size=\"14.00\">class = Dropout</text>\n</g>\n<!-- 13&#45;&gt;14 -->\n<g id=\"edge14\" class=\"edge\">\n<title>13&#45;&gt;14</title>\n<path fill=\"none\" stroke=\"black\" d=\"M812.59,-103.73C801.44,-94.33 789.59,-84.35 778.47,-74.99\"/>\n<polygon fill=\"black\" stroke=\"black\" points=\"780.44,-72.06 770.53,-68.3 775.93,-77.42 780.44,-72.06\"/>\n</g>\n<!-- 15 -->\n<g id=\"node16\" class=\"node\">\n<title>15</title>\n<path fill=\"#ea975b\" stroke=\"black\" d=\"M943,-68C943,-68 827,-68 827,-68 821,-68 815,-62 815,-56 815,-56 815,-12 815,-12 815,-6 821,0 827,0 827,0 943,0 943,0 949,0 955,-6 955,-12 955,-12 955,-56 955,-56 955,-62 949,-68 943,-68\"/>\n<text text-anchor=\"start\" x=\"853\" y=\"-52.8\" font-family=\"Helvetica,sans-Serif\" font-size=\"14.00\">gini = 0.28</text>\n<text text-anchor=\"start\" x=\"840\" y=\"-37.8\" font-family=\"Helvetica,sans-Serif\" font-size=\"14.00\">samples = 132</text>\n<text text-anchor=\"start\" x=\"823\" y=\"-22.8\" font-family=\"Helvetica,sans-Serif\" font-size=\"14.00\">value = [111, 10, 11]</text>\n<text text-anchor=\"start\" x=\"837.5\" y=\"-7.8\" font-family=\"Helvetica,sans-Serif\" font-size=\"14.00\">class = Dropout</text>\n</g>\n<!-- 13&#45;&gt;15 -->\n<g id=\"edge15\" class=\"edge\">\n<title>13&#45;&gt;15</title>\n<path fill=\"none\" stroke=\"black\" d=\"M869.94,-103.73C871.76,-95.43 873.68,-86.67 875.51,-78.28\"/>\n<polygon fill=\"black\" stroke=\"black\" points=\"878.98,-78.82 877.7,-68.3 872.14,-77.32 878.98,-78.82\"/>\n</g>\n<!-- 17 -->\n<g id=\"node18\" class=\"node\">\n<title>17</title>\n<path fill=\"#efb388\" stroke=\"black\" d=\"M1080.5,-68C1080.5,-68 993.5,-68 993.5,-68 987.5,-68 981.5,-62 981.5,-56 981.5,-56 981.5,-12 981.5,-12 981.5,-6 987.5,0 993.5,0 993.5,0 1080.5,0 1080.5,0 1086.5,0 1092.5,-6 1092.5,-12 1092.5,-12 1092.5,-56 1092.5,-56 1092.5,-62 1086.5,-68 1080.5,-68\"/>\n<text text-anchor=\"start\" x=\"1009\" y=\"-52.8\" font-family=\"Helvetica,sans-Serif\" font-size=\"14.00\">gini = 0.5</text>\n<text text-anchor=\"start\" x=\"999.5\" y=\"-37.8\" font-family=\"Helvetica,sans-Serif\" font-size=\"14.00\">samples = 6</text>\n<text text-anchor=\"start\" x=\"990\" y=\"-22.8\" font-family=\"Helvetica,sans-Serif\" font-size=\"14.00\">value = [4, 1, 1]</text>\n<text text-anchor=\"start\" x=\"989.5\" y=\"-7.8\" font-family=\"Helvetica,sans-Serif\" font-size=\"14.00\">class = Dropout</text>\n</g>\n<!-- 16&#45;&gt;17 -->\n<g id=\"edge17\" class=\"edge\">\n<title>16&#45;&gt;17</title>\n<path fill=\"none\" stroke=\"black\" d=\"M1049.55,-103.73C1048.04,-95.43 1046.44,-86.67 1044.91,-78.28\"/>\n<polygon fill=\"black\" stroke=\"black\" points=\"1048.32,-77.51 1043.08,-68.3 1041.44,-78.77 1048.32,-77.51\"/>\n</g>\n<!-- 18 -->\n<g id=\"node19\" class=\"node\">\n<title>18</title>\n<path fill=\"#8139e5\" stroke=\"black\" d=\"M1211.5,-68C1211.5,-68 1122.5,-68 1122.5,-68 1116.5,-68 1110.5,-62 1110.5,-56 1110.5,-56 1110.5,-12 1110.5,-12 1110.5,-6 1116.5,0 1122.5,0 1122.5,0 1211.5,0 1211.5,0 1217.5,0 1223.5,-6 1223.5,-12 1223.5,-12 1223.5,-56 1223.5,-56 1223.5,-62 1217.5,-68 1211.5,-68\"/>\n<text text-anchor=\"start\" x=\"1139\" y=\"-52.8\" font-family=\"Helvetica,sans-Serif\" font-size=\"14.00\">gini = 0.0</text>\n<text text-anchor=\"start\" x=\"1129.5\" y=\"-37.8\" font-family=\"Helvetica,sans-Serif\" font-size=\"14.00\">samples = 3</text>\n<text text-anchor=\"start\" x=\"1120\" y=\"-22.8\" font-family=\"Helvetica,sans-Serif\" font-size=\"14.00\">value = [0, 0, 3]</text>\n<text text-anchor=\"start\" x=\"1118.5\" y=\"-7.8\" font-family=\"Helvetica,sans-Serif\" font-size=\"14.00\">class = Enrolled</text>\n</g>\n<!-- 16&#45;&gt;18 -->\n<g id=\"edge18\" class=\"edge\">\n<title>16&#45;&gt;18</title>\n<path fill=\"none\" stroke=\"black\" d=\"M1097.96,-103.73C1107.21,-94.51 1117.04,-84.74 1126.28,-75.53\"/>\n<polygon fill=\"black\" stroke=\"black\" points=\"1128.93,-77.84 1133.55,-68.3 1123.99,-72.87 1128.93,-77.84\"/>\n</g>\n<!-- 20 -->\n<g id=\"node21\" class=\"node\">\n<title>20</title>\n<path fill=\"#eca26d\" stroke=\"black\" d=\"M1655.5,-187C1655.5,-187 1186.5,-187 1186.5,-187 1180.5,-187 1174.5,-181 1174.5,-175 1174.5,-175 1174.5,-116 1174.5,-116 1174.5,-110 1180.5,-104 1186.5,-104 1186.5,-104 1655.5,-104 1655.5,-104 1661.5,-104 1667.5,-110 1667.5,-116 1667.5,-116 1667.5,-175 1667.5,-175 1667.5,-181 1661.5,-187 1655.5,-187\"/>\n<text text-anchor=\"start\" x=\"1182.5\" y=\"-171.8\" font-family=\"Helvetica,sans-Serif\" font-size=\"14.00\">Previous_qualification_Category_Professional/ Specialized Higher Course ≤ 0.5</text>\n<text text-anchor=\"start\" x=\"1385.5\" y=\"-156.8\" font-family=\"Helvetica,sans-Serif\" font-size=\"14.00\">gini = 0.328</text>\n<text text-anchor=\"start\" x=\"1380\" y=\"-141.8\" font-family=\"Helvetica,sans-Serif\" font-size=\"14.00\">samples = 29</text>\n<text text-anchor=\"start\" x=\"1370.5\" y=\"-126.8\" font-family=\"Helvetica,sans-Serif\" font-size=\"14.00\">value = [23, 6, 0]</text>\n<text text-anchor=\"start\" x=\"1373.5\" y=\"-111.8\" font-family=\"Helvetica,sans-Serif\" font-size=\"14.00\">class = Dropout</text>\n</g>\n<!-- 19&#45;&gt;20 -->\n<g id=\"edge20\" class=\"edge\">\n<title>19&#45;&gt;20</title>\n<path fill=\"none\" stroke=\"black\" d=\"M1421,-222.91C1421,-214.65 1421,-205.86 1421,-197.3\"/>\n<polygon fill=\"black\" stroke=\"black\" points=\"1424.5,-197.02 1421,-187.02 1417.5,-197.02 1424.5,-197.02\"/>\n</g>\n<!-- 23 -->\n<g id=\"node24\" class=\"node\">\n<title>23</title>\n<path fill=\"#b0f5cd\" stroke=\"black\" d=\"M1832,-187C1832,-187 1698,-187 1698,-187 1692,-187 1686,-181 1686,-175 1686,-175 1686,-116 1686,-116 1686,-110 1692,-104 1698,-104 1698,-104 1832,-104 1832,-104 1838,-104 1844,-110 1844,-116 1844,-116 1844,-175 1844,-175 1844,-181 1838,-187 1832,-187\"/>\n<text text-anchor=\"start\" x=\"1694\" y=\"-171.8\" font-family=\"Helvetica,sans-Serif\" font-size=\"14.00\">Age Group_31&#45;39 ≤ 0.5</text>\n<text text-anchor=\"start\" x=\"1729.5\" y=\"-156.8\" font-family=\"Helvetica,sans-Serif\" font-size=\"14.00\">gini = 0.469</text>\n<text text-anchor=\"start\" x=\"1727.5\" y=\"-141.8\" font-family=\"Helvetica,sans-Serif\" font-size=\"14.00\">samples = 8</text>\n<text text-anchor=\"start\" x=\"1718\" y=\"-126.8\" font-family=\"Helvetica,sans-Serif\" font-size=\"14.00\">value = [3, 5, 0]</text>\n<text text-anchor=\"start\" x=\"1713\" y=\"-111.8\" font-family=\"Helvetica,sans-Serif\" font-size=\"14.00\">class = Graduate</text>\n</g>\n<!-- 19&#45;&gt;23 -->\n<g id=\"edge23\" class=\"edge\">\n<title>19&#45;&gt;23</title>\n<path fill=\"none\" stroke=\"black\" d=\"M1568.44,-222.97C1603.97,-212.19 1641.6,-199.92 1676,-187 1676.1,-186.96 1676.2,-186.93 1676.3,-186.89\"/>\n<polygon fill=\"black\" stroke=\"black\" points=\"1677.6,-190.14 1685.65,-183.25 1675.06,-183.61 1677.6,-190.14\"/>\n</g>\n<!-- 21 -->\n<g id=\"node22\" class=\"node\">\n<title>21</title>\n<path fill=\"#e99355\" stroke=\"black\" d=\"M1350.5,-68C1350.5,-68 1257.5,-68 1257.5,-68 1251.5,-68 1245.5,-62 1245.5,-56 1245.5,-56 1245.5,-12 1245.5,-12 1245.5,-6 1251.5,0 1257.5,0 1257.5,0 1350.5,0 1350.5,0 1356.5,0 1362.5,-6 1362.5,-12 1362.5,-12 1362.5,-56 1362.5,-56 1362.5,-62 1356.5,-68 1350.5,-68\"/>\n<text text-anchor=\"start\" x=\"1268.5\" y=\"-52.8\" font-family=\"Helvetica,sans-Serif\" font-size=\"14.00\">gini = 0.219</text>\n<text text-anchor=\"start\" x=\"1263\" y=\"-37.8\" font-family=\"Helvetica,sans-Serif\" font-size=\"14.00\">samples = 24</text>\n<text text-anchor=\"start\" x=\"1253.5\" y=\"-22.8\" font-family=\"Helvetica,sans-Serif\" font-size=\"14.00\">value = [21, 3, 0]</text>\n<text text-anchor=\"start\" x=\"1256.5\" y=\"-7.8\" font-family=\"Helvetica,sans-Serif\" font-size=\"14.00\">class = Dropout</text>\n</g>\n<!-- 20&#45;&gt;21 -->\n<g id=\"edge21\" class=\"edge\">\n<title>20&#45;&gt;21</title>\n<path fill=\"none\" stroke=\"black\" d=\"M1377.43,-103.73C1367.49,-94.42 1356.94,-84.54 1347.02,-75.26\"/>\n<polygon fill=\"black\" stroke=\"black\" points=\"1349.27,-72.58 1339.58,-68.3 1344.49,-77.69 1349.27,-72.58\"/>\n</g>\n<!-- 22 -->\n<g id=\"node23\" class=\"node\">\n<title>22</title>\n<path fill=\"#bdf6d5\" stroke=\"black\" d=\"M1489,-68C1489,-68 1393,-68 1393,-68 1387,-68 1381,-62 1381,-56 1381,-56 1381,-12 1381,-12 1381,-6 1387,0 1393,0 1393,0 1489,0 1489,0 1495,0 1501,-6 1501,-12 1501,-12 1501,-56 1501,-56 1501,-62 1495,-68 1489,-68\"/>\n<text text-anchor=\"start\" x=\"1409\" y=\"-52.8\" font-family=\"Helvetica,sans-Serif\" font-size=\"14.00\">gini = 0.48</text>\n<text text-anchor=\"start\" x=\"1403.5\" y=\"-37.8\" font-family=\"Helvetica,sans-Serif\" font-size=\"14.00\">samples = 5</text>\n<text text-anchor=\"start\" x=\"1394\" y=\"-22.8\" font-family=\"Helvetica,sans-Serif\" font-size=\"14.00\">value = [2, 3, 0]</text>\n<text text-anchor=\"start\" x=\"1389\" y=\"-7.8\" font-family=\"Helvetica,sans-Serif\" font-size=\"14.00\">class = Graduate</text>\n</g>\n<!-- 20&#45;&gt;22 -->\n<g id=\"edge22\" class=\"edge\">\n<title>20&#45;&gt;22</title>\n<path fill=\"none\" stroke=\"black\" d=\"M1428.45,-103.73C1429.96,-95.43 1431.56,-86.67 1433.09,-78.28\"/>\n<polygon fill=\"black\" stroke=\"black\" points=\"1436.56,-78.77 1434.92,-68.3 1429.68,-77.51 1436.56,-78.77\"/>\n</g>\n<!-- 24 -->\n<g id=\"node25\" class=\"node\">\n<title>24</title>\n<path fill=\"#88efb3\" stroke=\"black\" d=\"M1679,-68C1679,-68 1583,-68 1583,-68 1577,-68 1571,-62 1571,-56 1571,-56 1571,-12 1571,-12 1571,-6 1577,0 1583,0 1583,0 1679,0 1679,0 1685,0 1691,-6 1691,-12 1691,-12 1691,-56 1691,-56 1691,-62 1685,-68 1679,-68\"/>\n<text text-anchor=\"start\" x=\"1595.5\" y=\"-52.8\" font-family=\"Helvetica,sans-Serif\" font-size=\"14.00\">gini = 0.408</text>\n<text text-anchor=\"start\" x=\"1593.5\" y=\"-37.8\" font-family=\"Helvetica,sans-Serif\" font-size=\"14.00\">samples = 7</text>\n<text text-anchor=\"start\" x=\"1584\" y=\"-22.8\" font-family=\"Helvetica,sans-Serif\" font-size=\"14.00\">value = [2, 5, 0]</text>\n<text text-anchor=\"start\" x=\"1579\" y=\"-7.8\" font-family=\"Helvetica,sans-Serif\" font-size=\"14.00\">class = Graduate</text>\n</g>\n<!-- 23&#45;&gt;24 -->\n<g id=\"edge24\" class=\"edge\">\n<title>23&#45;&gt;24</title>\n<path fill=\"none\" stroke=\"black\" d=\"M1715.1,-103.73C1703.5,-94.24 1691.15,-84.16 1679.6,-74.72\"/>\n<polygon fill=\"black\" stroke=\"black\" points=\"1681.71,-71.92 1671.75,-68.3 1677.28,-77.34 1681.71,-71.92\"/>\n</g>\n<!-- 25 -->\n<g id=\"node26\" class=\"node\">\n<title>25</title>\n<path fill=\"#e58139\" stroke=\"black\" d=\"M1808.5,-68C1808.5,-68 1721.5,-68 1721.5,-68 1715.5,-68 1709.5,-62 1709.5,-56 1709.5,-56 1709.5,-12 1709.5,-12 1709.5,-6 1715.5,0 1721.5,0 1721.5,0 1808.5,0 1808.5,0 1814.5,0 1820.5,-6 1820.5,-12 1820.5,-12 1820.5,-56 1820.5,-56 1820.5,-62 1814.5,-68 1808.5,-68\"/>\n<text text-anchor=\"start\" x=\"1737\" y=\"-52.8\" font-family=\"Helvetica,sans-Serif\" font-size=\"14.00\">gini = 0.0</text>\n<text text-anchor=\"start\" x=\"1727.5\" y=\"-37.8\" font-family=\"Helvetica,sans-Serif\" font-size=\"14.00\">samples = 1</text>\n<text text-anchor=\"start\" x=\"1718\" y=\"-22.8\" font-family=\"Helvetica,sans-Serif\" font-size=\"14.00\">value = [1, 0, 0]</text>\n<text text-anchor=\"start\" x=\"1717.5\" y=\"-7.8\" font-family=\"Helvetica,sans-Serif\" font-size=\"14.00\">class = Dropout</text>\n</g>\n<!-- 23&#45;&gt;25 -->\n<g id=\"edge25\" class=\"edge\">\n<title>23&#45;&gt;25</title>\n<path fill=\"none\" stroke=\"black\" d=\"M1765,-103.73C1765,-95.52 1765,-86.86 1765,-78.56\"/>\n<polygon fill=\"black\" stroke=\"black\" points=\"1768.5,-78.3 1765,-68.3 1761.5,-78.3 1768.5,-78.3\"/>\n</g>\n<!-- 27 -->\n<g id=\"node28\" class=\"node\">\n<title>27</title>\n<path fill=\"#a069eb\" stroke=\"black\" d=\"M2412,-425C2412,-425 2240,-425 2240,-425 2234,-425 2228,-419 2228,-413 2228,-413 2228,-354 2228,-354 2228,-348 2234,-342 2240,-342 2240,-342 2412,-342 2412,-342 2418,-342 2424,-348 2424,-354 2424,-354 2424,-413 2424,-413 2424,-419 2418,-425 2412,-425\"/>\n<text text-anchor=\"start\" x=\"2236\" y=\"-409.8\" font-family=\"Helvetica,sans-Serif\" font-size=\"14.00\">Gender_Category_Male ≤ 0.5</text>\n<text text-anchor=\"start\" x=\"2290.5\" y=\"-394.8\" font-family=\"Helvetica,sans-Serif\" font-size=\"14.00\">gini = 0.361</text>\n<text text-anchor=\"start\" x=\"2277.5\" y=\"-379.8\" font-family=\"Helvetica,sans-Serif\" font-size=\"14.00\">samples = 1053</text>\n<text text-anchor=\"start\" x=\"2256.5\" y=\"-364.8\" font-family=\"Helvetica,sans-Serif\" font-size=\"14.00\">value = [106, 121, 826]</text>\n<text text-anchor=\"start\" x=\"2277.5\" y=\"-349.8\" font-family=\"Helvetica,sans-Serif\" font-size=\"14.00\">class = Enrolled</text>\n</g>\n<!-- 26&#45;&gt;27 -->\n<g id=\"edge27\" class=\"edge\">\n<title>26&#45;&gt;27</title>\n<path fill=\"none\" stroke=\"black\" d=\"M2326,-460.91C2326,-452.65 2326,-443.86 2326,-435.3\"/>\n<polygon fill=\"black\" stroke=\"black\" points=\"2329.5,-435.02 2326,-425.02 2322.5,-435.02 2329.5,-435.02\"/>\n</g>\n<!-- 42 -->\n<g id=\"node43\" class=\"node\">\n<title>42</title>\n<path fill=\"#e0cef9\" stroke=\"black\" d=\"M3461,-425C3461,-425 3323,-425 3323,-425 3317,-425 3311,-419 3311,-413 3311,-413 3311,-354 3311,-354 3311,-348 3317,-342 3323,-342 3323,-342 3461,-342 3461,-342 3467,-342 3473,-348 3473,-354 3473,-354 3473,-413 3473,-413 3473,-419 3467,-425 3461,-425\"/>\n<text text-anchor=\"start\" x=\"3321\" y=\"-409.8\" font-family=\"Helvetica,sans-Serif\" font-size=\"14.00\">Age Group_17&#45;20 ≤ 0.5</text>\n<text text-anchor=\"start\" x=\"3356.5\" y=\"-394.8\" font-family=\"Helvetica,sans-Serif\" font-size=\"14.00\">gini = 0.633</text>\n<text text-anchor=\"start\" x=\"3343.5\" y=\"-379.8\" font-family=\"Helvetica,sans-Serif\" font-size=\"14.00\">samples = 2843</text>\n<text text-anchor=\"start\" x=\"3319\" y=\"-364.8\" font-family=\"Helvetica,sans-Serif\" font-size=\"14.00\">value = [858, 631, 1354]</text>\n<text text-anchor=\"start\" x=\"3343.5\" y=\"-349.8\" font-family=\"Helvetica,sans-Serif\" font-size=\"14.00\">class = Enrolled</text>\n</g>\n<!-- 26&#45;&gt;42 -->\n<g id=\"edge42\" class=\"edge\">\n<title>26&#45;&gt;42</title>\n<path fill=\"none\" stroke=\"black\" d=\"M2450.63,-487.82C2667.65,-464 3109.98,-415.45 3300.9,-394.5\"/>\n<polygon fill=\"black\" stroke=\"black\" points=\"3301.35,-397.97 3310.9,-393.4 3300.58,-391.01 3301.35,-397.97\"/>\n</g>\n<!-- 28 -->\n<g id=\"node29\" class=\"node\">\n<title>28</title>\n<path fill=\"#9a61ea\" stroke=\"black\" d=\"M2340,-306C2340,-306 2024,-306 2024,-306 2018,-306 2012,-300 2012,-294 2012,-294 2012,-235 2012,-235 2012,-229 2018,-223 2024,-223 2024,-223 2340,-223 2340,-223 2346,-223 2352,-229 2352,-235 2352,-235 2352,-294 2352,-294 2352,-300 2346,-306 2340,-306\"/>\n<text text-anchor=\"start\" x=\"2020\" y=\"-290.8\" font-family=\"Helvetica,sans-Serif\" font-size=\"14.00\">Father&#39;s Occupation_Category_Other and Blank ≤ 0.5</text>\n<text text-anchor=\"start\" x=\"2146.5\" y=\"-275.8\" font-family=\"Helvetica,sans-Serif\" font-size=\"14.00\">gini = 0.311</text>\n<text text-anchor=\"start\" x=\"2137\" y=\"-260.8\" font-family=\"Helvetica,sans-Serif\" font-size=\"14.00\">samples = 833</text>\n<text text-anchor=\"start\" x=\"2120\" y=\"-245.8\" font-family=\"Helvetica,sans-Serif\" font-size=\"14.00\">value = [68, 82, 683]</text>\n<text text-anchor=\"start\" x=\"2133.5\" y=\"-230.8\" font-family=\"Helvetica,sans-Serif\" font-size=\"14.00\">class = Enrolled</text>\n</g>\n<!-- 27&#45;&gt;28 -->\n<g id=\"edge28\" class=\"edge\">\n<title>27&#45;&gt;28</title>\n<path fill=\"none\" stroke=\"black\" d=\"M2276.04,-341.91C2264.31,-332.38 2251.72,-322.15 2239.69,-312.37\"/>\n<polygon fill=\"black\" stroke=\"black\" points=\"2241.84,-309.61 2231.87,-306.02 2237.43,-315.04 2241.84,-309.61\"/>\n</g>\n<!-- 35 -->\n<g id=\"node36\" class=\"node\">\n<title>35</title>\n<path fill=\"#b78df0\" stroke=\"black\" d=\"M2556,-306C2556,-306 2382,-306 2382,-306 2376,-306 2370,-300 2370,-294 2370,-294 2370,-235 2370,-235 2370,-229 2376,-223 2382,-223 2382,-223 2556,-223 2556,-223 2562,-223 2568,-229 2568,-235 2568,-235 2568,-294 2568,-294 2568,-300 2562,-306 2556,-306\"/>\n<text text-anchor=\"start\" x=\"2378\" y=\"-290.8\" font-family=\"Helvetica,sans-Serif\" font-size=\"14.00\">Course_Category_Other ≤ 0.5</text>\n<text text-anchor=\"start\" x=\"2433.5\" y=\"-275.8\" font-family=\"Helvetica,sans-Serif\" font-size=\"14.00\">gini = 0.516</text>\n<text text-anchor=\"start\" x=\"2424\" y=\"-260.8\" font-family=\"Helvetica,sans-Serif\" font-size=\"14.00\">samples = 220</text>\n<text text-anchor=\"start\" x=\"2407\" y=\"-245.8\" font-family=\"Helvetica,sans-Serif\" font-size=\"14.00\">value = [38, 39, 143]</text>\n<text text-anchor=\"start\" x=\"2420.5\" y=\"-230.8\" font-family=\"Helvetica,sans-Serif\" font-size=\"14.00\">class = Enrolled</text>\n</g>\n<!-- 27&#45;&gt;35 -->\n<g id=\"edge35\" class=\"edge\">\n<title>27&#45;&gt;35</title>\n<path fill=\"none\" stroke=\"black\" d=\"M2375.61,-341.91C2387.26,-332.38 2399.76,-322.15 2411.71,-312.37\"/>\n<polygon fill=\"black\" stroke=\"black\" points=\"2413.95,-315.06 2419.47,-306.02 2409.52,-309.64 2413.95,-315.06\"/>\n</g>\n<!-- 29 -->\n<g id=\"node30\" class=\"node\">\n<title>29</title>\n<path fill=\"#9a60ea\" stroke=\"black\" d=\"M2062,-187C2062,-187 1928,-187 1928,-187 1922,-187 1916,-181 1916,-175 1916,-175 1916,-116 1916,-116 1916,-110 1922,-104 1928,-104 1928,-104 2062,-104 2062,-104 2068,-104 2074,-110 2074,-116 2074,-116 2074,-175 2074,-175 2074,-181 2068,-187 2062,-187\"/>\n<text text-anchor=\"start\" x=\"1924\" y=\"-171.8\" font-family=\"Helvetica,sans-Serif\" font-size=\"14.00\">Age Group_27&#45;30 ≤ 0.5</text>\n<text text-anchor=\"start\" x=\"1959.5\" y=\"-156.8\" font-family=\"Helvetica,sans-Serif\" font-size=\"14.00\">gini = 0.306</text>\n<text text-anchor=\"start\" x=\"1950\" y=\"-141.8\" font-family=\"Helvetica,sans-Serif\" font-size=\"14.00\">samples = 828</text>\n<text text-anchor=\"start\" x=\"1933\" y=\"-126.8\" font-family=\"Helvetica,sans-Serif\" font-size=\"14.00\">value = [64, 82, 682]</text>\n<text text-anchor=\"start\" x=\"1946.5\" y=\"-111.8\" font-family=\"Helvetica,sans-Serif\" font-size=\"14.00\">class = Enrolled</text>\n</g>\n<!-- 28&#45;&gt;29 -->\n<g id=\"edge29\" class=\"edge\">\n<title>28&#45;&gt;29</title>\n<path fill=\"none\" stroke=\"black\" d=\"M2117.12,-222.91C2101.46,-213.11 2084.6,-202.56 2068.57,-192.53\"/>\n<polygon fill=\"black\" stroke=\"black\" points=\"2070.1,-189.36 2059.76,-187.02 2066.39,-195.29 2070.1,-189.36\"/>\n</g>\n<!-- 32 -->\n<g id=\"node33\" class=\"node\">\n<title>32</title>\n<path fill=\"#eca06a\" stroke=\"black\" d=\"M2278,-187C2278,-187 2104,-187 2104,-187 2098,-187 2092,-181 2092,-175 2092,-175 2092,-116 2092,-116 2092,-110 2098,-104 2104,-104 2104,-104 2278,-104 2278,-104 2284,-104 2290,-110 2290,-116 2290,-116 2290,-175 2290,-175 2290,-181 2284,-187 2278,-187\"/>\n<text text-anchor=\"start\" x=\"2100\" y=\"-171.8\" font-family=\"Helvetica,sans-Serif\" font-size=\"14.00\">Course_Category_Other ≤ 0.5</text>\n<text text-anchor=\"start\" x=\"2159\" y=\"-156.8\" font-family=\"Helvetica,sans-Serif\" font-size=\"14.00\">gini = 0.32</text>\n<text text-anchor=\"start\" x=\"2153.5\" y=\"-141.8\" font-family=\"Helvetica,sans-Serif\" font-size=\"14.00\">samples = 5</text>\n<text text-anchor=\"start\" x=\"2144\" y=\"-126.8\" font-family=\"Helvetica,sans-Serif\" font-size=\"14.00\">value = [4, 0, 1]</text>\n<text text-anchor=\"start\" x=\"2143.5\" y=\"-111.8\" font-family=\"Helvetica,sans-Serif\" font-size=\"14.00\">class = Dropout</text>\n</g>\n<!-- 28&#45;&gt;32 -->\n<g id=\"edge32\" class=\"edge\">\n<title>28&#45;&gt;32</title>\n<path fill=\"none\" stroke=\"black\" d=\"M2185.12,-222.91C2185.76,-214.56 2186.45,-205.67 2187.11,-197.02\"/>\n<polygon fill=\"black\" stroke=\"black\" points=\"2190.61,-197.26 2187.88,-187.02 2183.63,-196.72 2190.61,-197.26\"/>\n</g>\n<!-- 30 -->\n<g id=\"node31\" class=\"node\">\n<title>30</title>\n<path fill=\"#995fea\" stroke=\"black\" d=\"M1967,-68C1967,-68 1851,-68 1851,-68 1845,-68 1839,-62 1839,-56 1839,-56 1839,-12 1839,-12 1839,-6 1845,0 1851,0 1851,0 1967,0 1967,0 1973,0 1979,-6 1979,-12 1979,-12 1979,-56 1979,-56 1979,-62 1973,-68 1967,-68\"/>\n<text text-anchor=\"start\" x=\"1873.5\" y=\"-52.8\" font-family=\"Helvetica,sans-Serif\" font-size=\"14.00\">gini = 0.298</text>\n<text text-anchor=\"start\" x=\"1864\" y=\"-37.8\" font-family=\"Helvetica,sans-Serif\" font-size=\"14.00\">samples = 818</text>\n<text text-anchor=\"start\" x=\"1847\" y=\"-22.8\" font-family=\"Helvetica,sans-Serif\" font-size=\"14.00\">value = [61, 79, 678]</text>\n<text text-anchor=\"start\" x=\"1860.5\" y=\"-7.8\" font-family=\"Helvetica,sans-Serif\" font-size=\"14.00\">class = Enrolled</text>\n</g>\n<!-- 29&#45;&gt;30 -->\n<g id=\"edge30\" class=\"edge\">\n<title>29&#45;&gt;30</title>\n<path fill=\"none\" stroke=\"black\" d=\"M1962.98,-103.73C1955.96,-94.79 1948.52,-85.32 1941.48,-76.36\"/>\n<polygon fill=\"black\" stroke=\"black\" points=\"1944.08,-74 1935.15,-68.3 1938.58,-78.33 1944.08,-74\"/>\n</g>\n<!-- 31 -->\n<g id=\"node32\" class=\"node\">\n<title>31</title>\n<path fill=\"#ede3fb\" stroke=\"black\" d=\"M2098.5,-68C2098.5,-68 2009.5,-68 2009.5,-68 2003.5,-68 1997.5,-62 1997.5,-56 1997.5,-56 1997.5,-12 1997.5,-12 1997.5,-6 2003.5,0 2009.5,0 2009.5,0 2098.5,0 2098.5,0 2104.5,0 2110.5,-6 2110.5,-12 2110.5,-12 2110.5,-56 2110.5,-56 2110.5,-62 2104.5,-68 2098.5,-68\"/>\n<text text-anchor=\"start\" x=\"2022\" y=\"-52.8\" font-family=\"Helvetica,sans-Serif\" font-size=\"14.00\">gini = 0.66</text>\n<text text-anchor=\"start\" x=\"2013\" y=\"-37.8\" font-family=\"Helvetica,sans-Serif\" font-size=\"14.00\">samples = 10</text>\n<text text-anchor=\"start\" x=\"2007\" y=\"-22.8\" font-family=\"Helvetica,sans-Serif\" font-size=\"14.00\">value = [3, 3, 4]</text>\n<text text-anchor=\"start\" x=\"2005.5\" y=\"-7.8\" font-family=\"Helvetica,sans-Serif\" font-size=\"14.00\">class = Enrolled</text>\n</g>\n<!-- 29&#45;&gt;31 -->\n<g id=\"edge31\" class=\"edge\">\n<title>29&#45;&gt;31</title>\n<path fill=\"none\" stroke=\"black\" d=\"M2016.97,-103.73C2021.64,-95.06 2026.58,-85.9 2031.27,-77.18\"/>\n<polygon fill=\"black\" stroke=\"black\" points=\"2034.4,-78.76 2036.06,-68.3 2028.23,-75.44 2034.4,-78.76\"/>\n</g>\n<!-- 33 -->\n<g id=\"node34\" class=\"node\">\n<title>33</title>\n<path fill=\"#e58139\" stroke=\"black\" d=\"M2227.5,-68C2227.5,-68 2140.5,-68 2140.5,-68 2134.5,-68 2128.5,-62 2128.5,-56 2128.5,-56 2128.5,-12 2128.5,-12 2128.5,-6 2134.5,0 2140.5,0 2140.5,0 2227.5,0 2227.5,0 2233.5,0 2239.5,-6 2239.5,-12 2239.5,-12 2239.5,-56 2239.5,-56 2239.5,-62 2233.5,-68 2227.5,-68\"/>\n<text text-anchor=\"start\" x=\"2156\" y=\"-52.8\" font-family=\"Helvetica,sans-Serif\" font-size=\"14.00\">gini = 0.0</text>\n<text text-anchor=\"start\" x=\"2146.5\" y=\"-37.8\" font-family=\"Helvetica,sans-Serif\" font-size=\"14.00\">samples = 4</text>\n<text text-anchor=\"start\" x=\"2137\" y=\"-22.8\" font-family=\"Helvetica,sans-Serif\" font-size=\"14.00\">value = [4, 0, 0]</text>\n<text text-anchor=\"start\" x=\"2136.5\" y=\"-7.8\" font-family=\"Helvetica,sans-Serif\" font-size=\"14.00\">class = Dropout</text>\n</g>\n<!-- 32&#45;&gt;33 -->\n<g id=\"edge33\" class=\"edge\">\n<title>32&#45;&gt;33</title>\n<path fill=\"none\" stroke=\"black\" d=\"M2188.39,-103.73C2187.86,-95.43 2187.3,-86.67 2186.77,-78.28\"/>\n<polygon fill=\"black\" stroke=\"black\" points=\"2190.26,-78.06 2186.13,-68.3 2183.27,-78.5 2190.26,-78.06\"/>\n</g>\n<!-- 34 -->\n<g id=\"node35\" class=\"node\">\n<title>34</title>\n<path fill=\"#8139e5\" stroke=\"black\" d=\"M2358.5,-68C2358.5,-68 2269.5,-68 2269.5,-68 2263.5,-68 2257.5,-62 2257.5,-56 2257.5,-56 2257.5,-12 2257.5,-12 2257.5,-6 2263.5,0 2269.5,0 2269.5,0 2358.5,0 2358.5,0 2364.5,0 2370.5,-6 2370.5,-12 2370.5,-12 2370.5,-56 2370.5,-56 2370.5,-62 2364.5,-68 2358.5,-68\"/>\n<text text-anchor=\"start\" x=\"2286\" y=\"-52.8\" font-family=\"Helvetica,sans-Serif\" font-size=\"14.00\">gini = 0.0</text>\n<text text-anchor=\"start\" x=\"2276.5\" y=\"-37.8\" font-family=\"Helvetica,sans-Serif\" font-size=\"14.00\">samples = 1</text>\n<text text-anchor=\"start\" x=\"2267\" y=\"-22.8\" font-family=\"Helvetica,sans-Serif\" font-size=\"14.00\">value = [0, 0, 1]</text>\n<text text-anchor=\"start\" x=\"2265.5\" y=\"-7.8\" font-family=\"Helvetica,sans-Serif\" font-size=\"14.00\">class = Enrolled</text>\n</g>\n<!-- 32&#45;&gt;34 -->\n<g id=\"edge34\" class=\"edge\">\n<title>32&#45;&gt;34</title>\n<path fill=\"none\" stroke=\"black\" d=\"M2236.8,-103.73C2247.35,-94.33 2258.57,-84.35 2269.08,-74.99\"/>\n<polygon fill=\"black\" stroke=\"black\" points=\"2271.45,-77.56 2276.59,-68.3 2266.8,-72.33 2271.45,-77.56\"/>\n</g>\n<!-- 36 -->\n<g id=\"node37\" class=\"node\">\n<title>36</title>\n<path fill=\"#b184ef\" stroke=\"black\" d=\"M2591,-187C2591,-187 2327,-187 2327,-187 2321,-187 2315,-181 2315,-175 2315,-175 2315,-116 2315,-116 2315,-110 2321,-104 2327,-104 2327,-104 2591,-104 2591,-104 2597,-104 2603,-110 2603,-116 2603,-116 2603,-175 2603,-175 2603,-181 2597,-187 2591,-187\"/>\n<text text-anchor=\"start\" x=\"2323\" y=\"-171.8\" font-family=\"Helvetica,sans-Serif\" font-size=\"14.00\">Father&#39;s Occupation_Category_Student ≤ 0.5</text>\n<text text-anchor=\"start\" x=\"2423.5\" y=\"-156.8\" font-family=\"Helvetica,sans-Serif\" font-size=\"14.00\">gini = 0.483</text>\n<text text-anchor=\"start\" x=\"2414\" y=\"-141.8\" font-family=\"Helvetica,sans-Serif\" font-size=\"14.00\">samples = 199</text>\n<text text-anchor=\"start\" x=\"2397\" y=\"-126.8\" font-family=\"Helvetica,sans-Serif\" font-size=\"14.00\">value = [31, 32, 136]</text>\n<text text-anchor=\"start\" x=\"2410.5\" y=\"-111.8\" font-family=\"Helvetica,sans-Serif\" font-size=\"14.00\">class = Enrolled</text>\n</g>\n<!-- 35&#45;&gt;36 -->\n<g id=\"edge36\" class=\"edge\">\n<title>35&#45;&gt;36</title>\n<path fill=\"none\" stroke=\"black\" d=\"M2465.53,-222.91C2464.82,-214.56 2464.06,-205.67 2463.32,-197.02\"/>\n<polygon fill=\"black\" stroke=\"black\" points=\"2466.8,-196.69 2462.46,-187.02 2459.83,-197.28 2466.8,-196.69\"/>\n</g>\n<!-- 39 -->\n<g id=\"node40\" class=\"node\">\n<title>39</title>\n<path fill=\"#ffffff\" stroke=\"black\" d=\"M3103,-187C3103,-187 2633,-187 2633,-187 2627,-187 2621,-181 2621,-175 2621,-175 2621,-116 2621,-116 2621,-110 2627,-104 2633,-104 2633,-104 3103,-104 3103,-104 3109,-104 3115,-110 3115,-116 3115,-116 3115,-175 3115,-175 3115,-181 3109,-187 3103,-187\"/>\n<text text-anchor=\"start\" x=\"2629\" y=\"-171.8\" font-family=\"Helvetica,sans-Serif\" font-size=\"14.00\">Father&#39;s Qualification_Category_Complete Secondary School or Eqivalent ≤ 0.5</text>\n<text text-anchor=\"start\" x=\"2832.5\" y=\"-156.8\" font-family=\"Helvetica,sans-Serif\" font-size=\"14.00\">gini = 0.667</text>\n<text text-anchor=\"start\" x=\"2827\" y=\"-141.8\" font-family=\"Helvetica,sans-Serif\" font-size=\"14.00\">samples = 21</text>\n<text text-anchor=\"start\" x=\"2821\" y=\"-126.8\" font-family=\"Helvetica,sans-Serif\" font-size=\"14.00\">value = [7, 7, 7]</text>\n<text text-anchor=\"start\" x=\"2820.5\" y=\"-111.8\" font-family=\"Helvetica,sans-Serif\" font-size=\"14.00\">class = Dropout</text>\n</g>\n<!-- 35&#45;&gt;39 -->\n<g id=\"edge39\" class=\"edge\">\n<title>35&#45;&gt;39</title>\n<path fill=\"none\" stroke=\"black\" d=\"M2568.14,-234.43C2614,-220.98 2669.42,-204.73 2720.08,-189.87\"/>\n<polygon fill=\"black\" stroke=\"black\" points=\"2721.21,-193.19 2729.82,-187.02 2719.24,-186.48 2721.21,-193.19\"/>\n</g>\n<!-- 37 -->\n<g id=\"node38\" class=\"node\">\n<title>37</title>\n<path fill=\"#af82ef\" stroke=\"black\" d=\"M2517,-68C2517,-68 2401,-68 2401,-68 2395,-68 2389,-62 2389,-56 2389,-56 2389,-12 2389,-12 2389,-6 2395,0 2401,0 2401,0 2517,0 2517,0 2523,0 2529,-6 2529,-12 2529,-12 2529,-56 2529,-56 2529,-62 2523,-68 2517,-68\"/>\n<text text-anchor=\"start\" x=\"2423.5\" y=\"-52.8\" font-family=\"Helvetica,sans-Serif\" font-size=\"14.00\">gini = 0.475</text>\n<text text-anchor=\"start\" x=\"2414\" y=\"-37.8\" font-family=\"Helvetica,sans-Serif\" font-size=\"14.00\">samples = 197</text>\n<text text-anchor=\"start\" x=\"2397\" y=\"-22.8\" font-family=\"Helvetica,sans-Serif\" font-size=\"14.00\">value = [31, 30, 136]</text>\n<text text-anchor=\"start\" x=\"2410.5\" y=\"-7.8\" font-family=\"Helvetica,sans-Serif\" font-size=\"14.00\">class = Enrolled</text>\n</g>\n<!-- 36&#45;&gt;37 -->\n<g id=\"edge37\" class=\"edge\">\n<title>36&#45;&gt;37</title>\n<path fill=\"none\" stroke=\"black\" d=\"M2459,-103.73C2459,-95.52 2459,-86.86 2459,-78.56\"/>\n<polygon fill=\"black\" stroke=\"black\" points=\"2462.5,-78.3 2459,-68.3 2455.5,-78.3 2462.5,-78.3\"/>\n</g>\n<!-- 38 -->\n<g id=\"node39\" class=\"node\">\n<title>38</title>\n<path fill=\"#39e581\" stroke=\"black\" d=\"M2655,-68C2655,-68 2559,-68 2559,-68 2553,-68 2547,-62 2547,-56 2547,-56 2547,-12 2547,-12 2547,-6 2553,0 2559,0 2559,0 2655,0 2655,0 2661,0 2667,-6 2667,-12 2667,-12 2667,-56 2667,-56 2667,-62 2661,-68 2655,-68\"/>\n<text text-anchor=\"start\" x=\"2579\" y=\"-52.8\" font-family=\"Helvetica,sans-Serif\" font-size=\"14.00\">gini = 0.0</text>\n<text text-anchor=\"start\" x=\"2569.5\" y=\"-37.8\" font-family=\"Helvetica,sans-Serif\" font-size=\"14.00\">samples = 2</text>\n<text text-anchor=\"start\" x=\"2560\" y=\"-22.8\" font-family=\"Helvetica,sans-Serif\" font-size=\"14.00\">value = [0, 2, 0]</text>\n<text text-anchor=\"start\" x=\"2555\" y=\"-7.8\" font-family=\"Helvetica,sans-Serif\" font-size=\"14.00\">class = Graduate</text>\n</g>\n<!-- 36&#45;&gt;38 -->\n<g id=\"edge38\" class=\"edge\">\n<title>36&#45;&gt;38</title>\n<path fill=\"none\" stroke=\"black\" d=\"M2514.11,-103.73C2527.05,-94.15 2540.82,-83.96 2553.69,-74.44\"/>\n<polygon fill=\"black\" stroke=\"black\" points=\"2556.04,-77.06 2561.99,-68.3 2551.87,-71.43 2556.04,-77.06\"/>\n</g>\n<!-- 40 -->\n<g id=\"node41\" class=\"node\">\n<title>40</title>\n<path fill=\"#ffffff\" stroke=\"black\" d=\"M2818.5,-68C2818.5,-68 2731.5,-68 2731.5,-68 2725.5,-68 2719.5,-62 2719.5,-56 2719.5,-56 2719.5,-12 2719.5,-12 2719.5,-6 2725.5,0 2731.5,0 2731.5,0 2818.5,0 2818.5,0 2824.5,0 2830.5,-6 2830.5,-12 2830.5,-12 2830.5,-56 2830.5,-56 2830.5,-62 2824.5,-68 2818.5,-68\"/>\n<text text-anchor=\"start\" x=\"2739.5\" y=\"-52.8\" font-family=\"Helvetica,sans-Serif\" font-size=\"14.00\">gini = 0.648</text>\n<text text-anchor=\"start\" x=\"2734\" y=\"-37.8\" font-family=\"Helvetica,sans-Serif\" font-size=\"14.00\">samples = 18</text>\n<text text-anchor=\"start\" x=\"2728\" y=\"-22.8\" font-family=\"Helvetica,sans-Serif\" font-size=\"14.00\">value = [7, 4, 7]</text>\n<text text-anchor=\"start\" x=\"2727.5\" y=\"-7.8\" font-family=\"Helvetica,sans-Serif\" font-size=\"14.00\">class = Dropout</text>\n</g>\n<!-- 39&#45;&gt;40 -->\n<g id=\"edge40\" class=\"edge\">\n<title>39&#45;&gt;40</title>\n<path fill=\"none\" stroke=\"black\" d=\"M2833.37,-103.73C2825.7,-94.7 2817.57,-85.12 2809.89,-76.08\"/>\n<polygon fill=\"black\" stroke=\"black\" points=\"2812.42,-73.66 2803.28,-68.3 2807.09,-78.19 2812.42,-73.66\"/>\n</g>\n<!-- 41 -->\n<g id=\"node42\" class=\"node\">\n<title>41</title>\n<path fill=\"#39e581\" stroke=\"black\" d=\"M2957,-68C2957,-68 2861,-68 2861,-68 2855,-68 2849,-62 2849,-56 2849,-56 2849,-12 2849,-12 2849,-6 2855,0 2861,0 2861,0 2957,0 2957,0 2963,0 2969,-6 2969,-12 2969,-12 2969,-56 2969,-56 2969,-62 2963,-68 2957,-68\"/>\n<text text-anchor=\"start\" x=\"2881\" y=\"-52.8\" font-family=\"Helvetica,sans-Serif\" font-size=\"14.00\">gini = 0.0</text>\n<text text-anchor=\"start\" x=\"2871.5\" y=\"-37.8\" font-family=\"Helvetica,sans-Serif\" font-size=\"14.00\">samples = 3</text>\n<text text-anchor=\"start\" x=\"2862\" y=\"-22.8\" font-family=\"Helvetica,sans-Serif\" font-size=\"14.00\">value = [0, 3, 0]</text>\n<text text-anchor=\"start\" x=\"2857\" y=\"-7.8\" font-family=\"Helvetica,sans-Serif\" font-size=\"14.00\">class = Graduate</text>\n</g>\n<!-- 39&#45;&gt;41 -->\n<g id=\"edge41\" class=\"edge\">\n<title>39&#45;&gt;41</title>\n<path fill=\"none\" stroke=\"black\" d=\"M2883.27,-103.73C2886.44,-95.24 2889.8,-86.28 2893,-77.73\"/>\n<polygon fill=\"black\" stroke=\"black\" points=\"2896.3,-78.89 2896.53,-68.3 2889.75,-76.44 2896.3,-78.89\"/>\n</g>\n<!-- 43 -->\n<g id=\"node44\" class=\"node\">\n<title>43</title>\n<path fill=\"#fef8f4\" stroke=\"black\" d=\"M3459,-306C3459,-306 3325,-306 3325,-306 3319,-306 3313,-300 3313,-294 3313,-294 3313,-235 3313,-235 3313,-229 3319,-223 3325,-223 3325,-223 3459,-223 3459,-223 3465,-223 3471,-229 3471,-235 3471,-235 3471,-294 3471,-294 3471,-300 3465,-306 3459,-306\"/>\n<text text-anchor=\"start\" x=\"3321\" y=\"-290.8\" font-family=\"Helvetica,sans-Serif\" font-size=\"14.00\">Age Group_21&#45;23 ≤ 0.5</text>\n<text text-anchor=\"start\" x=\"3356.5\" y=\"-275.8\" font-family=\"Helvetica,sans-Serif\" font-size=\"14.00\">gini = 0.644</text>\n<text text-anchor=\"start\" x=\"3343.5\" y=\"-260.8\" font-family=\"Helvetica,sans-Serif\" font-size=\"14.00\">samples = 1269</text>\n<text text-anchor=\"start\" x=\"3322.5\" y=\"-245.8\" font-family=\"Helvetica,sans-Serif\" font-size=\"14.00\">value = [521, 269, 479]</text>\n<text text-anchor=\"start\" x=\"3344.5\" y=\"-230.8\" font-family=\"Helvetica,sans-Serif\" font-size=\"14.00\">class = Dropout</text>\n</g>\n<!-- 42&#45;&gt;43 -->\n<g id=\"edge43\" class=\"edge\">\n<title>42&#45;&gt;43</title>\n<path fill=\"none\" stroke=\"black\" d=\"M3392,-341.91C3392,-333.65 3392,-324.86 3392,-316.3\"/>\n<polygon fill=\"black\" stroke=\"black\" points=\"3395.5,-316.02 3392,-306.02 3388.5,-316.02 3395.5,-316.02\"/>\n</g>\n<!-- 50 -->\n<g id=\"node51\" class=\"node\">\n<title>50</title>\n<path fill=\"#caabf4\" stroke=\"black\" d=\"M3865.5,-306C3865.5,-306 3660.5,-306 3660.5,-306 3654.5,-306 3648.5,-300 3648.5,-294 3648.5,-294 3648.5,-235 3648.5,-235 3648.5,-229 3654.5,-223 3660.5,-223 3660.5,-223 3865.5,-223 3865.5,-223 3871.5,-223 3877.5,-229 3877.5,-235 3877.5,-235 3877.5,-294 3877.5,-294 3877.5,-300 3871.5,-306 3865.5,-306\"/>\n<text text-anchor=\"start\" x=\"3656.5\" y=\"-290.8\" font-family=\"Helvetica,sans-Serif\" font-size=\"14.00\">Course_Category_Healthcare ≤ 0.5</text>\n<text text-anchor=\"start\" x=\"3727.5\" y=\"-275.8\" font-family=\"Helvetica,sans-Serif\" font-size=\"14.00\">gini = 0.592</text>\n<text text-anchor=\"start\" x=\"3714.5\" y=\"-260.8\" font-family=\"Helvetica,sans-Serif\" font-size=\"14.00\">samples = 1574</text>\n<text text-anchor=\"start\" x=\"3693.5\" y=\"-245.8\" font-family=\"Helvetica,sans-Serif\" font-size=\"14.00\">value = [337, 362, 875]</text>\n<text text-anchor=\"start\" x=\"3714.5\" y=\"-230.8\" font-family=\"Helvetica,sans-Serif\" font-size=\"14.00\">class = Enrolled</text>\n</g>\n<!-- 42&#45;&gt;50 -->\n<g id=\"edge50\" class=\"edge\">\n<title>42&#45;&gt;50</title>\n<path fill=\"none\" stroke=\"black\" d=\"M3473.42,-356.82C3521.81,-341.56 3584.18,-321.89 3638.63,-304.72\"/>\n<polygon fill=\"black\" stroke=\"black\" points=\"3639.86,-308 3648.35,-301.66 3637.76,-301.33 3639.86,-308\"/>\n</g>\n<!-- 44 -->\n<g id=\"node45\" class=\"node\">\n<title>44</title>\n<path fill=\"#fbe9dd\" stroke=\"black\" d=\"M3377,-187C3377,-187 3145,-187 3145,-187 3139,-187 3133,-181 3133,-175 3133,-175 3133,-116 3133,-116 3133,-110 3139,-104 3145,-104 3145,-104 3377,-104 3377,-104 3383,-104 3389,-110 3389,-116 3389,-116 3389,-175 3389,-175 3389,-181 3383,-187 3377,-187\"/>\n<text text-anchor=\"start\" x=\"3141\" y=\"-171.8\" font-family=\"Helvetica,sans-Serif\" font-size=\"14.00\">Course_Category_Social Services ≤ 0.5</text>\n<text text-anchor=\"start\" x=\"3225.5\" y=\"-156.8\" font-family=\"Helvetica,sans-Serif\" font-size=\"14.00\">gini = 0.627</text>\n<text text-anchor=\"start\" x=\"3216\" y=\"-141.8\" font-family=\"Helvetica,sans-Serif\" font-size=\"14.00\">samples = 866</text>\n<text text-anchor=\"start\" x=\"3191.5\" y=\"-126.8\" font-family=\"Helvetica,sans-Serif\" font-size=\"14.00\">value = [401, 160, 305]</text>\n<text text-anchor=\"start\" x=\"3213.5\" y=\"-111.8\" font-family=\"Helvetica,sans-Serif\" font-size=\"14.00\">class = Dropout</text>\n</g>\n<!-- 43&#45;&gt;44 -->\n<g id=\"edge44\" class=\"edge\">\n<title>43&#45;&gt;44</title>\n<path fill=\"none\" stroke=\"black\" d=\"M3346.55,-222.91C3336.08,-213.56 3324.86,-203.54 3314.1,-193.93\"/>\n<polygon fill=\"black\" stroke=\"black\" points=\"3316.16,-191.07 3306.37,-187.02 3311.5,-196.29 3316.16,-191.07\"/>\n</g>\n<!-- 47 -->\n<g id=\"node48\" class=\"node\">\n<title>47</title>\n<path fill=\"#e7d9fa\" stroke=\"black\" d=\"M3624.5,-187C3624.5,-187 3419.5,-187 3419.5,-187 3413.5,-187 3407.5,-181 3407.5,-175 3407.5,-175 3407.5,-116 3407.5,-116 3407.5,-110 3413.5,-104 3419.5,-104 3419.5,-104 3624.5,-104 3624.5,-104 3630.5,-104 3636.5,-110 3636.5,-116 3636.5,-116 3636.5,-175 3636.5,-175 3636.5,-181 3630.5,-187 3624.5,-187\"/>\n<text text-anchor=\"start\" x=\"3415.5\" y=\"-171.8\" font-family=\"Helvetica,sans-Serif\" font-size=\"14.00\">Course_Category_Healthcare ≤ 0.5</text>\n<text text-anchor=\"start\" x=\"3486.5\" y=\"-156.8\" font-family=\"Helvetica,sans-Serif\" font-size=\"14.00\">gini = 0.652</text>\n<text text-anchor=\"start\" x=\"3477\" y=\"-141.8\" font-family=\"Helvetica,sans-Serif\" font-size=\"14.00\">samples = 403</text>\n<text text-anchor=\"start\" x=\"3452.5\" y=\"-126.8\" font-family=\"Helvetica,sans-Serif\" font-size=\"14.00\">value = [120, 109, 174]</text>\n<text text-anchor=\"start\" x=\"3473.5\" y=\"-111.8\" font-family=\"Helvetica,sans-Serif\" font-size=\"14.00\">class = Enrolled</text>\n</g>\n<!-- 43&#45;&gt;47 -->\n<g id=\"edge47\" class=\"edge\">\n<title>43&#45;&gt;47</title>\n<path fill=\"none\" stroke=\"black\" d=\"M3437.1,-222.91C3447.49,-213.56 3458.62,-203.54 3469.3,-193.93\"/>\n<polygon fill=\"black\" stroke=\"black\" points=\"3471.89,-196.31 3476.98,-187.02 3467.2,-191.11 3471.89,-196.31\"/>\n</g>\n<!-- 45 -->\n<g id=\"node46\" class=\"node\">\n<title>45</title>\n<path fill=\"#f9e1cf\" stroke=\"black\" d=\"M3164.5,-68C3164.5,-68 3033.5,-68 3033.5,-68 3027.5,-68 3021.5,-62 3021.5,-56 3021.5,-56 3021.5,-12 3021.5,-12 3021.5,-6 3027.5,0 3033.5,0 3033.5,0 3164.5,0 3164.5,0 3170.5,0 3176.5,-6 3176.5,-12 3176.5,-12 3176.5,-56 3176.5,-56 3176.5,-62 3170.5,-68 3164.5,-68\"/>\n<text text-anchor=\"start\" x=\"3063.5\" y=\"-52.8\" font-family=\"Helvetica,sans-Serif\" font-size=\"14.00\">gini = 0.625</text>\n<text text-anchor=\"start\" x=\"3054\" y=\"-37.8\" font-family=\"Helvetica,sans-Serif\" font-size=\"14.00\">samples = 746</text>\n<text text-anchor=\"start\" x=\"3029.5\" y=\"-22.8\" font-family=\"Helvetica,sans-Serif\" font-size=\"14.00\">value = [361, 146, 239]</text>\n<text text-anchor=\"start\" x=\"3051.5\" y=\"-7.8\" font-family=\"Helvetica,sans-Serif\" font-size=\"14.00\">class = Dropout</text>\n</g>\n<!-- 44&#45;&gt;45 -->\n<g id=\"edge45\" class=\"edge\">\n<title>44&#45;&gt;45</title>\n<path fill=\"none\" stroke=\"black\" d=\"M3200.68,-103.73C3186.16,-93.92 3170.7,-83.46 3156.33,-73.75\"/>\n<polygon fill=\"black\" stroke=\"black\" points=\"3158.25,-70.83 3148.01,-68.13 3154.33,-76.62 3158.25,-70.83\"/>\n</g>\n<!-- 46 -->\n<g id=\"node47\" class=\"node\">\n<title>46</title>\n<path fill=\"#d6bff7\" stroke=\"black\" d=\"M3315,-68C3315,-68 3207,-68 3207,-68 3201,-68 3195,-62 3195,-56 3195,-56 3195,-12 3195,-12 3195,-6 3201,0 3207,0 3207,0 3315,0 3315,0 3321,0 3327,-6 3327,-12 3327,-12 3327,-56 3327,-56 3327,-62 3321,-68 3315,-68\"/>\n<text text-anchor=\"start\" x=\"3225.5\" y=\"-52.8\" font-family=\"Helvetica,sans-Serif\" font-size=\"14.00\">gini = 0.573</text>\n<text text-anchor=\"start\" x=\"3216\" y=\"-37.8\" font-family=\"Helvetica,sans-Serif\" font-size=\"14.00\">samples = 120</text>\n<text text-anchor=\"start\" x=\"3203\" y=\"-22.8\" font-family=\"Helvetica,sans-Serif\" font-size=\"14.00\">value = [40, 14, 66]</text>\n<text text-anchor=\"start\" x=\"3212.5\" y=\"-7.8\" font-family=\"Helvetica,sans-Serif\" font-size=\"14.00\">class = Enrolled</text>\n</g>\n<!-- 44&#45;&gt;46 -->\n<g id=\"edge46\" class=\"edge\">\n<title>44&#45;&gt;46</title>\n<path fill=\"none\" stroke=\"black\" d=\"M3261,-103.73C3261,-95.52 3261,-86.86 3261,-78.56\"/>\n<polygon fill=\"black\" stroke=\"black\" points=\"3264.5,-78.3 3261,-68.3 3257.5,-78.3 3264.5,-78.3\"/>\n</g>\n<!-- 48 -->\n<g id=\"node49\" class=\"node\">\n<title>48</title>\n<path fill=\"#f0e8fc\" stroke=\"black\" d=\"M3488.5,-68C3488.5,-68 3357.5,-68 3357.5,-68 3351.5,-68 3345.5,-62 3345.5,-56 3345.5,-56 3345.5,-12 3345.5,-12 3345.5,-6 3351.5,0 3357.5,0 3357.5,0 3488.5,0 3488.5,0 3494.5,0 3500.5,-6 3500.5,-12 3500.5,-12 3500.5,-56 3500.5,-56 3500.5,-62 3494.5,-68 3488.5,-68\"/>\n<text text-anchor=\"start\" x=\"3387.5\" y=\"-52.8\" font-family=\"Helvetica,sans-Serif\" font-size=\"14.00\">gini = 0.658</text>\n<text text-anchor=\"start\" x=\"3378\" y=\"-37.8\" font-family=\"Helvetica,sans-Serif\" font-size=\"14.00\">samples = 363</text>\n<text text-anchor=\"start\" x=\"3353.5\" y=\"-22.8\" font-family=\"Helvetica,sans-Serif\" font-size=\"14.00\">value = [117, 100, 146]</text>\n<text text-anchor=\"start\" x=\"3374.5\" y=\"-7.8\" font-family=\"Helvetica,sans-Serif\" font-size=\"14.00\">class = Enrolled</text>\n</g>\n<!-- 47&#45;&gt;48 -->\n<g id=\"edge48\" class=\"edge\">\n<title>47&#45;&gt;48</title>\n<path fill=\"none\" stroke=\"black\" d=\"M3485.14,-103.73C3476.89,-94.61 3468.14,-84.93 3459.89,-75.81\"/>\n<polygon fill=\"black\" stroke=\"black\" points=\"3462.41,-73.37 3453.11,-68.3 3457.22,-78.06 3462.41,-73.37\"/>\n</g>\n<!-- 49 -->\n<g id=\"node50\" class=\"node\">\n<title>49</title>\n<path fill=\"#b286ef\" stroke=\"black\" d=\"M3623.5,-68C3623.5,-68 3530.5,-68 3530.5,-68 3524.5,-68 3518.5,-62 3518.5,-56 3518.5,-56 3518.5,-12 3518.5,-12 3518.5,-6 3524.5,0 3530.5,0 3530.5,0 3623.5,0 3623.5,0 3629.5,0 3635.5,-6 3635.5,-12 3635.5,-12 3635.5,-56 3635.5,-56 3635.5,-62 3629.5,-68 3623.5,-68\"/>\n<text text-anchor=\"start\" x=\"3541.5\" y=\"-52.8\" font-family=\"Helvetica,sans-Serif\" font-size=\"14.00\">gini = 0.454</text>\n<text text-anchor=\"start\" x=\"3536\" y=\"-37.8\" font-family=\"Helvetica,sans-Serif\" font-size=\"14.00\">samples = 40</text>\n<text text-anchor=\"start\" x=\"3526.5\" y=\"-22.8\" font-family=\"Helvetica,sans-Serif\" font-size=\"14.00\">value = [3, 9, 28]</text>\n<text text-anchor=\"start\" x=\"3528.5\" y=\"-7.8\" font-family=\"Helvetica,sans-Serif\" font-size=\"14.00\">class = Enrolled</text>\n</g>\n<!-- 47&#45;&gt;49 -->\n<g id=\"edge49\" class=\"edge\">\n<title>47&#45;&gt;49</title>\n<path fill=\"none\" stroke=\"black\" d=\"M3542.48,-103.73C3546.79,-95.15 3551.34,-86.09 3555.68,-77.46\"/>\n<polygon fill=\"black\" stroke=\"black\" points=\"3558.91,-78.81 3560.27,-68.3 3552.66,-75.66 3558.91,-78.81\"/>\n</g>\n<!-- 51 -->\n<g id=\"node52\" class=\"node\">\n<title>51</title>\n<path fill=\"#d4bcf6\" stroke=\"black\" d=\"M3849,-187C3849,-187 3677,-187 3677,-187 3671,-187 3665,-181 3665,-175 3665,-175 3665,-116 3665,-116 3665,-110 3671,-104 3677,-104 3677,-104 3849,-104 3849,-104 3855,-104 3861,-110 3861,-116 3861,-116 3861,-175 3861,-175 3861,-181 3855,-187 3849,-187\"/>\n<text text-anchor=\"start\" x=\"3673\" y=\"-171.8\" font-family=\"Helvetica,sans-Serif\" font-size=\"14.00\">Gender_Category_Male ≤ 0.5</text>\n<text text-anchor=\"start\" x=\"3727.5\" y=\"-156.8\" font-family=\"Helvetica,sans-Serif\" font-size=\"14.00\">gini = 0.622</text>\n<text text-anchor=\"start\" x=\"3714.5\" y=\"-141.8\" font-family=\"Helvetica,sans-Serif\" font-size=\"14.00\">samples = 1221</text>\n<text text-anchor=\"start\" x=\"3693.5\" y=\"-126.8\" font-family=\"Helvetica,sans-Serif\" font-size=\"14.00\">value = [292, 311, 618]</text>\n<text text-anchor=\"start\" x=\"3714.5\" y=\"-111.8\" font-family=\"Helvetica,sans-Serif\" font-size=\"14.00\">class = Enrolled</text>\n</g>\n<!-- 50&#45;&gt;51 -->\n<g id=\"edge51\" class=\"edge\">\n<title>50&#45;&gt;51</title>\n<path fill=\"none\" stroke=\"black\" d=\"M3763,-222.91C3763,-214.65 3763,-205.86 3763,-197.3\"/>\n<polygon fill=\"black\" stroke=\"black\" points=\"3766.5,-197.02 3763,-187.02 3759.5,-197.02 3766.5,-197.02\"/>\n</g>\n<!-- 54 -->\n<g id=\"node55\" class=\"node\">\n<title>54</title>\n<path fill=\"#a978ed\" stroke=\"black\" d=\"M4238.5,-187C4238.5,-187 3901.5,-187 3901.5,-187 3895.5,-187 3889.5,-181 3889.5,-175 3889.5,-175 3889.5,-116 3889.5,-116 3889.5,-110 3895.5,-104 3901.5,-104 3901.5,-104 4238.5,-104 4238.5,-104 4244.5,-104 4250.5,-110 4250.5,-116 4250.5,-116 4250.5,-175 4250.5,-175 4250.5,-181 4244.5,-187 4238.5,-187\"/>\n<text text-anchor=\"start\" x=\"3897.5\" y=\"-171.8\" font-family=\"Helvetica,sans-Serif\" font-size=\"14.00\">Application_Mode_Category_Other Degree Holders ≤ 0.5</text>\n<text text-anchor=\"start\" x=\"4034.5\" y=\"-156.8\" font-family=\"Helvetica,sans-Serif\" font-size=\"14.00\">gini = 0.433</text>\n<text text-anchor=\"start\" x=\"4025\" y=\"-141.8\" font-family=\"Helvetica,sans-Serif\" font-size=\"14.00\">samples = 353</text>\n<text text-anchor=\"start\" x=\"4008\" y=\"-126.8\" font-family=\"Helvetica,sans-Serif\" font-size=\"14.00\">value = [45, 51, 257]</text>\n<text text-anchor=\"start\" x=\"4021.5\" y=\"-111.8\" font-family=\"Helvetica,sans-Serif\" font-size=\"14.00\">class = Enrolled</text>\n</g>\n<!-- 50&#45;&gt;54 -->\n<g id=\"edge54\" class=\"edge\">\n<title>50&#45;&gt;54</title>\n<path fill=\"none\" stroke=\"black\" d=\"M3869.51,-222.91C3896.9,-212.47 3926.49,-201.19 3954.31,-190.59\"/>\n<polygon fill=\"black\" stroke=\"black\" points=\"3955.58,-193.85 3963.68,-187.02 3953.09,-187.31 3955.58,-193.85\"/>\n</g>\n<!-- 52 -->\n<g id=\"node53\" class=\"node\">\n<title>52</title>\n<path fill=\"#c8a8f4\" stroke=\"black\" d=\"M3796.5,-68C3796.5,-68 3665.5,-68 3665.5,-68 3659.5,-68 3653.5,-62 3653.5,-56 3653.5,-56 3653.5,-12 3653.5,-12 3653.5,-6 3659.5,0 3665.5,0 3665.5,0 3796.5,0 3796.5,0 3802.5,0 3808.5,-6 3808.5,-12 3808.5,-12 3808.5,-56 3808.5,-56 3808.5,-62 3802.5,-68 3796.5,-68\"/>\n<text text-anchor=\"start\" x=\"3695.5\" y=\"-52.8\" font-family=\"Helvetica,sans-Serif\" font-size=\"14.00\">gini = 0.581</text>\n<text text-anchor=\"start\" x=\"3686\" y=\"-37.8\" font-family=\"Helvetica,sans-Serif\" font-size=\"14.00\">samples = 792</text>\n<text text-anchor=\"start\" x=\"3661.5\" y=\"-22.8\" font-family=\"Helvetica,sans-Serif\" font-size=\"14.00\">value = [152, 188, 452]</text>\n<text text-anchor=\"start\" x=\"3682.5\" y=\"-7.8\" font-family=\"Helvetica,sans-Serif\" font-size=\"14.00\">class = Enrolled</text>\n</g>\n<!-- 51&#45;&gt;52 -->\n<g id=\"edge52\" class=\"edge\">\n<title>51&#45;&gt;52</title>\n<path fill=\"none\" stroke=\"black\" d=\"M3751.08,-103.73C3748.63,-95.34 3746.04,-86.47 3743.57,-78.01\"/>\n<polygon fill=\"black\" stroke=\"black\" points=\"3746.9,-76.92 3740.73,-68.3 3740.18,-78.88 3746.9,-76.92\"/>\n</g>\n<!-- 53 -->\n<g id=\"node54\" class=\"node\">\n<title>53</title>\n<path fill=\"#f4edfd\" stroke=\"black\" d=\"M3969.5,-68C3969.5,-68 3838.5,-68 3838.5,-68 3832.5,-68 3826.5,-62 3826.5,-56 3826.5,-56 3826.5,-12 3826.5,-12 3826.5,-6 3832.5,0 3838.5,0 3838.5,0 3969.5,0 3969.5,0 3975.5,0 3981.5,-6 3981.5,-12 3981.5,-12 3981.5,-56 3981.5,-56 3981.5,-62 3975.5,-68 3969.5,-68\"/>\n<text text-anchor=\"start\" x=\"3868.5\" y=\"-52.8\" font-family=\"Helvetica,sans-Serif\" font-size=\"14.00\">gini = 0.662</text>\n<text text-anchor=\"start\" x=\"3859\" y=\"-37.8\" font-family=\"Helvetica,sans-Serif\" font-size=\"14.00\">samples = 429</text>\n<text text-anchor=\"start\" x=\"3834.5\" y=\"-22.8\" font-family=\"Helvetica,sans-Serif\" font-size=\"14.00\">value = [140, 123, 166]</text>\n<text text-anchor=\"start\" x=\"3855.5\" y=\"-7.8\" font-family=\"Helvetica,sans-Serif\" font-size=\"14.00\">class = Enrolled</text>\n</g>\n<!-- 51&#45;&gt;53 -->\n<g id=\"edge53\" class=\"edge\">\n<title>51&#45;&gt;53</title>\n<path fill=\"none\" stroke=\"black\" d=\"M3815.5,-103.73C3827.84,-94.15 3840.95,-83.96 3853.21,-74.44\"/>\n<polygon fill=\"black\" stroke=\"black\" points=\"3855.37,-77.2 3861.12,-68.3 3851.08,-71.67 3855.37,-77.2\"/>\n</g>\n<!-- 55 -->\n<g id=\"node56\" class=\"node\">\n<title>55</title>\n<path fill=\"#a876ed\" stroke=\"black\" d=\"M4128,-68C4128,-68 4012,-68 4012,-68 4006,-68 4000,-62 4000,-56 4000,-56 4000,-12 4000,-12 4000,-6 4006,0 4012,0 4012,0 4128,0 4128,0 4134,0 4140,-6 4140,-12 4140,-12 4140,-56 4140,-56 4140,-62 4134,-68 4128,-68\"/>\n<text text-anchor=\"start\" x=\"4034.5\" y=\"-52.8\" font-family=\"Helvetica,sans-Serif\" font-size=\"14.00\">gini = 0.425</text>\n<text text-anchor=\"start\" x=\"4025\" y=\"-37.8\" font-family=\"Helvetica,sans-Serif\" font-size=\"14.00\">samples = 350</text>\n<text text-anchor=\"start\" x=\"4008\" y=\"-22.8\" font-family=\"Helvetica,sans-Serif\" font-size=\"14.00\">value = [45, 48, 257]</text>\n<text text-anchor=\"start\" x=\"4021.5\" y=\"-7.8\" font-family=\"Helvetica,sans-Serif\" font-size=\"14.00\">class = Enrolled</text>\n</g>\n<!-- 54&#45;&gt;55 -->\n<g id=\"edge55\" class=\"edge\">\n<title>54&#45;&gt;55</title>\n<path fill=\"none\" stroke=\"black\" d=\"M4070,-103.73C4070,-95.52 4070,-86.86 4070,-78.56\"/>\n<polygon fill=\"black\" stroke=\"black\" points=\"4073.5,-78.3 4070,-68.3 4066.5,-78.3 4073.5,-78.3\"/>\n</g>\n<!-- 56 -->\n<g id=\"node57\" class=\"node\">\n<title>56</title>\n<path fill=\"#39e581\" stroke=\"black\" d=\"M4266,-68C4266,-68 4170,-68 4170,-68 4164,-68 4158,-62 4158,-56 4158,-56 4158,-12 4158,-12 4158,-6 4164,0 4170,0 4170,0 4266,0 4266,0 4272,0 4278,-6 4278,-12 4278,-12 4278,-56 4278,-56 4278,-62 4272,-68 4266,-68\"/>\n<text text-anchor=\"start\" x=\"4190\" y=\"-52.8\" font-family=\"Helvetica,sans-Serif\" font-size=\"14.00\">gini = 0.0</text>\n<text text-anchor=\"start\" x=\"4180.5\" y=\"-37.8\" font-family=\"Helvetica,sans-Serif\" font-size=\"14.00\">samples = 3</text>\n<text text-anchor=\"start\" x=\"4171\" y=\"-22.8\" font-family=\"Helvetica,sans-Serif\" font-size=\"14.00\">value = [0, 3, 0]</text>\n<text text-anchor=\"start\" x=\"4166\" y=\"-7.8\" font-family=\"Helvetica,sans-Serif\" font-size=\"14.00\">class = Graduate</text>\n</g>\n<!-- 54&#45;&gt;56 -->\n<g id=\"edge56\" class=\"edge\">\n<title>54&#45;&gt;56</title>\n<path fill=\"none\" stroke=\"black\" d=\"M4125.11,-103.73C4138.05,-94.15 4151.82,-83.96 4164.69,-74.44\"/>\n<polygon fill=\"black\" stroke=\"black\" points=\"4167.04,-77.06 4172.99,-68.3 4162.87,-71.43 4167.04,-77.06\"/>\n</g>\n</g>\n</svg>\n",
            "text/plain": [
              "<graphviz.sources.Source at 0x792c987ca050>"
            ]
          },
          "metadata": {},
          "execution_count": 55
        }
      ]
    },
    {
      "cell_type": "code",
      "source": [
        "from sklearn.metrics import confusion_matrix\n",
        "\n",
        "# Predict the target variable on the testing set\n",
        "y_pred = clf_pruned.predict(X_test)\n",
        "\n",
        "# Generate confusion matrix\n",
        "conf_matrix = confusion_matrix(y_test, y_pred)\n",
        "\n",
        "# Print confusion matrix\n",
        "print(\"Confusion Matrix:\")\n",
        "print(conf_matrix)\n"
      ],
      "metadata": {
        "colab": {
          "base_uri": "https://localhost:8080/"
        },
        "id": "j7om9Nk59oTG",
        "outputId": "a43f2f5c-cddf-468c-979b-2568b65fd2f2"
      },
      "execution_count": 59,
      "outputs": [
        {
          "output_type": "stream",
          "name": "stdout",
          "text": [
            "Confusion Matrix:\n",
            "[[189   1 126]\n",
            " [ 43   3 105]\n",
            " [ 50   0 368]]\n"
          ]
        },
        {
          "output_type": "stream",
          "name": "stderr",
          "text": [
            "/usr/local/lib/python3.10/dist-packages/ipykernel/ipkernel.py:283: DeprecationWarning: `should_run_async` will not call `transform_cell` automatically in the future. Please pass the result to `transformed_cell` argument and any exception that happen during thetransform in `preprocessing_exc_tuple` in IPython 7.17 and above.\n",
            "  and should_run_async(code)\n"
          ]
        }
      ]
    },
    {
      "cell_type": "code",
      "source": [
        "from sklearn.metrics import accuracy_score, precision_score, recall_score\n",
        "\n",
        "# Calculate accuracy\n",
        "accuracy = accuracy_score(y_test, y_pred)\n",
        "\n",
        "# Calculate precision\n",
        "#average=None to get precision for each class individually\n",
        "precision = precision_score(y_test, y_pred, average=None)\n",
        "\n",
        "# Calculate recall\n",
        "#average=None to get recall for each class individually\n",
        "recall = recall_score(y_test, y_pred, average=None)\n",
        "\n",
        "# Print the metrics\n",
        "print(\"Accuracy:\", accuracy)\n",
        "print(\"Precision:\", precision)\n",
        "print(\"Recall:\", recall)\n"
      ],
      "metadata": {
        "colab": {
          "base_uri": "https://localhost:8080/"
        },
        "id": "bwthqLEu9wzi",
        "outputId": "eb21c9a9-f6aa-45c3-9ea9-c2c217cc9a9f"
      },
      "execution_count": 63,
      "outputs": [
        {
          "output_type": "stream",
          "name": "stdout",
          "text": [
            "Accuracy: 0.632768361581921\n",
            "Precision: [0.67021277 0.75       0.61435726]\n",
            "Recall: [0.59810127 0.01986755 0.88038278]\n"
          ]
        },
        {
          "output_type": "stream",
          "name": "stderr",
          "text": [
            "/usr/local/lib/python3.10/dist-packages/ipykernel/ipkernel.py:283: DeprecationWarning: `should_run_async` will not call `transform_cell` automatically in the future. Please pass the result to `transformed_cell` argument and any exception that happen during thetransform in `preprocessing_exc_tuple` in IPython 7.17 and above.\n",
            "  and should_run_async(code)\n"
          ]
        }
      ]
    },
    {
      "cell_type": "code",
      "source": [
        "from sklearn.metrics import classification_report\n",
        "\n",
        "# Print classification report\n",
        "print(\"Decision Tree Classification Report:\")\n",
        "print(classification_report(y_test, y_pred, target_names=class_names))\n"
      ],
      "metadata": {
        "colab": {
          "base_uri": "https://localhost:8080/"
        },
        "id": "OnetoR2D-TMc",
        "outputId": "f4fd92d2-31a1-4315-9367-a72fbc52da96"
      },
      "execution_count": 65,
      "outputs": [
        {
          "output_type": "stream",
          "name": "stdout",
          "text": [
            "Decision Tree Classification Report:\n",
            "              precision    recall  f1-score   support\n",
            "\n",
            "     Dropout       0.67      0.60      0.63       316\n",
            "    Graduate       0.75      0.02      0.04       151\n",
            "    Enrolled       0.61      0.88      0.72       418\n",
            "\n",
            "    accuracy                           0.63       885\n",
            "   macro avg       0.68      0.50      0.46       885\n",
            "weighted avg       0.66      0.63      0.57       885\n",
            "\n"
          ]
        },
        {
          "output_type": "stream",
          "name": "stderr",
          "text": [
            "/usr/local/lib/python3.10/dist-packages/ipykernel/ipkernel.py:283: DeprecationWarning: `should_run_async` will not call `transform_cell` automatically in the future. Please pass the result to `transformed_cell` argument and any exception that happen during thetransform in `preprocessing_exc_tuple` in IPython 7.17 and above.\n",
            "  and should_run_async(code)\n"
          ]
        }
      ]
    }
  ]
}