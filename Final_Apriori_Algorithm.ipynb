{
  "nbformat": 4,
  "nbformat_minor": 0,
  "metadata": {
    "colab": {
      "provenance": []
    },
    "kernelspec": {
      "name": "python3",
      "display_name": "Python 3"
    },
    "language_info": {
      "name": "python"
    }
  },
  "cells": [
    {
      "cell_type": "code",
      "source": [
        "pip install ucimlrepo"
      ],
      "metadata": {
        "colab": {
          "base_uri": "https://localhost:8080/"
        },
        "id": "h3wi6kemBdfW",
        "outputId": "4a71c030-7847-492f-e0c1-fb9c016f9d66"
      },
      "execution_count": 67,
      "outputs": [
        {
          "output_type": "stream",
          "name": "stderr",
          "text": [
            "/usr/local/lib/python3.10/dist-packages/ipykernel/ipkernel.py:283: DeprecationWarning: `should_run_async` will not call `transform_cell` automatically in the future. Please pass the result to `transformed_cell` argument and any exception that happen during thetransform in `preprocessing_exc_tuple` in IPython 7.17 and above.\n",
            "  and should_run_async(code)\n"
          ]
        },
        {
          "output_type": "stream",
          "name": "stdout",
          "text": [
            "Requirement already satisfied: ucimlrepo in /usr/local/lib/python3.10/dist-packages (0.0.6)\n"
          ]
        }
      ]
    },
    {
      "cell_type": "code",
      "execution_count": 68,
      "metadata": {
        "colab": {
          "base_uri": "https://localhost:8080/"
        },
        "id": "IcgY1O9nAzmi",
        "outputId": "c6c98e6e-8b8c-4f11-f34b-10ffa6b50649"
      },
      "outputs": [
        {
          "output_type": "stream",
          "name": "stderr",
          "text": [
            "/usr/local/lib/python3.10/dist-packages/ipykernel/ipkernel.py:283: DeprecationWarning: `should_run_async` will not call `transform_cell` automatically in the future. Please pass the result to `transformed_cell` argument and any exception that happen during thetransform in `preprocessing_exc_tuple` in IPython 7.17 and above.\n",
            "  and should_run_async(code)\n"
          ]
        }
      ],
      "source": [
        "from ucimlrepo import fetch_ucirepo\n",
        "from mlxtend.frequent_patterns import apriori\n",
        "from mlxtend.frequent_patterns import association_rules\n",
        "import numpy as np\n",
        "import pandas as pd\n",
        "\n",
        "# Fetch dataset\n",
        "predict_students_dropout_and_academic_success = fetch_ucirepo(id=697)\n",
        "\n",
        "# Data (as pandas dataframes)\n",
        "X = predict_students_dropout_and_academic_success.data.features\n",
        "y = predict_students_dropout_and_academic_success.data.targets\n",
        "\n",
        "# Get feature names from metadata\n",
        "feature_names = predict_students_dropout_and_academic_success.metadata.features\n",
        "\n",
        "# Create dataframe for X and y\n",
        "df = pd.DataFrame(data=X, columns=feature_names)\n",
        "df['Target'] = y  # Adding the target variable to the dataframe\n",
        "\n",
        "#make a copy of the dataframe called df2 which will be modified\n",
        "df2 = df.copy()\n",
        "\n",
        "#print(df2)\n"
      ]
    },
    {
      "cell_type": "code",
      "source": [
        "#print out current column names\n",
        "df2.columns"
      ],
      "metadata": {
        "colab": {
          "base_uri": "https://localhost:8080/"
        },
        "id": "-k1SPrWQBozG",
        "outputId": "bc248912-dcd6-4610-db3e-7ad11c9444e0"
      },
      "execution_count": 69,
      "outputs": [
        {
          "output_type": "stream",
          "name": "stderr",
          "text": [
            "/usr/local/lib/python3.10/dist-packages/ipykernel/ipkernel.py:283: DeprecationWarning: `should_run_async` will not call `transform_cell` automatically in the future. Please pass the result to `transformed_cell` argument and any exception that happen during thetransform in `preprocessing_exc_tuple` in IPython 7.17 and above.\n",
            "  and should_run_async(code)\n"
          ]
        },
        {
          "output_type": "execute_result",
          "data": {
            "text/plain": [
              "Index(['Marital Status', 'Application mode', 'Application order', 'Course',\n",
              "       'Daytime/evening attendance', 'Previous qualification',\n",
              "       'Previous qualification (grade)', 'Nacionality',\n",
              "       'Mother's qualification', 'Father's qualification',\n",
              "       'Mother's occupation', 'Father's occupation', 'Admission grade',\n",
              "       'Displaced', 'Educational special needs', 'Debtor',\n",
              "       'Tuition fees up to date', 'Gender', 'Scholarship holder',\n",
              "       'Age at enrollment', 'International',\n",
              "       'Curricular units 1st sem (credited)',\n",
              "       'Curricular units 1st sem (enrolled)',\n",
              "       'Curricular units 1st sem (evaluations)',\n",
              "       'Curricular units 1st sem (approved)',\n",
              "       'Curricular units 1st sem (grade)',\n",
              "       'Curricular units 1st sem (without evaluations)',\n",
              "       'Curricular units 2nd sem (credited)',\n",
              "       'Curricular units 2nd sem (enrolled)',\n",
              "       'Curricular units 2nd sem (evaluations)',\n",
              "       'Curricular units 2nd sem (approved)',\n",
              "       'Curricular units 2nd sem (grade)',\n",
              "       'Curricular units 2nd sem (without evaluations)', 'Unemployment rate',\n",
              "       'Inflation rate', 'GDP', 'Target'],\n",
              "      dtype='object')"
            ]
          },
          "metadata": {},
          "execution_count": 69
        }
      ]
    },
    {
      "cell_type": "code",
      "source": [
        "# redo mapping for some of the variables that have multiple categories so that they can be analyzed and categorized by Apriori Code\n",
        "# Define function to create new marital category\n",
        "def create_marital_category(status):\n",
        "    if status in [1]:\n",
        "        return \"Single\"\n",
        "    elif status in [2, 5]:\n",
        "        return \"Married\"\n",
        "    elif status == 3:\n",
        "        return \"Widower\"\n",
        "    elif status in [4, 6]:\n",
        "        return \"Divorced\"\n",
        "\n",
        "\n",
        "# Apply function to create new category column\n",
        "df2['Marital_Category'] = df2['Marital Status'].apply(create_marital_category)\n",
        "\n",
        "# Drop the old column\n",
        "df2.drop('Marital Status', axis=1, inplace=True)"
      ],
      "metadata": {
        "colab": {
          "base_uri": "https://localhost:8080/"
        },
        "id": "DjacyknpLXHX",
        "outputId": "45441039-0401-4879-c3bf-ecf3405570ac"
      },
      "execution_count": 70,
      "outputs": [
        {
          "output_type": "stream",
          "name": "stderr",
          "text": [
            "/usr/local/lib/python3.10/dist-packages/ipykernel/ipkernel.py:283: DeprecationWarning: `should_run_async` will not call `transform_cell` automatically in the future. Please pass the result to `transformed_cell` argument and any exception that happen during thetransform in `preprocessing_exc_tuple` in IPython 7.17 and above.\n",
            "  and should_run_async(code)\n"
          ]
        }
      ]
    },
    {
      "cell_type": "code",
      "source": [
        "def create_gender_category(status):\n",
        "    if status == 1:\n",
        "        return \"Male\"\n",
        "    else:\n",
        "        return \"Female\"\n",
        "\n",
        "\n",
        "# Create a new column with the categorized gender\n",
        "df2['Gender_Category'] = df2['Gender'].apply(create_gender_category)\n",
        "\n",
        "#drop the old column\n",
        "df2.drop('Gender', axis=1, inplace=True)"
      ],
      "metadata": {
        "colab": {
          "base_uri": "https://localhost:8080/"
        },
        "id": "rQ1ZBC2JM-6D",
        "outputId": "0e026189-3b7e-4661-aa2f-2ce41a664b9b"
      },
      "execution_count": 71,
      "outputs": [
        {
          "output_type": "stream",
          "name": "stderr",
          "text": [
            "/usr/local/lib/python3.10/dist-packages/ipykernel/ipkernel.py:283: DeprecationWarning: `should_run_async` will not call `transform_cell` automatically in the future. Please pass the result to `transformed_cell` argument and any exception that happen during thetransform in `preprocessing_exc_tuple` in IPython 7.17 and above.\n",
            "  and should_run_async(code)\n"
          ]
        }
      ]
    },
    {
      "cell_type": "code",
      "source": [
        "def create_nightschool_category(status):\n",
        "    if status == 1:\n",
        "        return \"Day School\"\n",
        "    else:\n",
        "        return \"Night School\"\n",
        "\n",
        "# Create a new column with the categorized attendance type\n",
        "df2['Day/Night Attendance_Category'] = df2['Daytime/evening attendance'].apply(create_nightschool_category)\n",
        "\n",
        "#drop the old column\n",
        "df2.drop('Daytime/evening attendance', axis=1, inplace=True)"
      ],
      "metadata": {
        "colab": {
          "base_uri": "https://localhost:8080/"
        },
        "id": "NWoEn8cTNtfy",
        "outputId": "599c9858-c1a9-4fcd-e14a-7075035124dc"
      },
      "execution_count": 72,
      "outputs": [
        {
          "output_type": "stream",
          "name": "stderr",
          "text": [
            "/usr/local/lib/python3.10/dist-packages/ipykernel/ipkernel.py:283: DeprecationWarning: `should_run_async` will not call `transform_cell` automatically in the future. Please pass the result to `transformed_cell` argument and any exception that happen during thetransform in `preprocessing_exc_tuple` in IPython 7.17 and above.\n",
            "  and should_run_async(code)\n"
          ]
        }
      ]
    },
    {
      "cell_type": "code",
      "source": [
        "# We have 7 fields which only have yes/no as their values\n",
        "#this code will transform all of them at the same time\n",
        "\n",
        "def create_binary_category(status):\n",
        "    if status == 1:\n",
        "        return \"Yes\"\n",
        "    else:\n",
        "        return \"No\"\n",
        "\n",
        "#create a new column\n",
        "df2['Displaced_Category'] = df2['Displaced'].apply(create_binary_category)\n",
        "\n",
        "#drop the old column\n",
        "df2.drop('Displaced', axis=1, inplace=True)\n",
        "\n",
        "#create a new column\n",
        "df2['SpecialNeeds_Category'] = df2['Educational special needs'].apply(create_binary_category)\n",
        "\n",
        "#drop the old column\n",
        "df2.drop('Educational special needs', axis=1, inplace=True)\n",
        "\n",
        "#create a new column\n",
        "df2['Debtor_Category'] = df2['Debtor'].apply(create_binary_category)\n",
        "\n",
        "#drop the old column\n",
        "df2.drop('Debtor', axis=1, inplace=True)\n",
        "\n",
        "\n",
        "\n",
        "#create a new column\n",
        "df2['Tuition fees up to date_Category'] = df2['Tuition fees up to date'].apply(create_binary_category)\n",
        "\n",
        "#drop the old column\n",
        "df2.drop('Tuition fees up to date', axis=1, inplace=True)\n",
        "\n",
        "\n",
        "#create a new column\n",
        "df2['Scholarship holder_Category'] = df2[ 'Scholarship holder'].apply(create_binary_category)\n",
        "\n",
        "#drop the old column\n",
        "df2.drop( 'Scholarship holder', axis=1, inplace=True)\n",
        "\n",
        "\n",
        "#create a new column\n",
        "df2['International_Category'] = df2[ 'International'].apply(create_binary_category)\n",
        "#drop the old column\n",
        "df2.drop( 'International', axis=1, inplace=True)\n"
      ],
      "metadata": {
        "colab": {
          "base_uri": "https://localhost:8080/"
        },
        "id": "WiQuWdf3OF2S",
        "outputId": "b38d7a65-0b6c-4266-9e6e-c1dd6fc94a7d"
      },
      "execution_count": 73,
      "outputs": [
        {
          "output_type": "stream",
          "name": "stderr",
          "text": [
            "/usr/local/lib/python3.10/dist-packages/ipykernel/ipkernel.py:283: DeprecationWarning: `should_run_async` will not call `transform_cell` automatically in the future. Please pass the result to `transformed_cell` argument and any exception that happen during thetransform in `preprocessing_exc_tuple` in IPython 7.17 and above.\n",
            "  and should_run_async(code)\n"
          ]
        }
      ]
    },
    {
      "cell_type": "code",
      "source": [
        "def create_nationality_category(status):\n",
        "    if status in [2, 6, 11, 13, 14]:\n",
        "        return \"Western European\"\n",
        "    elif status in [21, 22, 24, 25, 26]:\n",
        "        return \"African\"\n",
        "    elif status == 32:\n",
        "        return \"Turkish\"\n",
        "    elif status in [17, 62, 100, 103, 105]:\n",
        "        return \"Eastern European\"\n",
        "    elif status in [41, 101, 108, 109]:\n",
        "        return \"Latin American\"\n",
        "    elif status == 1:\n",
        "        return \"Portugese\"\n",
        "\n",
        "# Apply function to create new category column\n",
        "df2['Nationality_Category'] = df2['Nacionality'].apply(create_nationality_category)\n",
        "\n",
        "# Handle missing or undefined country codes\n",
        "df2['Nationality_Category'].fillna('Other', inplace=True)\n",
        "\n",
        "# Drop the old column\n",
        "df2.drop('Nacionality', axis=1, inplace=True)\n",
        "\n"
      ],
      "metadata": {
        "colab": {
          "base_uri": "https://localhost:8080/"
        },
        "id": "THdpRtqBPrjn",
        "outputId": "de5dbde4-842a-4985-d93e-2361b368e7d3"
      },
      "execution_count": 74,
      "outputs": [
        {
          "output_type": "stream",
          "name": "stderr",
          "text": [
            "/usr/local/lib/python3.10/dist-packages/ipykernel/ipkernel.py:283: DeprecationWarning: `should_run_async` will not call `transform_cell` automatically in the future. Please pass the result to `transformed_cell` argument and any exception that happen during thetransform in `preprocessing_exc_tuple` in IPython 7.17 and above.\n",
            "  and should_run_async(code)\n"
          ]
        }
      ]
    },
    {
      "cell_type": "code",
      "source": [
        "def create_application_category(status):\n",
        "    if status in [1, 17, 18]:\n",
        "        return \"General Contingent\"\n",
        "    elif status in [5, 16]:\n",
        "        return \"Special Contingent\"\n",
        "    elif status in [2, 10, 26, 27 ]:\n",
        "        return \"Ordinance Related\"\n",
        "    elif status in [42, 43, 51, 57]:\n",
        "        return \"Course Change/ Transfer\"\n",
        "    elif status in [7, 15, 44, 53]:\n",
        "        return \"Other Degree Holders\"\n",
        "    elif status in [39]:\n",
        "        return \"Over 23\"\n",
        "    else:\n",
        "        return \"Other\"\n",
        "\n",
        "\n",
        "# Create a new column with the categorized application mode\n",
        "df2['Application_Mode_Category'] = df2['Application mode'].apply(create_application_category)\n",
        "\n",
        "# Drop the old column\n",
        "df2.drop('Application mode', axis=1, inplace=True)\n"
      ],
      "metadata": {
        "colab": {
          "base_uri": "https://localhost:8080/"
        },
        "id": "6IKKeYm4RESP",
        "outputId": "e5dc65f0-0a50-4268-f77b-b582a741d736"
      },
      "execution_count": 75,
      "outputs": [
        {
          "output_type": "stream",
          "name": "stderr",
          "text": [
            "/usr/local/lib/python3.10/dist-packages/ipykernel/ipkernel.py:283: DeprecationWarning: `should_run_async` will not call `transform_cell` automatically in the future. Please pass the result to `transformed_cell` argument and any exception that happen during thetransform in `preprocessing_exc_tuple` in IPython 7.17 and above.\n",
            "  and should_run_async(code)\n"
          ]
        }
      ]
    },
    {
      "cell_type": "code",
      "source": [
        "def create_application_order_category(status):\n",
        "    if status in [0, 1, 2, 3 ]:\n",
        "        return \"Top 3 Choice\"\n",
        "    elif status in [4, 5, 6]:\n",
        "        return \"Choice 4 to 6\"\n",
        "    elif status in [7, 8, 9]:\n",
        "        return \"Choice 4 to 6\"\n",
        "    else:\n",
        "        return \"Other\"\n",
        "\n",
        "# Create a new column with the categorized application order\n",
        "df2['Application_Order_Category'] = df2['Application order'].apply(create_application_order_category)\n",
        "\n",
        "\n",
        "#drop the old column\n",
        "df2.drop('Application order', axis=1, inplace=True)\n"
      ],
      "metadata": {
        "colab": {
          "base_uri": "https://localhost:8080/"
        },
        "id": "9AzUyBhbZf3O",
        "outputId": "13851259-5728-45a5-de8b-7be0c288b8c6"
      },
      "execution_count": 76,
      "outputs": [
        {
          "output_type": "stream",
          "name": "stderr",
          "text": [
            "/usr/local/lib/python3.10/dist-packages/ipykernel/ipkernel.py:283: DeprecationWarning: `should_run_async` will not call `transform_cell` automatically in the future. Please pass the result to `transformed_cell` argument and any exception that happen during thetransform in `preprocessing_exc_tuple` in IPython 7.17 and above.\n",
            "  and should_run_async(code)\n"
          ]
        }
      ]
    },
    {
      "cell_type": "code",
      "source": [
        "# Define a function to categorize course codes\n",
        "def create_course_category(code):\n",
        "    if code == 33:\n",
        "        return \"Technology/Engineering\"\n",
        "    elif code in [171, 9070]:\n",
        "        return \"Design/Multimedia\"\n",
        "    elif code == 8014:\n",
        "        return \"Social Services\"\n",
        "    elif code in [9003, 9130]:\n",
        "        return \"Agriculture\"\n",
        "    elif code == 9085:\n",
        "        return \"Veterinary\"\n",
        "    elif code in [9147, 9991]:\n",
        "        return \"Management\"\n",
        "    elif code == 9254:\n",
        "        return \"Tourism\"\n",
        "    elif code in [9500, 9556]:\n",
        "        return \"Healthcare\"\n",
        "    elif code == 9670:\n",
        "        return \"Marketing/Advertising\"\n",
        "    elif code == 9773:\n",
        "        return \"Journalism/Communication\"\n",
        "    elif code == 9853:\n",
        "        return \"Education\"\n",
        "    else:\n",
        "        return \"Other\"\n",
        "\n",
        "# Apply the function to create a new column with the categorized course\n",
        "df2['Course_Category'] = df2['Course'].apply(create_course_category)\n",
        "\n",
        "# Drop the old 'Course' column\n",
        "df2.drop('Course', axis=1, inplace=True)"
      ],
      "metadata": {
        "colab": {
          "base_uri": "https://localhost:8080/"
        },
        "id": "MdBgNZ-4a0qf",
        "outputId": "52340e60-d2fb-427a-9bbe-34ad48d764a2"
      },
      "execution_count": 77,
      "outputs": [
        {
          "output_type": "stream",
          "name": "stderr",
          "text": [
            "/usr/local/lib/python3.10/dist-packages/ipykernel/ipkernel.py:283: DeprecationWarning: `should_run_async` will not call `transform_cell` automatically in the future. Please pass the result to `transformed_cell` argument and any exception that happen during thetransform in `preprocessing_exc_tuple` in IPython 7.17 and above.\n",
            "  and should_run_async(code)\n"
          ]
        }
      ]
    },
    {
      "cell_type": "code",
      "source": [
        "# Define a function to categorize previous qualifications\n",
        "\n",
        "def categorize_previous_qualification(qualification):\n",
        "    if qualification in [39, 42]:\n",
        "        return \"Professional/ Specialized Higher Course\"\n",
        "\n",
        "    elif qualification in [38]:\n",
        "        return \"Basic Education up to 8th Grade\"\n",
        "\n",
        "    elif qualification in [10, 12, 14, 19]:\n",
        "        return \"Incomplete Schooling (9th-11th Grade)\"\n",
        "\n",
        "    elif qualification in [6, 9]:\n",
        "        return \"Incomplete Schooling (12th Grade or Eqivalent)\"\n",
        "\n",
        "    elif qualification in [1]:\n",
        "        return \"Complete Secondary School or Eqivalent\"\n",
        "\n",
        "    elif qualification in [2, 3, 40]:\n",
        "        return \"Higher Education - Bachelor's Degree\"\n",
        "    elif qualification in [4, 43]:\n",
        "        return \"Higher Education - Master's Degree\"\n",
        "    elif qualification in [5, 44]:\n",
        "        return \"Higher Education - Doctorate\"\n",
        "    else:\n",
        "        return \"Other\"\n",
        "\n",
        "# Apply the function to create a new column with the categorized education level\n",
        "df2['Previous_qualification_Category'] = df2['Previous qualification'].apply(categorize_previous_qualification)\n",
        "\n",
        "# Drop the old 'Previous qualification' column\n",
        "df2.drop('Previous qualification', axis=1, inplace=True)\n"
      ],
      "metadata": {
        "colab": {
          "base_uri": "https://localhost:8080/"
        },
        "id": "3J1zTkLwbJJz",
        "outputId": "e1849a89-1fbf-41c3-8204-9a4a4e7a2ae6"
      },
      "execution_count": 78,
      "outputs": [
        {
          "output_type": "stream",
          "name": "stderr",
          "text": [
            "/usr/local/lib/python3.10/dist-packages/ipykernel/ipkernel.py:283: DeprecationWarning: `should_run_async` will not call `transform_cell` automatically in the future. Please pass the result to `transformed_cell` argument and any exception that happen during thetransform in `preprocessing_exc_tuple` in IPython 7.17 and above.\n",
            "  and should_run_async(code)\n"
          ]
        }
      ]
    },
    {
      "cell_type": "code",
      "source": [
        "# Define a function to categorize qualifications\n",
        "\n",
        "\n",
        "def categorize_qualification(qualification):\n",
        "    if qualification in [22]:\n",
        "        return \"Technical Degree\"\n",
        "\n",
        "    elif qualification in [18, 31, 33]:\n",
        "        return \"General Education Course\"\n",
        "\n",
        "    elif qualification in [39, 41, 42]:\n",
        "        return \"Professional/ Specialized Higher Course\"\n",
        "\n",
        "    elif qualification in [2, 3, 40]:\n",
        "        return \"Higher Education - Bachelor's Degree\"\n",
        "    elif qualification in [4, 43]:\n",
        "        return \"Higher Education - Master's Degree\"\n",
        "    elif qualification in [5, 44]:\n",
        "        return \"Higher Education - Doctorate\"\n",
        "\n",
        "    elif qualification in [36, 37, 38 , 11, 26, 30]:\n",
        "        return \"Basic Education up to 8th Grade\"\n",
        "\n",
        "    elif qualification in [10, 12, 14, 19, 29]:\n",
        "        return \"Incomplete Schooling (9th-11th Grade)\"\n",
        "\n",
        "    elif qualification in [6, 9, 13, 25, 27]:\n",
        "        return \"Incomplete Schooling (12th Grade or Eqivalent)\"\n",
        "    elif qualification in [1, 20]:\n",
        "        return \"Complete Secondary School or Eqivalent\"\n",
        "\n",
        "    elif qualification == 34:\n",
        "        return \"Unknown\"\n",
        "\n",
        "    elif qualification == 35:\n",
        "        return \"Cannot Read or Write\"\n",
        "  #  else:\n",
        "       # return \"Other\"\n",
        "\n",
        "# Apply the function to create new columns with the categorized qualifications for mother and father\n",
        "df2[\"Mother's Qualification_Category\"] = df2[\"Mother's qualification\"].apply(categorize_qualification)\n",
        "df2[\"Father's Qualification_Category\"] = df2[\"Father's qualification\"].apply(categorize_qualification)\n",
        "\n",
        "\n",
        "# Drop the old columns\n",
        "df2.drop([\"Mother's qualification\", \"Father's qualification\"], axis=1, inplace=True)\n"
      ],
      "metadata": {
        "colab": {
          "base_uri": "https://localhost:8080/"
        },
        "id": "1HFN5Pt6bqVg",
        "outputId": "5608c1a2-df95-4a5b-d6fa-f4c409abb3f6"
      },
      "execution_count": 79,
      "outputs": [
        {
          "output_type": "stream",
          "name": "stderr",
          "text": [
            "/usr/local/lib/python3.10/dist-packages/ipykernel/ipkernel.py:283: DeprecationWarning: `should_run_async` will not call `transform_cell` automatically in the future. Please pass the result to `transformed_cell` argument and any exception that happen during thetransform in `preprocessing_exc_tuple` in IPython 7.17 and above.\n",
            "  and should_run_async(code)\n"
          ]
        }
      ]
    },
    {
      "cell_type": "code",
      "source": [
        "# Define a function to categorize occupations\n",
        "def categorize_occupation(occupation_code):\n",
        "    if occupation_code == 1:\n",
        "        return \"Student\"\n",
        "    elif occupation_code in [90, 99]:\n",
        "        return \"Other and Blank\"\n",
        "    elif occupation_code in [2, 121]:\n",
        "        return \"Intellectual and Scientific Specialists\"\n",
        "    elif occupation_code in [132, 122]:\n",
        "        return\"Health Professionals\"\n",
        "    elif occupation_code in [5, 154, 151, 153, 194]:\n",
        "        return \"Personal Services\"\n",
        "    elif occupation_code in [1, 112]:\n",
        "        return \"Managers and Directors\"\n",
        "    elif occupation_code in [3, 131, 134, 135]:\n",
        "        return \"Intermediate Professions\"\n",
        "    elif occupation_code in [4, 144, 141]:\n",
        "        return \"Office and Administrative\"\n",
        "    elif occupation_code in [124, 143]:\n",
        "        return \"Finance, Accounting and Data Professions\"\n",
        "    elif occupation_code in [10, 101, 102, 103]:\n",
        "        return \"Armed Forces\"\n",
        "    elif occupation_code in [6, 161, 163, 192]:\n",
        "        return \"Agricultural Workers\"\n",
        "    elif occupation_code in [8, 181, 182, 183]:\n",
        "        return \"Skilled Industrial Workers and Drivers\"\n",
        "    elif occupation_code in [7, 171, 193, 172, 174]:\n",
        "        return \"Construction and Electrical Workers\"\n",
        "    elif occupation_code in [114, 175, 195, 152]:\n",
        "        return \"Hotel, Food, Catering and Sellers\"\n",
        "    elif occupation_code == 9:\n",
        "        return \"Unskilled Workers\"\n",
        "    elif occupation_code == 123:\n",
        "        return \"Teachers\"\n",
        "    else:\n",
        "        return \"Unknown\"\n",
        "\n",
        "\n",
        "# Apply the function to create new columns with the categorized occupations for mother and father\n",
        "df2[\"Mother's Occupation_Category\"] = df2[\"Mother's occupation\"].apply(categorize_occupation)\n",
        "df2[\"Father's Occupation_Category\"] = df2[\"Father's occupation\"].apply(categorize_occupation)\n",
        "\n",
        "# Handle missing or undefined mother/ father occupation codes\n",
        "df2[\"Mother's Occupation_Category\"].fillna('Other', inplace=True)\n",
        "df2[\"Father's Occupation_Category\"].fillna('Other', inplace=True)\n",
        "\n",
        "# Drop the old columns\n",
        "df2.drop([\"Mother's occupation\", \"Father's occupation\"], axis=1, inplace=True)\n"
      ],
      "metadata": {
        "colab": {
          "base_uri": "https://localhost:8080/"
        },
        "id": "NGRt4SjNcPgf",
        "outputId": "c5fce1a0-4b23-4e92-a5b0-f97b9d03385d"
      },
      "execution_count": 80,
      "outputs": [
        {
          "output_type": "stream",
          "name": "stderr",
          "text": [
            "/usr/local/lib/python3.10/dist-packages/ipykernel/ipkernel.py:283: DeprecationWarning: `should_run_async` will not call `transform_cell` automatically in the future. Please pass the result to `transformed_cell` argument and any exception that happen during thetransform in `preprocessing_exc_tuple` in IPython 7.17 and above.\n",
            "  and should_run_async(code)\n"
          ]
        }
      ]
    },
    {
      "cell_type": "code",
      "source": [
        "# seperate the ages into bins\n",
        "# Define the bins for different age groups\n",
        "bins = [17, 21, 24, 27, 31, 40, float('inf')]  # 40+ will include all ages above 40\n",
        "\n",
        "# Define labels for the age groups\n",
        "labels = ['17-20', '21-23', '24-26', '27-30', '31-39', '40+']\n",
        "\n",
        "# Create a new column 'Age Group' based on the bins and labels\n",
        "df2['Age Group'] = pd.cut(df2['Age at enrollment'], bins=bins, labels=labels, right=False)\n",
        "\n",
        "# Drop the 'Age at enrollment' column\n",
        "df2.drop('Age at enrollment', axis=1, inplace=True)\n",
        "\n"
      ],
      "metadata": {
        "colab": {
          "base_uri": "https://localhost:8080/"
        },
        "id": "2M45JGKaePfq",
        "outputId": "17a0ca14-8b05-4e0a-ea17-f439e39565b5"
      },
      "execution_count": 81,
      "outputs": [
        {
          "output_type": "stream",
          "name": "stderr",
          "text": [
            "/usr/local/lib/python3.10/dist-packages/ipykernel/ipkernel.py:283: DeprecationWarning: `should_run_async` will not call `transform_cell` automatically in the future. Please pass the result to `transformed_cell` argument and any exception that happen during thetransform in `preprocessing_exc_tuple` in IPython 7.17 and above.\n",
            "  and should_run_async(code)\n"
          ]
        }
      ]
    },
    {
      "cell_type": "code",
      "source": [
        "# look at values for Admission grade and decide how to break it down\n",
        "minimum_grade = df2['Admission grade'].min()\n",
        "maximum_grade = df2['Admission grade'].max()\n",
        "median_grade = df2['Admission grade'].median()\n",
        "\n",
        "print(\"Minimum Admission Grade:\", minimum_grade)\n",
        "print(\"Maximum Admission Grade:\", maximum_grade)\n",
        "print(\"Median Admission Grade:\", median_grade)\n",
        "\n",
        "#print(df2['Admission grade'].unique())"
      ],
      "metadata": {
        "colab": {
          "base_uri": "https://localhost:8080/"
        },
        "id": "J8Aj8vw1f5VW",
        "outputId": "fd6bab0e-9fc1-49c5-e450-2e574dcddd72"
      },
      "execution_count": 82,
      "outputs": [
        {
          "output_type": "stream",
          "name": "stdout",
          "text": [
            "Minimum Admission Grade: 95.0\n",
            "Maximum Admission Grade: 190.0\n",
            "Median Admission Grade: 126.1\n"
          ]
        },
        {
          "output_type": "stream",
          "name": "stderr",
          "text": [
            "/usr/local/lib/python3.10/dist-packages/ipykernel/ipkernel.py:283: DeprecationWarning: `should_run_async` will not call `transform_cell` automatically in the future. Please pass the result to `transformed_cell` argument and any exception that happen during thetransform in `preprocessing_exc_tuple` in IPython 7.17 and above.\n",
            "  and should_run_async(code)\n"
          ]
        }
      ]
    },
    {
      "cell_type": "code",
      "source": [
        "# Define the bin edges based on percentiles\n",
        "bin_edges = [0, 20, 40, 60, 80, 100]\n",
        "\n",
        "# Define the bin labels\n",
        "bin_labels = ['Very Low', 'Low', 'Medium', 'High', 'Very High']\n",
        "\n",
        "# Bin the 'Admission grade' column\n",
        "df2['Admission Grade_Category'] = pd.qcut(df2['Admission grade'], q=5, labels=bin_labels)\n",
        "\n",
        "#nDrop the original 'Admission grade' column\n",
        "df2.drop('Admission grade', axis=1, inplace=True)\n",
        "\n"
      ],
      "metadata": {
        "colab": {
          "base_uri": "https://localhost:8080/"
        },
        "id": "sGF4rSFVhEpU",
        "outputId": "4809dc80-5c79-4410-d6dc-ca1724bfca8f"
      },
      "execution_count": 83,
      "outputs": [
        {
          "output_type": "stream",
          "name": "stderr",
          "text": [
            "/usr/local/lib/python3.10/dist-packages/ipykernel/ipkernel.py:283: DeprecationWarning: `should_run_async` will not call `transform_cell` automatically in the future. Please pass the result to `transformed_cell` argument and any exception that happen during thetransform in `preprocessing_exc_tuple` in IPython 7.17 and above.\n",
            "  and should_run_async(code)\n"
          ]
        }
      ]
    },
    {
      "cell_type": "code",
      "source": [
        "columns_to_remove = [\n",
        "    'Previous qualification (grade)',\n",
        "    'Curricular units 1st sem (credited)',\n",
        "    'Curricular units 1st sem (enrolled)',\n",
        "    'Curricular units 1st sem (evaluations)',\n",
        "    'Curricular units 1st sem (approved)',\n",
        "    'Curricular units 1st sem (grade)',\n",
        "    'Curricular units 1st sem (without evaluations)',\n",
        "    'Curricular units 2nd sem (credited)',\n",
        "    'Curricular units 2nd sem (enrolled)',\n",
        "    'Curricular units 2nd sem (evaluations)',\n",
        "    'Curricular units 2nd sem (approved)',\n",
        "    'Curricular units 2nd sem (grade)',\n",
        "    'Curricular units 2nd sem (without evaluations)',\n",
        "    'Unemployment rate',\n",
        "    'Inflation rate',\n",
        "    'GDP'\n",
        "]\n",
        "\n",
        "df2.drop(columns=columns_to_remove, inplace=True)\n"
      ],
      "metadata": {
        "colab": {
          "base_uri": "https://localhost:8080/"
        },
        "id": "D5d9-55AfyNR",
        "outputId": "2589e734-f8e0-40eb-ad7a-83ca9b4f88fa"
      },
      "execution_count": 84,
      "outputs": [
        {
          "output_type": "stream",
          "name": "stderr",
          "text": [
            "/usr/local/lib/python3.10/dist-packages/ipykernel/ipkernel.py:283: DeprecationWarning: `should_run_async` will not call `transform_cell` automatically in the future. Please pass the result to `transformed_cell` argument and any exception that happen during thetransform in `preprocessing_exc_tuple` in IPython 7.17 and above.\n",
            "  and should_run_async(code)\n"
          ]
        }
      ]
    },
    {
      "cell_type": "code",
      "source": [
        "df2.columns"
      ],
      "metadata": {
        "colab": {
          "base_uri": "https://localhost:8080/"
        },
        "id": "laLpnAgQovqR",
        "outputId": "0217c75b-2a05-428e-ed10-e91a9272d4e0"
      },
      "execution_count": 85,
      "outputs": [
        {
          "output_type": "stream",
          "name": "stderr",
          "text": [
            "/usr/local/lib/python3.10/dist-packages/ipykernel/ipkernel.py:283: DeprecationWarning: `should_run_async` will not call `transform_cell` automatically in the future. Please pass the result to `transformed_cell` argument and any exception that happen during thetransform in `preprocessing_exc_tuple` in IPython 7.17 and above.\n",
            "  and should_run_async(code)\n"
          ]
        },
        {
          "output_type": "execute_result",
          "data": {
            "text/plain": [
              "Index(['Target', 'Marital_Category', 'Gender_Category',\n",
              "       'Day/Night Attendance_Category', 'Displaced_Category',\n",
              "       'SpecialNeeds_Category', 'Debtor_Category',\n",
              "       'Tuition fees up to date_Category', 'Scholarship holder_Category',\n",
              "       'International_Category', 'Nationality_Category',\n",
              "       'Application_Mode_Category', 'Application_Order_Category',\n",
              "       'Course_Category', 'Previous_qualification_Category',\n",
              "       'Mother's Qualification_Category', 'Father's Qualification_Category',\n",
              "       'Mother's Occupation_Category', 'Father's Occupation_Category',\n",
              "       'Age Group', 'Admission Grade_Category'],\n",
              "      dtype='object')"
            ]
          },
          "metadata": {},
          "execution_count": 85
        }
      ]
    },
    {
      "cell_type": "code",
      "source": [
        "pip install mlxtend"
      ],
      "metadata": {
        "colab": {
          "base_uri": "https://localhost:8080/"
        },
        "id": "b9blZk-nT-CJ",
        "outputId": "6f8e444d-cd26-4ae0-c0e7-14216f48cc08"
      },
      "execution_count": 86,
      "outputs": [
        {
          "output_type": "stream",
          "name": "stderr",
          "text": [
            "/usr/local/lib/python3.10/dist-packages/ipykernel/ipkernel.py:283: DeprecationWarning: `should_run_async` will not call `transform_cell` automatically in the future. Please pass the result to `transformed_cell` argument and any exception that happen during thetransform in `preprocessing_exc_tuple` in IPython 7.17 and above.\n",
            "  and should_run_async(code)\n"
          ]
        },
        {
          "output_type": "stream",
          "name": "stdout",
          "text": [
            "Requirement already satisfied: mlxtend in /usr/local/lib/python3.10/dist-packages (0.22.0)\n",
            "Requirement already satisfied: scipy>=1.2.1 in /usr/local/lib/python3.10/dist-packages (from mlxtend) (1.11.4)\n",
            "Requirement already satisfied: numpy>=1.16.2 in /usr/local/lib/python3.10/dist-packages (from mlxtend) (1.25.2)\n",
            "Requirement already satisfied: pandas>=0.24.2 in /usr/local/lib/python3.10/dist-packages (from mlxtend) (2.0.3)\n",
            "Requirement already satisfied: scikit-learn>=1.0.2 in /usr/local/lib/python3.10/dist-packages (from mlxtend) (1.2.2)\n",
            "Requirement already satisfied: matplotlib>=3.0.0 in /usr/local/lib/python3.10/dist-packages (from mlxtend) (3.7.1)\n",
            "Requirement already satisfied: joblib>=0.13.2 in /usr/local/lib/python3.10/dist-packages (from mlxtend) (1.4.0)\n",
            "Requirement already satisfied: setuptools in /usr/local/lib/python3.10/dist-packages (from mlxtend) (67.7.2)\n",
            "Requirement already satisfied: contourpy>=1.0.1 in /usr/local/lib/python3.10/dist-packages (from matplotlib>=3.0.0->mlxtend) (1.2.1)\n",
            "Requirement already satisfied: cycler>=0.10 in /usr/local/lib/python3.10/dist-packages (from matplotlib>=3.0.0->mlxtend) (0.12.1)\n",
            "Requirement already satisfied: fonttools>=4.22.0 in /usr/local/lib/python3.10/dist-packages (from matplotlib>=3.0.0->mlxtend) (4.51.0)\n",
            "Requirement already satisfied: kiwisolver>=1.0.1 in /usr/local/lib/python3.10/dist-packages (from matplotlib>=3.0.0->mlxtend) (1.4.5)\n",
            "Requirement already satisfied: packaging>=20.0 in /usr/local/lib/python3.10/dist-packages (from matplotlib>=3.0.0->mlxtend) (24.0)\n",
            "Requirement already satisfied: pillow>=6.2.0 in /usr/local/lib/python3.10/dist-packages (from matplotlib>=3.0.0->mlxtend) (9.4.0)\n",
            "Requirement already satisfied: pyparsing>=2.3.1 in /usr/local/lib/python3.10/dist-packages (from matplotlib>=3.0.0->mlxtend) (3.1.2)\n",
            "Requirement already satisfied: python-dateutil>=2.7 in /usr/local/lib/python3.10/dist-packages (from matplotlib>=3.0.0->mlxtend) (2.8.2)\n",
            "Requirement already satisfied: pytz>=2020.1 in /usr/local/lib/python3.10/dist-packages (from pandas>=0.24.2->mlxtend) (2023.4)\n",
            "Requirement already satisfied: tzdata>=2022.1 in /usr/local/lib/python3.10/dist-packages (from pandas>=0.24.2->mlxtend) (2024.1)\n",
            "Requirement already satisfied: threadpoolctl>=2.0.0 in /usr/local/lib/python3.10/dist-packages (from scikit-learn>=1.0.2->mlxtend) (3.4.0)\n",
            "Requirement already satisfied: six>=1.5 in /usr/local/lib/python3.10/dist-packages (from python-dateutil>=2.7->matplotlib>=3.0.0->mlxtend) (1.16.0)\n"
          ]
        }
      ]
    },
    {
      "cell_type": "code",
      "source": [
        "# issue with Graduate since there are so few instances will make two Apriori one without Graduate\n",
        "# Create a copy of df2\n",
        "df3 = df2.copy()\n",
        "\n",
        "# Filter out rows where the \"Target\" column is not equal to \"Graduate\"\n",
        "df3 = df3[df3['Target'] != 'Graduate']\n",
        "\n",
        "# Now df3 contains only the data excluding the \"Graduate\" group\n"
      ],
      "metadata": {
        "colab": {
          "base_uri": "https://localhost:8080/"
        },
        "id": "Zs-MHVGRepVh",
        "outputId": "b34fe0d5-43bd-441a-d793-5be4664041d3"
      },
      "execution_count": 87,
      "outputs": [
        {
          "output_type": "stream",
          "name": "stderr",
          "text": [
            "/usr/local/lib/python3.10/dist-packages/ipykernel/ipkernel.py:283: DeprecationWarning: `should_run_async` will not call `transform_cell` automatically in the future. Please pass the result to `transformed_cell` argument and any exception that happen during thetransform in `preprocessing_exc_tuple` in IPython 7.17 and above.\n",
            "  and should_run_async(code)\n"
          ]
        }
      ]
    },
    {
      "cell_type": "code",
      "source": [
        "import pandas as pd\n",
        "from mlxtend.frequent_patterns import apriori, association_rules\n",
        "\n",
        "# Get feature names from metadata\n",
        "feature_names = predict_students_dropout_and_academic_success.metadata.features\n",
        "\n",
        "# Features to include in baskets\n",
        "features_to_include = ['Marital_Category', 'Gender_Category',\n",
        "       'Day/Night Attendance_Category', 'Displaced_Category',\n",
        "       'SpecialNeeds_Category', 'Debtor_Category',\n",
        "       'Tuition fees up to date_Category', 'Scholarship holder_Category',\n",
        "       'International_Category', 'Nationality_Category',\n",
        "       'Application_Mode_Category', 'Application_Order_Category',\n",
        "       'Course_Category', 'Previous_qualification_Category',\n",
        "       \"Mother's Qualification_Category\", \"Father's Qualification_Category\",\n",
        "       \"Mother's Occupation_Category\", \"Father's Occupation_Category\",\n",
        "       'Age Group', 'Admission Grade_Category']\n",
        "\n",
        "\n",
        "\n"
      ],
      "metadata": {
        "colab": {
          "base_uri": "https://localhost:8080/"
        },
        "id": "2w0_qPlcPz7E",
        "outputId": "3629af58-1dad-432a-d820-7df84044623f"
      },
      "execution_count": 88,
      "outputs": [
        {
          "output_type": "stream",
          "name": "stderr",
          "text": [
            "/usr/local/lib/python3.10/dist-packages/ipykernel/ipkernel.py:283: DeprecationWarning: `should_run_async` will not call `transform_cell` automatically in the future. Please pass the result to `transformed_cell` argument and any exception that happen during thetransform in `preprocessing_exc_tuple` in IPython 7.17 and above.\n",
            "  and should_run_async(code)\n"
          ]
        }
      ]
    },
    {
      "cell_type": "code",
      "source": [
        "print(df2)"
      ],
      "metadata": {
        "colab": {
          "base_uri": "https://localhost:8080/"
        },
        "id": "fMSWLuYPr4OJ",
        "outputId": "721047ad-1bf8-4be8-b4f4-4439c6efd9ac"
      },
      "execution_count": 89,
      "outputs": [
        {
          "output_type": "stream",
          "name": "stdout",
          "text": [
            "        Target Marital_Category Gender_Category Day/Night Attendance_Category  \\\n",
            "0      Dropout           Single            Male                    Day School   \n",
            "1     Graduate           Single            Male                    Day School   \n",
            "2      Dropout           Single            Male                    Day School   \n",
            "3     Graduate           Single          Female                    Day School   \n",
            "4     Graduate          Married          Female                  Night School   \n",
            "...        ...              ...             ...                           ...   \n",
            "4419  Graduate           Single            Male                    Day School   \n",
            "4420   Dropout           Single          Female                    Day School   \n",
            "4421   Dropout           Single          Female                    Day School   \n",
            "4422  Graduate           Single          Female                    Day School   \n",
            "4423  Graduate           Single          Female                    Day School   \n",
            "\n",
            "     Displaced_Category SpecialNeeds_Category Debtor_Category  \\\n",
            "0                   Yes                    No              No   \n",
            "1                   Yes                    No              No   \n",
            "2                   Yes                    No              No   \n",
            "3                   Yes                    No              No   \n",
            "4                    No                    No              No   \n",
            "...                 ...                   ...             ...   \n",
            "4419                 No                    No              No   \n",
            "4420                Yes                    No             Yes   \n",
            "4421                Yes                    No              No   \n",
            "4422                Yes                    No              No   \n",
            "4423                Yes                    No              No   \n",
            "\n",
            "     Tuition fees up to date_Category Scholarship holder_Category  \\\n",
            "0                                 Yes                          No   \n",
            "1                                  No                          No   \n",
            "2                                  No                          No   \n",
            "3                                 Yes                          No   \n",
            "4                                 Yes                          No   \n",
            "...                               ...                         ...   \n",
            "4419                              Yes                          No   \n",
            "4420                               No                          No   \n",
            "4421                              Yes                         Yes   \n",
            "4422                              Yes                         Yes   \n",
            "4423                              Yes                          No   \n",
            "\n",
            "     International_Category  ... Application_Mode_Category  \\\n",
            "0                        No  ...        General Contingent   \n",
            "1                        No  ...      Other Degree Holders   \n",
            "2                        No  ...        General Contingent   \n",
            "3                        No  ...        General Contingent   \n",
            "4                        No  ...                   Over 23   \n",
            "...                     ...  ...                       ...   \n",
            "4419                     No  ...        General Contingent   \n",
            "4420                    Yes  ...        General Contingent   \n",
            "4421                     No  ...        General Contingent   \n",
            "4422                     No  ...        General Contingent   \n",
            "4423                    Yes  ...         Ordinance Related   \n",
            "\n",
            "     Application_Order_Category           Course_Category  \\\n",
            "0                 Choice 4 to 6         Design/Multimedia   \n",
            "1                  Top 3 Choice                   Tourism   \n",
            "2                 Choice 4 to 6         Design/Multimedia   \n",
            "3                  Top 3 Choice  Journalism/Communication   \n",
            "4                  Top 3 Choice           Social Services   \n",
            "...                         ...                       ...   \n",
            "4419              Choice 4 to 6  Journalism/Communication   \n",
            "4420               Top 3 Choice  Journalism/Communication   \n",
            "4421               Top 3 Choice                Healthcare   \n",
            "4422               Top 3 Choice                Management   \n",
            "4423               Top 3 Choice  Journalism/Communication   \n",
            "\n",
            "             Previous_qualification_Category  \\\n",
            "0     Complete Secondary School or Eqivalent   \n",
            "1     Complete Secondary School or Eqivalent   \n",
            "2     Complete Secondary School or Eqivalent   \n",
            "3     Complete Secondary School or Eqivalent   \n",
            "4     Complete Secondary School or Eqivalent   \n",
            "...                                      ...   \n",
            "4419  Complete Secondary School or Eqivalent   \n",
            "4420  Complete Secondary School or Eqivalent   \n",
            "4421  Complete Secondary School or Eqivalent   \n",
            "4422  Complete Secondary School or Eqivalent   \n",
            "4423  Complete Secondary School or Eqivalent   \n",
            "\n",
            "             Mother's Qualification_Category  \\\n",
            "0      Incomplete Schooling (9th-11th Grade)   \n",
            "1     Complete Secondary School or Eqivalent   \n",
            "2            Basic Education up to 8th Grade   \n",
            "3            Basic Education up to 8th Grade   \n",
            "4            Basic Education up to 8th Grade   \n",
            "...                                      ...   \n",
            "4419  Complete Secondary School or Eqivalent   \n",
            "4420  Complete Secondary School or Eqivalent   \n",
            "4421         Basic Education up to 8th Grade   \n",
            "4422         Basic Education up to 8th Grade   \n",
            "4423         Basic Education up to 8th Grade   \n",
            "\n",
            "             Father's Qualification_Category  \\\n",
            "0      Incomplete Schooling (9th-11th Grade)   \n",
            "1       Higher Education - Bachelor's Degree   \n",
            "2            Basic Education up to 8th Grade   \n",
            "3            Basic Education up to 8th Grade   \n",
            "4            Basic Education up to 8th Grade   \n",
            "...                                      ...   \n",
            "4419  Complete Secondary School or Eqivalent   \n",
            "4420  Complete Secondary School or Eqivalent   \n",
            "4421         Basic Education up to 8th Grade   \n",
            "4422         Basic Education up to 8th Grade   \n",
            "4423         Basic Education up to 8th Grade   \n",
            "\n",
            "             Mother's Occupation_Category Father's Occupation_Category  \\\n",
            "0                       Personal Services            Unskilled Workers   \n",
            "1                Intermediate Professions     Intermediate Professions   \n",
            "2                       Unskilled Workers            Unskilled Workers   \n",
            "3                       Personal Services     Intermediate Professions   \n",
            "4                       Unskilled Workers            Unskilled Workers   \n",
            "...                                   ...                          ...   \n",
            "4419                    Personal Services    Office and Administrative   \n",
            "4420                    Unskilled Workers            Unskilled Workers   \n",
            "4421                    Unskilled Workers            Unskilled Workers   \n",
            "4422  Construction and Electrical Workers    Office and Administrative   \n",
            "4423                    Personal Services            Unskilled Workers   \n",
            "\n",
            "     Age Group Admission Grade_Category  \n",
            "0        17-20                   Medium  \n",
            "1        17-20                Very High  \n",
            "2        17-20                   Medium  \n",
            "3        17-20                      Low  \n",
            "4          40+                Very High  \n",
            "...        ...                      ...  \n",
            "4419     17-20                      Low  \n",
            "4420     17-20                      Low  \n",
            "4421     27-30                Very High  \n",
            "4422     17-20                Very High  \n",
            "4423     21-23                Very High  \n",
            "\n",
            "[4424 rows x 21 columns]\n"
          ]
        },
        {
          "output_type": "stream",
          "name": "stderr",
          "text": [
            "/usr/local/lib/python3.10/dist-packages/ipykernel/ipkernel.py:283: DeprecationWarning: `should_run_async` will not call `transform_cell` automatically in the future. Please pass the result to `transformed_cell` argument and any exception that happen during thetransform in `preprocessing_exc_tuple` in IPython 7.17 and above.\n",
            "  and should_run_async(code)\n"
          ]
        }
      ]
    },
    {
      "cell_type": "code",
      "source": [
        "from mlxtend.frequent_patterns import apriori, association_rules\n",
        "\n",
        "# Generate baskets for df3\n",
        "baskets_df3 = {}\n",
        "for group_name, group_data in df3.groupby('Target'):\n",
        "    basket = group_data[features_to_include].apply(lambda x: ', '.join(str(e) for e in x), axis=1)\n",
        "    baskets_df3[group_name] = basket\n",
        "\n",
        "# Apply Apriori algorithm to each basket in df3\n",
        "for group_name, basket in baskets_df3.items():\n",
        "    print(f\"Applying Apriori algorithm to df3 for group: {group_name}\")\n",
        "    basket_list = basket.str.split(', ')\n",
        "    basket_df = pd.get_dummies(basket_list.apply(pd.Series).stack(), prefix='', prefix_sep='')\n",
        "\n",
        "    # Drop columns with only one value as they won't contribute to frequent itemsets\n",
        "    basket_df = basket_df.loc[:, (basket_df != 0).any(axis=0)]\n",
        "\n",
        "    frequent_itemsets = apriori(basket_df, min_support=0.2, use_colnames=True)\n",
        "    print(\"Frequent Itemsets:\")\n",
        "    print(frequent_itemsets)\n",
        "\n",
        "    rules = association_rules(frequent_itemsets, metric=\"lift\", min_threshold=0.2)\n",
        "    print(\"Association Rules:\")\n",
        "    print(rules)\n",
        "    print(\"\\n\")\n"
      ],
      "metadata": {
        "colab": {
          "base_uri": "https://localhost:8080/"
        },
        "id": "Djt5ughrjmux",
        "outputId": "1669fbee-24ab-45ff-be0d-90a314b3052c"
      },
      "execution_count": 90,
      "outputs": [
        {
          "output_type": "stream",
          "name": "stderr",
          "text": [
            "/usr/local/lib/python3.10/dist-packages/ipykernel/ipkernel.py:283: DeprecationWarning: `should_run_async` will not call `transform_cell` automatically in the future. Please pass the result to `transformed_cell` argument and any exception that happen during thetransform in `preprocessing_exc_tuple` in IPython 7.17 and above.\n",
            "  and should_run_async(code)\n"
          ]
        },
        {
          "output_type": "stream",
          "name": "stdout",
          "text": [
            "Applying Apriori algorithm to df3 for group: Dropout\n",
            "Frequent Itemsets:\n",
            "    support itemsets\n",
            "0  0.225091     (No)\n",
            "Association Rules:\n",
            "Empty DataFrame\n",
            "Columns: [antecedents, consequents, antecedent support, consequent support, support, confidence, lift, leverage, conviction, zhangs_metric]\n",
            "Index: []\n",
            "\n",
            "\n",
            "Applying Apriori algorithm to df3 for group: Enrolled\n",
            "Frequent Itemsets:\n",
            "    support itemsets\n",
            "0  0.209109     (No)\n",
            "Association Rules:\n",
            "Empty DataFrame\n",
            "Columns: [antecedents, consequents, antecedent support, consequent support, support, confidence, lift, leverage, conviction, zhangs_metric]\n",
            "Index: []\n",
            "\n",
            "\n"
          ]
        }
      ]
    },
    {
      "cell_type": "code",
      "source": [
        "from mlxtend.frequent_patterns import apriori, association_rules\n",
        "\n",
        "# Generate baskets for df2\n",
        "baskets_df2 = {}\n",
        "for group_name, group_data in df2.groupby('Target'):\n",
        "    basket = group_data[features_to_include].apply(lambda x: ', '.join(str(e) for e in x), axis=1)\n",
        "    baskets_df2[group_name] = basket\n",
        "\n",
        "# Apply Apriori algorithm to each basket in df2\n",
        "for group_name, basket in baskets_df2.items():\n",
        "    print(f\"Applying Apriori algorithm to df2 for group: {group_name}\")\n",
        "    basket_list = basket.str.split(', ')\n",
        "    basket_df = pd.get_dummies(basket_list.apply(pd.Series).stack(), prefix='', prefix_sep='')\n",
        "\n",
        "    # Drop columns with only one value as they won't contribute to frequent itemsets\n",
        "    basket_df = basket_df.loc[:, (basket_df != 0).any(axis=0)]\n",
        "\n",
        "    frequent_itemsets = apriori(basket_df, min_support=0.2, use_colnames=True)\n",
        "    print(\"Frequent Itemsets:\")\n",
        "    print(frequent_itemsets)\n",
        "\n",
        "    rules = association_rules(frequent_itemsets, metric=\"lift\", min_threshold=0.01)\n",
        "    print(\"Association Rules:\")\n",
        "    print(rules)\n",
        "    print(\"\\n\")\n"
      ],
      "metadata": {
        "colab": {
          "base_uri": "https://localhost:8080/",
          "height": 852
        },
        "id": "iWVsRyMNjg3E",
        "outputId": "e6d290a5-4061-43df-cfb0-8ea5504e48cc"
      },
      "execution_count": 93,
      "outputs": [
        {
          "output_type": "stream",
          "name": "stderr",
          "text": [
            "/usr/local/lib/python3.10/dist-packages/ipykernel/ipkernel.py:283: DeprecationWarning: `should_run_async` will not call `transform_cell` automatically in the future. Please pass the result to `transformed_cell` argument and any exception that happen during thetransform in `preprocessing_exc_tuple` in IPython 7.17 and above.\n",
            "  and should_run_async(code)\n"
          ]
        },
        {
          "output_type": "stream",
          "name": "stdout",
          "text": [
            "Applying Apriori algorithm to df2 for group: Dropout\n",
            "Frequent Itemsets:\n",
            "    support itemsets\n",
            "0  0.225091     (No)\n",
            "Association Rules:\n",
            "Empty DataFrame\n",
            "Columns: [antecedents, consequents, antecedent support, consequent support, support, confidence, lift, leverage, conviction, zhangs_metric]\n",
            "Index: []\n",
            "\n",
            "\n",
            "Applying Apriori algorithm to df2 for group: Enrolled\n",
            "Frequent Itemsets:\n",
            "    support itemsets\n",
            "0  0.209109     (No)\n",
            "Association Rules:\n",
            "Empty DataFrame\n",
            "Columns: [antecedents, consequents, antecedent support, consequent support, support, confidence, lift, leverage, conviction, zhangs_metric]\n",
            "Index: []\n",
            "\n",
            "\n",
            "Applying Apriori algorithm to df2 for group: Graduate\n",
            "Frequent Itemsets:\n",
            "Empty DataFrame\n",
            "Columns: [support, itemsets]\n",
            "Index: []\n"
          ]
        },
        {
          "output_type": "error",
          "ename": "ValueError",
          "evalue": "The input DataFrame `df` containing the frequent itemsets is empty.",
          "traceback": [
            "\u001b[0;31m---------------------------------------------------------------------------\u001b[0m",
            "\u001b[0;31mValueError\u001b[0m                                Traceback (most recent call last)",
            "\u001b[0;32m<ipython-input-93-fb3390a31081>\u001b[0m in \u001b[0;36m<cell line: 10>\u001b[0;34m()\u001b[0m\n\u001b[1;32m     20\u001b[0m     \u001b[0mprint\u001b[0m\u001b[0;34m(\u001b[0m\u001b[0mfrequent_itemsets\u001b[0m\u001b[0;34m)\u001b[0m\u001b[0;34m\u001b[0m\u001b[0;34m\u001b[0m\u001b[0m\n\u001b[1;32m     21\u001b[0m \u001b[0;34m\u001b[0m\u001b[0m\n\u001b[0;32m---> 22\u001b[0;31m     \u001b[0mrules\u001b[0m \u001b[0;34m=\u001b[0m \u001b[0massociation_rules\u001b[0m\u001b[0;34m(\u001b[0m\u001b[0mfrequent_itemsets\u001b[0m\u001b[0;34m,\u001b[0m \u001b[0mmetric\u001b[0m\u001b[0;34m=\u001b[0m\u001b[0;34m\"lift\"\u001b[0m\u001b[0;34m,\u001b[0m \u001b[0mmin_threshold\u001b[0m\u001b[0;34m=\u001b[0m\u001b[0;36m0.01\u001b[0m\u001b[0;34m)\u001b[0m\u001b[0;34m\u001b[0m\u001b[0;34m\u001b[0m\u001b[0m\n\u001b[0m\u001b[1;32m     23\u001b[0m     \u001b[0mprint\u001b[0m\u001b[0;34m(\u001b[0m\u001b[0;34m\"Association Rules:\"\u001b[0m\u001b[0;34m)\u001b[0m\u001b[0;34m\u001b[0m\u001b[0;34m\u001b[0m\u001b[0m\n\u001b[1;32m     24\u001b[0m     \u001b[0mprint\u001b[0m\u001b[0;34m(\u001b[0m\u001b[0mrules\u001b[0m\u001b[0;34m)\u001b[0m\u001b[0;34m\u001b[0m\u001b[0;34m\u001b[0m\u001b[0m\n",
            "\u001b[0;32m/usr/local/lib/python3.10/dist-packages/mlxtend/frequent_patterns/association_rules.py\u001b[0m in \u001b[0;36massociation_rules\u001b[0;34m(df, metric, min_threshold, support_only)\u001b[0m\n\u001b[1;32m     81\u001b[0m     \"\"\"\n\u001b[1;32m     82\u001b[0m     \u001b[0;32mif\u001b[0m \u001b[0;32mnot\u001b[0m \u001b[0mdf\u001b[0m\u001b[0;34m.\u001b[0m\u001b[0mshape\u001b[0m\u001b[0;34m[\u001b[0m\u001b[0;36m0\u001b[0m\u001b[0;34m]\u001b[0m\u001b[0;34m:\u001b[0m\u001b[0;34m\u001b[0m\u001b[0;34m\u001b[0m\u001b[0m\n\u001b[0;32m---> 83\u001b[0;31m         raise ValueError(\n\u001b[0m\u001b[1;32m     84\u001b[0m             \u001b[0;34m\"The input DataFrame `df` containing \"\u001b[0m \u001b[0;34m\"the frequent itemsets is empty.\"\u001b[0m\u001b[0;34m\u001b[0m\u001b[0;34m\u001b[0m\u001b[0m\n\u001b[1;32m     85\u001b[0m         )\n",
            "\u001b[0;31mValueError\u001b[0m: The input DataFrame `df` containing the frequent itemsets is empty."
          ]
        }
      ]
    }
  ]
}