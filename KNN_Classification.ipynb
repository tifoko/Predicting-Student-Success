{
  "nbformat": 4,
  "nbformat_minor": 0,
  "metadata": {
    "colab": {
      "provenance": []
    },
    "kernelspec": {
      "name": "python3",
      "display_name": "Python 3"
    },
    "language_info": {
      "name": "python"
    }
  },
  "cells": [
    {
      "cell_type": "code",
      "execution_count": null,
      "metadata": {
        "colab": {
          "base_uri": "https://localhost:8080/"
        },
        "id": "KVcOyaMR0Q9h",
        "outputId": "d2b3c4c9-c612-41e1-bb7b-856f057a0dae"
      },
      "outputs": [
        {
          "output_type": "stream",
          "name": "stdout",
          "text": [
            "Collecting ucimlrepo\n",
            "  Downloading ucimlrepo-0.0.6-py3-none-any.whl (8.0 kB)\n",
            "Installing collected packages: ucimlrepo\n",
            "Successfully installed ucimlrepo-0.0.6\n"
          ]
        }
      ],
      "source": [
        "pip install ucimlrepo"
      ]
    },
    {
      "cell_type": "code",
      "source": [
        "from ucimlrepo import fetch_ucirepo\n",
        "from mlxtend.frequent_patterns import apriori\n",
        "from mlxtend.frequent_patterns import association_rules\n",
        "import numpy as np\n",
        "import pandas as pd\n",
        "\n",
        "# Fetch dataset\n",
        "predict_students_dropout_and_academic_success = fetch_ucirepo(id=697)\n",
        "\n",
        "# Data (as pandas dataframes)\n",
        "X = predict_students_dropout_and_academic_success.data.features\n",
        "y = predict_students_dropout_and_academic_success.data.targets\n",
        "\n",
        "# Get feature names from metadata\n",
        "feature_names = predict_students_dropout_and_academic_success.metadata.features\n",
        "\n",
        "# Create dataframe for X and y\n",
        "df = pd.DataFrame(data=X, columns=feature_names)\n",
        "df['Target'] = y  # Adding the target variable to the dataframe\n",
        "\n",
        "#make a copy of the dataframe called df2 which will be modified\n",
        "df2 = df.copy()\n",
        "print(df2)"
      ],
      "metadata": {
        "colab": {
          "base_uri": "https://localhost:8080/"
        },
        "id": "No7sn5TL0S2l",
        "outputId": "c3e4c625-9985-415c-e6e9-ff79603f5d04"
      },
      "execution_count": null,
      "outputs": [
        {
          "output_type": "stream",
          "name": "stderr",
          "text": [
            "/usr/local/lib/python3.10/dist-packages/ipykernel/ipkernel.py:283: DeprecationWarning: `should_run_async` will not call `transform_cell` automatically in the future. Please pass the result to `transformed_cell` argument and any exception that happen during thetransform in `preprocessing_exc_tuple` in IPython 7.17 and above.\n",
            "  and should_run_async(code)\n"
          ]
        },
        {
          "output_type": "stream",
          "name": "stdout",
          "text": [
            "      Marital Status  Application mode  Application order  Course  \\\n",
            "0                  1                17                  5     171   \n",
            "1                  1                15                  1    9254   \n",
            "2                  1                 1                  5    9070   \n",
            "3                  1                17                  2    9773   \n",
            "4                  2                39                  1    8014   \n",
            "...              ...               ...                ...     ...   \n",
            "4419               1                 1                  6    9773   \n",
            "4420               1                 1                  2    9773   \n",
            "4421               1                 1                  1    9500   \n",
            "4422               1                 1                  1    9147   \n",
            "4423               1                10                  1    9773   \n",
            "\n",
            "      Daytime/evening attendance  Previous qualification  \\\n",
            "0                              1                       1   \n",
            "1                              1                       1   \n",
            "2                              1                       1   \n",
            "3                              1                       1   \n",
            "4                              0                       1   \n",
            "...                          ...                     ...   \n",
            "4419                           1                       1   \n",
            "4420                           1                       1   \n",
            "4421                           1                       1   \n",
            "4422                           1                       1   \n",
            "4423                           1                       1   \n",
            "\n",
            "      Previous qualification (grade)  Nacionality  Mother's qualification  \\\n",
            "0                              122.0            1                      19   \n",
            "1                              160.0            1                       1   \n",
            "2                              122.0            1                      37   \n",
            "3                              122.0            1                      38   \n",
            "4                              100.0            1                      37   \n",
            "...                              ...          ...                     ...   \n",
            "4419                           125.0            1                       1   \n",
            "4420                           120.0          105                       1   \n",
            "4421                           154.0            1                      37   \n",
            "4422                           180.0            1                      37   \n",
            "4423                           152.0           22                      38   \n",
            "\n",
            "      Father's qualification  ...  Curricular units 2nd sem (credited)  \\\n",
            "0                         12  ...                                    0   \n",
            "1                          3  ...                                    0   \n",
            "2                         37  ...                                    0   \n",
            "3                         37  ...                                    0   \n",
            "4                         38  ...                                    0   \n",
            "...                      ...  ...                                  ...   \n",
            "4419                       1  ...                                    0   \n",
            "4420                       1  ...                                    0   \n",
            "4421                      37  ...                                    0   \n",
            "4422                      37  ...                                    0   \n",
            "4423                      37  ...                                    0   \n",
            "\n",
            "      Curricular units 2nd sem (enrolled)  \\\n",
            "0                                       0   \n",
            "1                                       6   \n",
            "2                                       6   \n",
            "3                                       6   \n",
            "4                                       6   \n",
            "...                                   ...   \n",
            "4419                                    6   \n",
            "4420                                    6   \n",
            "4421                                    8   \n",
            "4422                                    5   \n",
            "4423                                    6   \n",
            "\n",
            "      Curricular units 2nd sem (evaluations)  \\\n",
            "0                                          0   \n",
            "1                                          6   \n",
            "2                                          0   \n",
            "3                                         10   \n",
            "4                                          6   \n",
            "...                                      ...   \n",
            "4419                                       8   \n",
            "4420                                       6   \n",
            "4421                                       9   \n",
            "4422                                       6   \n",
            "4423                                       6   \n",
            "\n",
            "      Curricular units 2nd sem (approved)  Curricular units 2nd sem (grade)  \\\n",
            "0                                       0                          0.000000   \n",
            "1                                       6                         13.666667   \n",
            "2                                       0                          0.000000   \n",
            "3                                       5                         12.400000   \n",
            "4                                       6                         13.000000   \n",
            "...                                   ...                               ...   \n",
            "4419                                    5                         12.666667   \n",
            "4420                                    2                         11.000000   \n",
            "4421                                    1                         13.500000   \n",
            "4422                                    5                         12.000000   \n",
            "4423                                    6                         13.000000   \n",
            "\n",
            "      Curricular units 2nd sem (without evaluations)  Unemployment rate  \\\n",
            "0                                                  0               10.8   \n",
            "1                                                  0               13.9   \n",
            "2                                                  0               10.8   \n",
            "3                                                  0                9.4   \n",
            "4                                                  0               13.9   \n",
            "...                                              ...                ...   \n",
            "4419                                               0               15.5   \n",
            "4420                                               0               11.1   \n",
            "4421                                               0               13.9   \n",
            "4422                                               0                9.4   \n",
            "4423                                               0               12.7   \n",
            "\n",
            "      Inflation rate   GDP    Target  \n",
            "0                1.4  1.74   Dropout  \n",
            "1               -0.3  0.79  Graduate  \n",
            "2                1.4  1.74   Dropout  \n",
            "3               -0.8 -3.12  Graduate  \n",
            "4               -0.3  0.79  Graduate  \n",
            "...              ...   ...       ...  \n",
            "4419             2.8 -4.06  Graduate  \n",
            "4420             0.6  2.02   Dropout  \n",
            "4421            -0.3  0.79   Dropout  \n",
            "4422            -0.8 -3.12  Graduate  \n",
            "4423             3.7 -1.70  Graduate  \n",
            "\n",
            "[4424 rows x 37 columns]\n"
          ]
        }
      ]
    },
    {
      "cell_type": "code",
      "source": [
        "#K nearest means classification\n",
        "from sklearn.neighbors import KNeighborsClassifier\n",
        "from sklearn.model_selection import train_test_split\n",
        "from sklearn.metrics import accuracy_score, classification_report\n",
        "import pandas as pd\n",
        "from ucimlrepo import fetch_ucirepo\n",
        "\n",
        "\n",
        "# Split data into train and test sets\n",
        "X_train, X_test, y_train, y_test = train_test_split(df2.drop('Target', axis=1), df2['Target'], test_size=0.2, random_state=42)\n",
        "\n",
        "\n",
        "# Initialize K-nearest neighbors classifier with k=5\n",
        "knn = KNeighborsClassifier(n_neighbors=5)\n",
        "\n",
        "# Train the classifier\n",
        "knn.fit(X_train, y_train)\n",
        "\n",
        "# Predict on the test set\n",
        "y_pred = knn.predict(X_test)\n",
        "\n",
        "\n"
      ],
      "metadata": {
        "colab": {
          "base_uri": "https://localhost:8080/"
        },
        "id": "DVZXBlx20S_r",
        "outputId": "00133567-60a5-468c-8fdd-28c7700ecc4f"
      },
      "execution_count": null,
      "outputs": [
        {
          "output_type": "stream",
          "name": "stderr",
          "text": [
            "/usr/local/lib/python3.10/dist-packages/ipykernel/ipkernel.py:283: DeprecationWarning: `should_run_async` will not call `transform_cell` automatically in the future. Please pass the result to `transformed_cell` argument and any exception that happen during thetransform in `preprocessing_exc_tuple` in IPython 7.17 and above.\n",
            "  and should_run_async(code)\n"
          ]
        }
      ]
    },
    {
      "cell_type": "code",
      "source": [
        "# Evaluate the classifier\n",
        "\n",
        "accuracy = accuracy_score(y_test, y_pred)\n",
        "print(\"Accuracy of KNN:\", accuracy)\n",
        "\n",
        "# Get classification report\n",
        "print(\"\\nEvaluation of KNN Classifier with Neighbours = 5\")\n",
        "print(classification_report(y_test, y_pred))"
      ],
      "metadata": {
        "colab": {
          "base_uri": "https://localhost:8080/"
        },
        "id": "wGuDBqgq0VQG",
        "outputId": "2f8b6487-2419-4f60-a910-fa80ca41d1be"
      },
      "execution_count": null,
      "outputs": [
        {
          "output_type": "stream",
          "name": "stdout",
          "text": [
            "Accuracy of KNN: 0.6090395480225989\n",
            "\n",
            "Evaluation of KNN Classifier with Neighbours = 5\n",
            "              precision    recall  f1-score   support\n",
            "\n",
            "     Dropout       0.66      0.56      0.60       316\n",
            "    Enrolled       0.36      0.26      0.31       151\n",
            "    Graduate       0.64      0.77      0.70       418\n",
            "\n",
            "    accuracy                           0.61       885\n",
            "   macro avg       0.55      0.53      0.54       885\n",
            "weighted avg       0.60      0.61      0.60       885\n",
            "\n"
          ]
        },
        {
          "output_type": "stream",
          "name": "stderr",
          "text": [
            "/usr/local/lib/python3.10/dist-packages/ipykernel/ipkernel.py:283: DeprecationWarning: `should_run_async` will not call `transform_cell` automatically in the future. Please pass the result to `transformed_cell` argument and any exception that happen during thetransform in `preprocessing_exc_tuple` in IPython 7.17 and above.\n",
            "  and should_run_async(code)\n"
          ]
        }
      ]
    },
    {
      "cell_type": "code",
      "source": [
        "#neighbours 1 - KNN: 0.5649717514124294\n",
        "#neighbours 2 - KNN: 0.5288135593220339\n",
        "#neighbours 3 - KNN: 0.5988700564971752\n",
        "#neighbours 4 - KNN: 0.5853107344632769\n",
        "#neighbours 5 - KNN: 0.6090395480225989\n",
        "#neighbours 6 - KNN: 0.6033898305084746\n",
        "#neighbours 7 - KNN: 0.5966101694915255"
      ],
      "metadata": {
        "id": "_Il2ci2TzU_y"
      },
      "execution_count": null,
      "outputs": []
    }
  ]
}